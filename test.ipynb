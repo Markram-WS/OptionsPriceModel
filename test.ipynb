{
 "cells": [
  {
   "cell_type": "code",
   "execution_count": 2,
   "id": "41c9eaed-4998-47f7-bac2-e20e62bc7821",
   "metadata": {},
   "outputs": [
    {
     "name": "stderr",
     "output_type": "stream",
     "text": [
      "2024-08-07 14:19:50.949265: I external/local_xla/xla/tsl/cuda/cudart_stub.cc:32] Could not find cuda drivers on your machine, GPU will not be used.\n",
      "2024-08-07 14:19:50.952856: I external/local_xla/xla/tsl/cuda/cudart_stub.cc:32] Could not find cuda drivers on your machine, GPU will not be used.\n",
      "2024-08-07 14:19:50.962458: E external/local_xla/xla/stream_executor/cuda/cuda_fft.cc:485] Unable to register cuFFT factory: Attempting to register factory for plugin cuFFT when one has already been registered\n",
      "2024-08-07 14:19:50.980081: E external/local_xla/xla/stream_executor/cuda/cuda_dnn.cc:8454] Unable to register cuDNN factory: Attempting to register factory for plugin cuDNN when one has already been registered\n",
      "2024-08-07 14:19:50.985088: E external/local_xla/xla/stream_executor/cuda/cuda_blas.cc:1452] Unable to register cuBLAS factory: Attempting to register factory for plugin cuBLAS when one has already been registered\n",
      "2024-08-07 14:19:50.998207: I tensorflow/core/platform/cpu_feature_guard.cc:210] This TensorFlow binary is optimized to use available CPU instructions in performance-critical operations.\n",
      "To enable the following instructions: AVX2 FMA, in other operations, rebuild TensorFlow with the appropriate compiler flags.\n",
      "2024-08-07 14:19:52.011335: W tensorflow/compiler/tf2tensorrt/utils/py_utils.cc:38] TF-TRT Warning: Could not find TensorRT\n"
     ]
    }
   ],
   "source": [
    "import tensorflow as tf"
   ]
  },
  {
   "cell_type": "code",
   "execution_count": 1,
   "id": "9fe66001-a8e7-426b-90c2-26cbb6095275",
   "metadata": {},
   "outputs": [],
   "source": [
    "from sklearn.preprocessing import MinMaxScaler"
   ]
  },
  {
   "cell_type": "code",
   "execution_count": 2,
   "id": "bedd1060-1a13-487a-9e30-3e23bb74ab77",
   "metadata": {},
   "outputs": [],
   "source": [
    "a = MinMaxScaler()"
   ]
  },
  {
   "cell_type": "code",
   "execution_count": 17,
   "id": "0e27903a-fb0e-4ff0-9324-4259256f9983",
   "metadata": {},
   "outputs": [
    {
     "data": {
      "text/plain": [
       "'MinMaxScaler()'"
      ]
     },
     "execution_count": 17,
     "metadata": {},
     "output_type": "execute_result"
    }
   ],
   "source": []
  },
  {
   "cell_type": "code",
   "execution_count": 88,
   "id": "85764edb-cb01-4401-ba69-472fd9691ab7",
   "metadata": {},
   "outputs": [
    {
     "data": {
      "text/plain": [
       "<tf.Tensor: shape=(6, 2), dtype=float32, numpy=\n",
       "array([[0., 0.],\n",
       "       [1., 2.],\n",
       "       [3., 4.],\n",
       "       [0., 6.],\n",
       "       [7., 8.],\n",
       "       [0., 0.]], dtype=float32)>"
      ]
     },
     "execution_count": 88,
     "metadata": {},
     "output_type": "execute_result"
    }
   ],
   "source": [
    "matrix = tf.constant([\n",
    "    [0,0],\n",
    "    [1,2],\n",
    "    [3,4],\n",
    "    [0,6],\n",
    "    [7,8],\n",
    "    [0,0],\n",
    "], dtype=tf.float32)\n",
    "matrix"
   ]
  },
  {
   "cell_type": "code",
   "execution_count": 91,
   "id": "4088ccee-5e06-4a62-a604-ef5fc5eb06b4",
   "metadata": {},
   "outputs": [
    {
     "data": {
      "text/plain": [
       "<tf.Tensor: shape=(6,), dtype=bool, numpy=array([ True, False, False,  True, False,  True])>"
      ]
     },
     "execution_count": 91,
     "metadata": {},
     "output_type": "execute_result"
    }
   ],
   "source": [
    "mask = tf.less_equal(matrix[:, 0], 0)\n",
    "mask"
   ]
  },
  {
   "cell_type": "code",
   "execution_count": 92,
   "id": "4e51e708-a351-49a5-a717-3220fd010cfd",
   "metadata": {},
   "outputs": [
    {
     "data": {
      "text/plain": [
       "<tf.Tensor: shape=(3, 2), dtype=float32, numpy=\n",
       "array([[0., 0.],\n",
       "       [0., 6.],\n",
       "       [0., 0.]], dtype=float32)>"
      ]
     },
     "execution_count": 92,
     "metadata": {},
     "output_type": "execute_result"
    }
   ],
   "source": [
    "filtered_tensor= tf.boolean_mask(matrix, mask)\n",
    "filtered_tensor"
   ]
  },
  {
   "cell_type": "code",
   "execution_count": 82,
   "id": "a35054c8-5596-4bf9-8563-96e4bd2e507c",
   "metadata": {},
   "outputs": [
    {
     "ename": "SyntaxError",
     "evalue": "invalid syntax (609749174.py, line 1)",
     "output_type": "error",
     "traceback": [
      "\u001b[0;36m  Cell \u001b[0;32mIn[82], line 1\u001b[0;36m\u001b[0m\n\u001b[0;31m    =====================================\u001b[0m\n\u001b[0m    ^\u001b[0m\n\u001b[0;31mSyntaxError\u001b[0m\u001b[0;31m:\u001b[0m invalid syntax\n"
     ]
    }
   ],
   "source": [
    "====================================="
   ]
  },
  {
   "cell_type": "code",
   "execution_count": 28,
   "id": "54da57fe-12a2-4913-827e-31de749f1caf",
   "metadata": {},
   "outputs": [
    {
     "data": {
      "text/plain": [
       "<tf.Tensor: shape=(2, 3), dtype=float32, numpy=\n",
       "array([[1., 2., 3.],\n",
       "       [4., 5., 6.]], dtype=float32)>"
      ]
     },
     "execution_count": 28,
     "metadata": {},
     "output_type": "execute_result"
    }
   ],
   "source": [
    "# Create a boolean mask where the first element of each row is not zero\n",
    "mask = tf.not_equal(matrix, 0)\n",
    "\n",
    "# Apply the mask to select rows\n",
    "filtered_tensor = tf.boolean_mask(matrix, mask)\n",
    "filtered_tensor[:-1]"
   ]
  },
  {
   "cell_type": "code",
   "execution_count": 29,
   "id": "689e6ca2-d16c-4d96-9cde-7ce12576bf4b",
   "metadata": {},
   "outputs": [
    {
     "data": {
      "text/plain": [
       "<tf.Tensor: shape=(2, 3), dtype=float32, numpy=\n",
       "array([[4., 5., 6.],\n",
       "       [7., 8., 9.]], dtype=float32)>"
      ]
     },
     "execution_count": 29,
     "metadata": {},
     "output_type": "execute_result"
    }
   ],
   "source": [
    "filtered_tensor_roll = tf.roll(filtered_tensor, shift=-1, axis=0)\n",
    "filtered_tensor_roll[:-1]"
   ]
  },
  {
   "cell_type": "code",
   "execution_count": 30,
   "id": "550b08b1-47ff-47ff-9f32-f4f6d03c15db",
   "metadata": {},
   "outputs": [
    {
     "data": {
      "text/plain": [
       "<tf.Tensor: shape=(2, 3), dtype=float32, numpy=\n",
       "array([[3., 3., 3.],\n",
       "       [3., 3., 3.]], dtype=float32)>"
      ]
     },
     "execution_count": 30,
     "metadata": {},
     "output_type": "execute_result"
    }
   ],
   "source": [
    "difference =  - \n",
    "difference"
   ]
  },
  {
   "cell_type": "code",
   "execution_count": 36,
   "id": "24620195-c70b-4db1-a109-db0092438c64",
   "metadata": {},
   "outputs": [
    {
     "data": {
      "text/plain": [
       "<tf.Tensor: shape=(2, 3), dtype=float32, numpy=\n",
       "array([[4., 5., 6.],\n",
       "       [7., 8., 9.]], dtype=float32)>"
      ]
     },
     "execution_count": 36,
     "metadata": {},
     "output_type": "execute_result"
    }
   ],
   "source": [
    "#call filtered_tensor > filtered_tensor_roll\n",
    "difference = tf.maximum( filtered_tensor_roll[:-1],filtered_tensor[:-1] , 0.0)\n",
    "difference"
   ]
  },
  {
   "cell_type": "code",
   "execution_count": 35,
   "id": "24f49e4d-b474-4691-af22-2accacb55e06",
   "metadata": {},
   "outputs": [
    {
     "data": {
      "text/plain": [
       "<tf.Tensor: shape=(2, 3), dtype=float32, numpy=\n",
       "array([[0., 0., 0.],\n",
       "       [0., 0., 0.]], dtype=float32)>"
      ]
     },
     "execution_count": 35,
     "metadata": {},
     "output_type": "execute_result"
    }
   ],
   "source": [
    "#put filtered_tensor_roll > filtered_tensor\n",
    "difference = tf.maximum( filtered_tensor[:-1] - filtered_tensor_roll[:-1] , 0.0)\n",
    "difference"
   ]
  },
  {
   "cell_type": "code",
   "execution_count": null,
   "id": "a2724b70-78ec-42ca-89df-a43765093dc5",
   "metadata": {},
   "outputs": [],
   "source": []
  }
 ],
 "metadata": {
  "kernelspec": {
   "display_name": "Python 3 (ipykernel)",
   "language": "python",
   "name": "python3"
  },
  "language_info": {
   "codemirror_mode": {
    "name": "ipython",
    "version": 3
   },
   "file_extension": ".py",
   "mimetype": "text/x-python",
   "name": "python",
   "nbconvert_exporter": "python",
   "pygments_lexer": "ipython3",
   "version": "3.11.0rc1"
  }
 },
 "nbformat": 4,
 "nbformat_minor": 5
}
