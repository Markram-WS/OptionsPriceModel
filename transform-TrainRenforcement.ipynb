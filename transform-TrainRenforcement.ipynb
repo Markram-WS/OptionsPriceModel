{
 "cells": [
  {
   "cell_type": "code",
   "execution_count": null,
   "metadata": {},
   "outputs": [],
   "source": [
    "#input must be options chain day1 - end"
   ]
  },
  {
   "cell_type": "code",
   "execution_count": null,
   "metadata": {},
   "outputs": [],
   "source": [
    "!pip install python-dotenv\n",
    "!pip install duckdb\n",
    "!pip install tqdm\n",
    "!pip install minio"
   ]
  },
  {
   "cell_type": "code",
   "execution_count": 2,
   "metadata": {},
   "outputs": [],
   "source": [
    "import os,h5py\n",
    "import numpy as np\n",
    "import pandas as pd\n",
    "import pyarrow as pa\n",
    "import pyarrow.parquet as pq\n",
    "from sklearn.model_selection import train_test_split\n",
    "from sklearn.preprocessing import MinMaxScaler,StandardScaler\n",
    "from IPython.display import clear_output\n",
    "import joblib\n",
    "import random\n",
    "import hashlib\n",
    "from src.wgangp.utils import Scaler\n",
    "from IPython.utils import io\n"
   ]
  },
  {
   "cell_type": "code",
   "execution_count": 3,
   "metadata": {},
   "outputs": [],
   "source": [
    "# from tqdm import tqdm\n",
    "from tqdm.notebook import tqdm"
   ]
  },
  {
   "cell_type": "code",
   "execution_count": null,
   "metadata": {},
   "outputs": [],
   "source": [
    "========================="
   ]
  },
  {
   "cell_type": "code",
   "execution_count": 3,
   "metadata": {},
   "outputs": [],
   "source": [
    "CSV_PATH     = './data/OptionsEOD.csv/'\n",
    "#create @ part 1\n",
    "PARQUET_PATH = './data/OptionsEOD.parquet'\n",
    "#create @ part 2\n",
    "PARQUET_STG_PATH = './data/OptionsEOD_STG.parquet'\n",
    "SCALER_COL  = [ 'UNDERLYING_LAST','STRIKE','STRIKE_DISTANCE','INTRINSIC_VALUE','DTE','C_VEGA','P_VEGA',\t'C_BID',\t'C_ASK', 'C_VOLUME',  'P_BID',\t'P_ASK', 'P_VOLUME' ]\n",
    "#create @ part 3\n",
    "OTHER_COL = ['SYMBOL','QUOTE_UNIXTIME', 'EXPIRE_UNIX']\n",
    "\n",
    "export_dtype = {\n",
    "    'SYMBOL':str,\n",
    "    'QUOTE_UNIXTIME':int,\n",
    "    'EXPIRE_UNIX':int,\n",
    "    'UNDERLYING_LAST':float,\n",
    "    'STRIKE':float,\n",
    "    'STRIKE_DISTANCE':float,\n",
    "    'INTRINSIC_VALUE':float,\n",
    "    'DTE':float,\n",
    "    'C_VEGA':float,\n",
    "    'P_VEGA':float,\t\n",
    "    'C_BID':float,\t\n",
    "    'C_ASK':float, \n",
    "    'C_VOLUME':float,  \n",
    "    'P_BID':float,\t\n",
    "    'P_ASK':float, \n",
    "    'P_VOLUME':float\n",
    "}\n",
    "\n",
    "QUOTE_COL = ['C_BID',\t'C_ASK',  'P_BID',\t'P_ASK']\n",
    "VEGA_COL =  [\"C_VEGA\",\"P_VEGA\"] \n",
    "VOLUME_COL =  [\"TOTAL_VOLUME\",\"C_VOLUME\",\"P_VOLUME\"] \n",
    "\n",
    "SCALER_QUOTE_COL_INDEX = [i for i,v in enumerate(SCALER_COL) if v in QUOTE_COL]\n",
    "SCALER_VEGA_COL_INDEX = [i for i,v in enumerate(SCALER_COL) if v in VEGA_COL]\n",
    "SCALER_VOLUME_COL_INDEX = [i for i,v in enumerate(SCALER_COL) if v in VOLUME_COL]\n",
    "SCALER_OTHER_COL_INDEX = [i for i,v in enumerate(SCALER_COL) if v not in QUOTE_COL+VEGA_COL+VOLUME_COL ]\n",
    "\n",
    "\n",
    "UNIQUE_KEYS = ['SYMBOL','EXPIRE_DATE']\n",
    "H5_PATH = './data/OptTrainRenforcement/'\n",
    "START = True#True#'2010-09'#True\n",
    "BUCKET = 'tensorflow'\n",
    "\n",
    "MAX_OPTIONS_LEN = 16\n",
    "RM_STRIKE_ = 2\n",
    "#==== Create options_qoute\n",
    "options_qoute = {}"
   ]
  },
  {
   "cell_type": "code",
   "execution_count": 4,
   "metadata": {},
   "outputs": [
    {
     "data": {
      "text/plain": [
       "<duckdb.duckdb.DuckDBPyConnection at 0x7fe4a1a8ae30>"
      ]
     },
     "execution_count": 4,
     "metadata": {},
     "output_type": "execute_result"
    }
   ],
   "source": [
    "from dotenv import load_dotenv\n",
    "# Load environment variables from .env file\n",
    "load_dotenv()  # By default, it loads the .env file from the current directory\n",
    "import duckdb\n",
    "con = duckdb.connect(database=':memory:')\n",
    "con.execute(f\"\"\"\n",
    "CREATE SECRET secretMinioProd (\n",
    "    TYPE S3,\n",
    "    KEY_ID '{os.getenv('MINIO_USER')}',\n",
    "    SECRET '{os.getenv('MINIO_SECRET')}',\n",
    "    ENDPOINT '{os.getenv('MINIO_HOST')}',\n",
    "    USE_SSL 'false',\n",
    "    URL_STYLE 'path'\n",
    ");\n",
    "\"\"\")"
   ]
  },
  {
   "cell_type": "code",
   "execution_count": 5,
   "metadata": {},
   "outputs": [],
   "source": [
    "def strikeZero(df,v,qv,num_rm):   \n",
    "    # First, filter based on QUOTE_DATE, SYMBOL, and EXPIRE_DATE\n",
    "    filtered_arr = df[(df['QUOTE_DATE'] == qv['QUOTE_DATE']) &\n",
    "                     (df['SYMBOL'] == v['SYMBOL']) &\n",
    "                     (df['EXPIRE_DATE'] == v['EXPIRE_DATE'])]['STRIKE'].values\n",
    "    \n",
    "    if num_rm != 0 :\n",
    "        df.loc[ (df['QUOTE_DATE'] == qv['QUOTE_DATE']) \n",
    "                & (df['SYMBOL'] == v['SYMBOL']) \n",
    "                & (df['EXPIRE_DATE'] == v['EXPIRE_DATE'])\n",
    "                & (  (df['STRIKE'].isin(filtered_arr[:num_rm])  )\n",
    "                   | (df['STRIKE'].isin(filtered_arr[-num_rm:])   )\n",
    "                  ) \n",
    "            , SCALER_COL    \n",
    "        ] = 0"
   ]
  },
  {
   "cell_type": "code",
   "execution_count": 6,
   "metadata": {},
   "outputs": [],
   "source": [
    "#============ example ==================="
   ]
  },
  {
   "cell_type": "code",
   "execution_count": 7,
   "metadata": {},
   "outputs": [],
   "source": [
    "# EOD_CSV = pd.read_csv(CSV_PATH+\"qqq/qqq_eod_201201.txt\", engine='pyarrow')\n",
    "# EOD_CSV.head()"
   ]
  },
  {
   "cell_type": "code",
   "execution_count": 8,
   "metadata": {},
   "outputs": [],
   "source": [
    "#==================================Create OptionsEOD.parquet part 1========================================"
   ]
  },
  {
   "cell_type": "code",
   "execution_count": 9,
   "metadata": {},
   "outputs": [
    {
     "name": "stdout",
     "output_type": "stream",
     "text": [
      "[0/3] : qqq                           \n"
     ]
    },
    {
     "data": {
      "application/vnd.jupyter.widget-view+json": {
       "model_id": "8b3189cf61554676a8f071cc716a5f82",
       "version_major": 2,
       "version_minor": 0
      },
      "text/plain": [
       "  0%|          | 0/142 [00:00<?, ?it/s]"
      ]
     },
     "metadata": {},
     "output_type": "display_data"
    },
    {
     "data": {
      "application/vnd.jupyter.widget-view+json": {
       "model_id": "58c35aa540854f16b77d074948e6006b",
       "version_major": 2,
       "version_minor": 0
      },
      "text/plain": [
       "files progressive:   0%|          | 0/20 [00:00<?, ?it/s]"
      ]
     },
     "metadata": {},
     "output_type": "display_data"
    },
    {
     "name": "stdout",
     "output_type": "stream",
     "text": [
      "SYMBOL : QQQ | EXPIRE_DATE : 2014-12-19              \r"
     ]
    },
    {
     "data": {
      "application/vnd.jupyter.widget-view+json": {
       "model_id": "41188e04105d4f18a34e3dc5faa891bf",
       "version_major": 2,
       "version_minor": 0
      },
      "text/plain": [
       "files progressive:   0%|          | 0/18 [00:00<?, ?it/s]"
      ]
     },
     "metadata": {},
     "output_type": "display_data"
    },
    {
     "name": "stdout",
     "output_type": "stream",
     "text": [
      "SYMBOL : QQQ | EXPIRE_DATE : 2014-12-19              \r"
     ]
    },
    {
     "data": {
      "application/vnd.jupyter.widget-view+json": {
       "model_id": "8c006002595945fb9c69be4d85fce216",
       "version_major": 2,
       "version_minor": 0
      },
      "text/plain": [
       "files progressive:   0%|          | 0/19 [00:00<?, ?it/s]"
      ]
     },
     "metadata": {},
     "output_type": "display_data"
    },
    {
     "name": "stdout",
     "output_type": "stream",
     "text": [
      "SYMBOL : QQQ | EXPIRE_DATE : 2014-12-19              \r"
     ]
    },
    {
     "data": {
      "application/vnd.jupyter.widget-view+json": {
       "model_id": "6102fdd9903841dba1da8629dae2b772",
       "version_major": 2,
       "version_minor": 0
      },
      "text/plain": [
       "files progressive:   0%|          | 0/19 [00:00<?, ?it/s]"
      ]
     },
     "metadata": {},
     "output_type": "display_data"
    },
    {
     "name": "stdout",
     "output_type": "stream",
     "text": [
      "SYMBOL : QQQ | EXPIRE_DATE : 2014-12-19              \r"
     ]
    },
    {
     "data": {
      "application/vnd.jupyter.widget-view+json": {
       "model_id": "0ca26ecc82af40eb8dbb8867df4c7449",
       "version_major": 2,
       "version_minor": 0
      },
      "text/plain": [
       "files progressive:   0%|          | 0/19 [00:00<?, ?it/s]"
      ]
     },
     "metadata": {},
     "output_type": "display_data"
    },
    {
     "name": "stdout",
     "output_type": "stream",
     "text": [
      "SYMBOL : QQQ | EXPIRE_DATE : 2014-12-19              \r"
     ]
    },
    {
     "data": {
      "application/vnd.jupyter.widget-view+json": {
       "model_id": "e27f5c8c0626456698a47470eec001fc",
       "version_major": 2,
       "version_minor": 0
      },
      "text/plain": [
       "files progressive:   0%|          | 0/18 [00:00<?, ?it/s]"
      ]
     },
     "metadata": {},
     "output_type": "display_data"
    },
    {
     "name": "stdout",
     "output_type": "stream",
     "text": [
      "SYMBOL : QQQ | EXPIRE_DATE : 2014-12-19              \r"
     ]
    },
    {
     "data": {
      "application/vnd.jupyter.widget-view+json": {
       "model_id": "1f2d28077f8f4a808378250d08a1d145",
       "version_major": 2,
       "version_minor": 0
      },
      "text/plain": [
       "files progressive:   0%|          | 0/18 [00:00<?, ?it/s]"
      ]
     },
     "metadata": {},
     "output_type": "display_data"
    },
    {
     "name": "stdout",
     "output_type": "stream",
     "text": [
      "SYMBOL : QQQ | EXPIRE_DATE : 2014-12-19              \r"
     ]
    },
    {
     "data": {
      "application/vnd.jupyter.widget-view+json": {
       "model_id": "59ad224aefdb461294ff4ec2b4256de2",
       "version_major": 2,
       "version_minor": 0
      },
      "text/plain": [
       "files progressive:   0%|          | 0/19 [00:00<?, ?it/s]"
      ]
     },
     "metadata": {},
     "output_type": "display_data"
    },
    {
     "name": "stdout",
     "output_type": "stream",
     "text": [
      "SYMBOL : QQQ | EXPIRE_DATE : 2014-12-19              \r"
     ]
    },
    {
     "data": {
      "application/vnd.jupyter.widget-view+json": {
       "model_id": "e1be5c3d59cc4d35baca7959c1c157c0",
       "version_major": 2,
       "version_minor": 0
      },
      "text/plain": [
       "files progressive:   0%|          | 0/16 [00:00<?, ?it/s]"
      ]
     },
     "metadata": {},
     "output_type": "display_data"
    },
    {
     "name": "stdout",
     "output_type": "stream",
     "text": [
      "SYMBOL : QQQ | EXPIRE_DATE : 2014-12-19              \r"
     ]
    },
    {
     "data": {
      "application/vnd.jupyter.widget-view+json": {
       "model_id": "b419b6e059054e7d893e0037ebb5ea0a",
       "version_major": 2,
       "version_minor": 0
      },
      "text/plain": [
       "files progressive:   0%|          | 0/17 [00:00<?, ?it/s]"
      ]
     },
     "metadata": {},
     "output_type": "display_data"
    },
    {
     "name": "stdout",
     "output_type": "stream",
     "text": [
      "SYMBOL : QQQ | EXPIRE_DATE : 2014-12-19              \r"
     ]
    },
    {
     "data": {
      "application/vnd.jupyter.widget-view+json": {
       "model_id": "1671501e1064411e8b44b1809508e005",
       "version_major": 2,
       "version_minor": 0
      },
      "text/plain": [
       "files progressive:   0%|          | 0/22 [00:00<?, ?it/s]"
      ]
     },
     "metadata": {},
     "output_type": "display_data"
    },
    {
     "name": "stdout",
     "output_type": "stream",
     "text": [
      "SYMBOL : QQQ | EXPIRE_DATE : 2015-01-16              \r"
     ]
    },
    {
     "data": {
      "application/vnd.jupyter.widget-view+json": {
       "model_id": "d08b0c75625a4c2cbd8b8bc79d4e953e",
       "version_major": 2,
       "version_minor": 0
      },
      "text/plain": [
       "files progressive:   0%|          | 0/22 [00:00<?, ?it/s]"
      ]
     },
     "metadata": {},
     "output_type": "display_data"
    },
    {
     "name": "stdout",
     "output_type": "stream",
     "text": [
      "SYMBOL : QQQ | EXPIRE_DATE : 2015-01-16              \r"
     ]
    },
    {
     "data": {
      "application/vnd.jupyter.widget-view+json": {
       "model_id": "2fe1a01158854d16b1ed76fc344dea9b",
       "version_major": 2,
       "version_minor": 0
      },
      "text/plain": [
       "files progressive:   0%|          | 0/23 [00:00<?, ?it/s]"
      ]
     },
     "metadata": {},
     "output_type": "display_data"
    },
    {
     "name": "stdout",
     "output_type": "stream",
     "text": [
      "SYMBOL : QQQ | EXPIRE_DATE : 2015-01-16              \r"
     ]
    },
    {
     "data": {
      "application/vnd.jupyter.widget-view+json": {
       "model_id": "7ed2644c6b384c7cbe349628d632a666",
       "version_major": 2,
       "version_minor": 0
      },
      "text/plain": [
       "files progressive:   0%|          | 0/22 [00:00<?, ?it/s]"
      ]
     },
     "metadata": {},
     "output_type": "display_data"
    },
    {
     "name": "stdout",
     "output_type": "stream",
     "text": [
      "SYMBOL : QQQ | EXPIRE_DATE : 2015-01-16              \r"
     ]
    },
    {
     "data": {
      "application/vnd.jupyter.widget-view+json": {
       "model_id": "d30757e3c82b48ee8dae7069d4bcc493",
       "version_major": 2,
       "version_minor": 0
      },
      "text/plain": [
       "files progressive:   0%|          | 0/21 [00:00<?, ?it/s]"
      ]
     },
     "metadata": {},
     "output_type": "display_data"
    },
    {
     "name": "stdout",
     "output_type": "stream",
     "text": [
      "SYMBOL : QQQ | EXPIRE_DATE : 2015-01-16              \r"
     ]
    },
    {
     "data": {
      "application/vnd.jupyter.widget-view+json": {
       "model_id": "34b294e9f45243ddb63a3584b09dcd32",
       "version_major": 2,
       "version_minor": 0
      },
      "text/plain": [
       "files progressive:   0%|          | 0/22 [00:00<?, ?it/s]"
      ]
     },
     "metadata": {},
     "output_type": "display_data"
    },
    {
     "name": "stdout",
     "output_type": "stream",
     "text": [
      "SYMBOL : QQQ | EXPIRE_DATE : 2015-01-16              \r"
     ]
    },
    {
     "data": {
      "application/vnd.jupyter.widget-view+json": {
       "model_id": "2dbb0d11212b411eb9825c3958d87433",
       "version_major": 2,
       "version_minor": 0
      },
      "text/plain": [
       "files progressive:   0%|          | 0/21 [00:00<?, ?it/s]"
      ]
     },
     "metadata": {},
     "output_type": "display_data"
    },
    {
     "name": "stdout",
     "output_type": "stream",
     "text": [
      "SYMBOL : QQQ | EXPIRE_DATE : 2015-01-16              \r"
     ]
    },
    {
     "data": {
      "application/vnd.jupyter.widget-view+json": {
       "model_id": "95622601ba18427493ade837e8e46803",
       "version_major": 2,
       "version_minor": 0
      },
      "text/plain": [
       "files progressive:   0%|          | 0/20 [00:00<?, ?it/s]"
      ]
     },
     "metadata": {},
     "output_type": "display_data"
    },
    {
     "name": "stdout",
     "output_type": "stream",
     "text": [
      "SYMBOL : QQQ | EXPIRE_DATE : 2015-01-16              \r"
     ]
    },
    {
     "data": {
      "application/vnd.jupyter.widget-view+json": {
       "model_id": "f146aa661f2648dab04b8fe5ef386c3f",
       "version_major": 2,
       "version_minor": 0
      },
      "text/plain": [
       "files progressive:   0%|          | 0/21 [00:00<?, ?it/s]"
      ]
     },
     "metadata": {},
     "output_type": "display_data"
    },
    {
     "name": "stdout",
     "output_type": "stream",
     "text": [
      "SYMBOL : QQQ | EXPIRE_DATE : 2015-01-16              \r"
     ]
    },
    {
     "data": {
      "application/vnd.jupyter.widget-view+json": {
       "model_id": "808c3f8f853d4abe90eaf483f808476f",
       "version_major": 2,
       "version_minor": 0
      },
      "text/plain": [
       "files progressive:   0%|          | 0/22 [00:00<?, ?it/s]"
      ]
     },
     "metadata": {},
     "output_type": "display_data"
    },
    {
     "name": "stdout",
     "output_type": "stream",
     "text": [
      "SYMBOL : QQQ | EXPIRE_DATE : 2015-01-16              \r"
     ]
    },
    {
     "data": {
      "application/vnd.jupyter.widget-view+json": {
       "model_id": "4bbffbb9ac8c45c89cc8d57a70986b4b",
       "version_major": 2,
       "version_minor": 0
      },
      "text/plain": [
       "files progressive:   0%|          | 0/20 [00:00<?, ?it/s]"
      ]
     },
     "metadata": {},
     "output_type": "display_data"
    },
    {
     "name": "stdout",
     "output_type": "stream",
     "text": [
      "SYMBOL : QQQ | EXPIRE_DATE : 2015-01-16              \r"
     ]
    },
    {
     "data": {
      "application/vnd.jupyter.widget-view+json": {
       "model_id": "aee0af3040c5464bbb5b1da9ddf5ad60",
       "version_major": 2,
       "version_minor": 0
      },
      "text/plain": [
       "files progressive:   0%|          | 0/21 [00:00<?, ?it/s]"
      ]
     },
     "metadata": {},
     "output_type": "display_data"
    },
    {
     "name": "stdout",
     "output_type": "stream",
     "text": [
      "SYMBOL : QQQ | EXPIRE_DATE : 2015-01-16              \r"
     ]
    },
    {
     "data": {
      "application/vnd.jupyter.widget-view+json": {
       "model_id": "7cbe602324ec4e41a5bf4054cea70c9a",
       "version_major": 2,
       "version_minor": 0
      },
      "text/plain": [
       "files progressive:   0%|          | 0/23 [00:00<?, ?it/s]"
      ]
     },
     "metadata": {},
     "output_type": "display_data"
    },
    {
     "name": "stdout",
     "output_type": "stream",
     "text": [
      "SYMBOL : QQQ | EXPIRE_DATE : 2016-01-15              \r"
     ]
    },
    {
     "data": {
      "application/vnd.jupyter.widget-view+json": {
       "model_id": "bf3a67c9d2474e23b4bc4d19221852b3",
       "version_major": 2,
       "version_minor": 0
      },
      "text/plain": [
       "files progressive:   0%|          | 0/23 [00:00<?, ?it/s]"
      ]
     },
     "metadata": {},
     "output_type": "display_data"
    },
    {
     "name": "stdout",
     "output_type": "stream",
     "text": [
      "SYMBOL : QQQ | EXPIRE_DATE : 2016-01-15              \r"
     ]
    },
    {
     "data": {
      "application/vnd.jupyter.widget-view+json": {
       "model_id": "5cd8a6681c26417b981388021ea224ac",
       "version_major": 2,
       "version_minor": 0
      },
      "text/plain": [
       "files progressive:   0%|          | 0/26 [00:00<?, ?it/s]"
      ]
     },
     "metadata": {},
     "output_type": "display_data"
    },
    {
     "name": "stdout",
     "output_type": "stream",
     "text": [
      "SYMBOL : QQQ | EXPIRE_DATE : 2016-01-15              \r"
     ]
    },
    {
     "data": {
      "application/vnd.jupyter.widget-view+json": {
       "model_id": "0549c1ce339740da8f40537a13d3e18f",
       "version_major": 2,
       "version_minor": 0
      },
      "text/plain": [
       "files progressive:   0%|          | 0/27 [00:00<?, ?it/s]"
      ]
     },
     "metadata": {},
     "output_type": "display_data"
    },
    {
     "name": "stdout",
     "output_type": "stream",
     "text": [
      "SYMBOL : QQQ | EXPIRE_DATE : 2016-01-15              \r"
     ]
    },
    {
     "data": {
      "application/vnd.jupyter.widget-view+json": {
       "model_id": "3dd00a4441a84313ada0a96ed8e245dd",
       "version_major": 2,
       "version_minor": 0
      },
      "text/plain": [
       "files progressive:   0%|          | 0/27 [00:00<?, ?it/s]"
      ]
     },
     "metadata": {},
     "output_type": "display_data"
    },
    {
     "name": "stdout",
     "output_type": "stream",
     "text": [
      "SYMBOL : QQQ | EXPIRE_DATE : 2016-01-15              \r"
     ]
    },
    {
     "data": {
      "application/vnd.jupyter.widget-view+json": {
       "model_id": "6e7bb6cbc1ae4d82986397c1a916192d",
       "version_major": 2,
       "version_minor": 0
      },
      "text/plain": [
       "files progressive:   0%|          | 0/23 [00:00<?, ?it/s]"
      ]
     },
     "metadata": {},
     "output_type": "display_data"
    },
    {
     "name": "stdout",
     "output_type": "stream",
     "text": [
      "SYMBOL : QQQ | EXPIRE_DATE : 2016-01-15              \r"
     ]
    },
    {
     "data": {
      "application/vnd.jupyter.widget-view+json": {
       "model_id": "49ab39c8112748e6b6058853481555f6",
       "version_major": 2,
       "version_minor": 0
      },
      "text/plain": [
       "files progressive:   0%|          | 0/24 [00:00<?, ?it/s]"
      ]
     },
     "metadata": {},
     "output_type": "display_data"
    },
    {
     "name": "stdout",
     "output_type": "stream",
     "text": [
      "SYMBOL : QQQ | EXPIRE_DATE : 2016-01-15              \r"
     ]
    },
    {
     "data": {
      "application/vnd.jupyter.widget-view+json": {
       "model_id": "6352797b60a243f4a88e514149c92c88",
       "version_major": 2,
       "version_minor": 0
      },
      "text/plain": [
       "files progressive:   0%|          | 0/23 [00:00<?, ?it/s]"
      ]
     },
     "metadata": {},
     "output_type": "display_data"
    },
    {
     "name": "stdout",
     "output_type": "stream",
     "text": [
      "SYMBOL : QQQ | EXPIRE_DATE : 2016-01-15              \r"
     ]
    },
    {
     "data": {
      "application/vnd.jupyter.widget-view+json": {
       "model_id": "cabba0542f7b46d2b579ad5fdd70281a",
       "version_major": 2,
       "version_minor": 0
      },
      "text/plain": [
       "files progressive:   0%|          | 0/24 [00:00<?, ?it/s]"
      ]
     },
     "metadata": {},
     "output_type": "display_data"
    },
    {
     "name": "stdout",
     "output_type": "stream",
     "text": [
      "SYMBOL : QQQ | EXPIRE_DATE : 2016-01-15              \r"
     ]
    },
    {
     "data": {
      "application/vnd.jupyter.widget-view+json": {
       "model_id": "7015c5b2af62489d81c5065a27ff15f1",
       "version_major": 2,
       "version_minor": 0
      },
      "text/plain": [
       "files progressive:   0%|          | 0/23 [00:00<?, ?it/s]"
      ]
     },
     "metadata": {},
     "output_type": "display_data"
    },
    {
     "name": "stdout",
     "output_type": "stream",
     "text": [
      "SYMBOL : QQQ | EXPIRE_DATE : 2016-01-15              \r"
     ]
    },
    {
     "data": {
      "application/vnd.jupyter.widget-view+json": {
       "model_id": "cd486c4fd8714ade8c54930ca5649a43",
       "version_major": 2,
       "version_minor": 0
      },
      "text/plain": [
       "files progressive:   0%|          | 0/21 [00:00<?, ?it/s]"
      ]
     },
     "metadata": {},
     "output_type": "display_data"
    },
    {
     "name": "stdout",
     "output_type": "stream",
     "text": [
      "SYMBOL : QQQ | EXPIRE_DATE : 2016-01-15              \r"
     ]
    },
    {
     "data": {
      "application/vnd.jupyter.widget-view+json": {
       "model_id": "8cb566b9080247af908ab3ccf45a8e49",
       "version_major": 2,
       "version_minor": 0
      },
      "text/plain": [
       "files progressive:   0%|          | 0/22 [00:00<?, ?it/s]"
      ]
     },
     "metadata": {},
     "output_type": "display_data"
    },
    {
     "name": "stdout",
     "output_type": "stream",
     "text": [
      "SYMBOL : QQQ | EXPIRE_DATE : 2016-01-15              \r"
     ]
    },
    {
     "data": {
      "application/vnd.jupyter.widget-view+json": {
       "model_id": "09bcec55f98e46a1b834548020daa63e",
       "version_major": 2,
       "version_minor": 0
      },
      "text/plain": [
       "files progressive:   0%|          | 0/22 [00:00<?, ?it/s]"
      ]
     },
     "metadata": {},
     "output_type": "display_data"
    },
    {
     "name": "stdout",
     "output_type": "stream",
     "text": [
      "SYMBOL : QQQ | EXPIRE_DATE : 2017-01-20              \r"
     ]
    },
    {
     "data": {
      "application/vnd.jupyter.widget-view+json": {
       "model_id": "9c162b506ba143edaf104830d53c342c",
       "version_major": 2,
       "version_minor": 0
      },
      "text/plain": [
       "files progressive:   0%|          | 0/23 [00:00<?, ?it/s]"
      ]
     },
     "metadata": {},
     "output_type": "display_data"
    },
    {
     "name": "stdout",
     "output_type": "stream",
     "text": [
      "SYMBOL : QQQ | EXPIRE_DATE : 2017-01-20              \r"
     ]
    },
    {
     "data": {
      "application/vnd.jupyter.widget-view+json": {
       "model_id": "4fab5e3e27184795961d09767115c4b6",
       "version_major": 2,
       "version_minor": 0
      },
      "text/plain": [
       "files progressive:   0%|          | 0/23 [00:00<?, ?it/s]"
      ]
     },
     "metadata": {},
     "output_type": "display_data"
    },
    {
     "name": "stdout",
     "output_type": "stream",
     "text": [
      "SYMBOL : QQQ | EXPIRE_DATE : 2017-01-20              \r"
     ]
    },
    {
     "data": {
      "application/vnd.jupyter.widget-view+json": {
       "model_id": "77acc9efd1994a189c39cd5a77dd56df",
       "version_major": 2,
       "version_minor": 0
      },
      "text/plain": [
       "files progressive:   0%|          | 0/21 [00:00<?, ?it/s]"
      ]
     },
     "metadata": {},
     "output_type": "display_data"
    },
    {
     "name": "stdout",
     "output_type": "stream",
     "text": [
      "SYMBOL : QQQ | EXPIRE_DATE : 2017-01-20              \r"
     ]
    },
    {
     "data": {
      "application/vnd.jupyter.widget-view+json": {
       "model_id": "e399b3637d614cda80bbaec75ff22786",
       "version_major": 2,
       "version_minor": 0
      },
      "text/plain": [
       "files progressive:   0%|          | 0/21 [00:00<?, ?it/s]"
      ]
     },
     "metadata": {},
     "output_type": "display_data"
    },
    {
     "name": "stdout",
     "output_type": "stream",
     "text": [
      "SYMBOL : QQQ | EXPIRE_DATE : 2017-01-20              \r"
     ]
    },
    {
     "data": {
      "application/vnd.jupyter.widget-view+json": {
       "model_id": "07f02aa5d36a4acd87aea7f011e703b1",
       "version_major": 2,
       "version_minor": 0
      },
      "text/plain": [
       "files progressive:   0%|          | 0/22 [00:00<?, ?it/s]"
      ]
     },
     "metadata": {},
     "output_type": "display_data"
    },
    {
     "name": "stdout",
     "output_type": "stream",
     "text": [
      "SYMBOL : QQQ | EXPIRE_DATE : 2017-01-20              \r"
     ]
    },
    {
     "data": {
      "application/vnd.jupyter.widget-view+json": {
       "model_id": "0194c3621e1b4725bac95101ec94d449",
       "version_major": 2,
       "version_minor": 0
      },
      "text/plain": [
       "files progressive:   0%|          | 0/22 [00:00<?, ?it/s]"
      ]
     },
     "metadata": {},
     "output_type": "display_data"
    },
    {
     "name": "stdout",
     "output_type": "stream",
     "text": [
      "SYMBOL : QQQ | EXPIRE_DATE : 2017-01-20              \r"
     ]
    },
    {
     "data": {
      "application/vnd.jupyter.widget-view+json": {
       "model_id": "f0cade54fd054a49b2850d1aebc72355",
       "version_major": 2,
       "version_minor": 0
      },
      "text/plain": [
       "files progressive:   0%|          | 0/21 [00:00<?, ?it/s]"
      ]
     },
     "metadata": {},
     "output_type": "display_data"
    },
    {
     "name": "stdout",
     "output_type": "stream",
     "text": [
      "SYMBOL : QQQ | EXPIRE_DATE : 2017-01-20              \r"
     ]
    },
    {
     "data": {
      "application/vnd.jupyter.widget-view+json": {
       "model_id": "c2f85d2195064b8289b9586dda852843",
       "version_major": 2,
       "version_minor": 0
      },
      "text/plain": [
       "files progressive:   0%|          | 0/22 [00:00<?, ?it/s]"
      ]
     },
     "metadata": {},
     "output_type": "display_data"
    },
    {
     "name": "stdout",
     "output_type": "stream",
     "text": [
      "SYMBOL : QQQ | EXPIRE_DATE : 2017-01-20              \r"
     ]
    },
    {
     "data": {
      "application/vnd.jupyter.widget-view+json": {
       "model_id": "60e47e481da7426e8ee39e256035d04a",
       "version_major": 2,
       "version_minor": 0
      },
      "text/plain": [
       "files progressive:   0%|          | 0/21 [00:00<?, ?it/s]"
      ]
     },
     "metadata": {},
     "output_type": "display_data"
    },
    {
     "name": "stdout",
     "output_type": "stream",
     "text": [
      "SYMBOL : QQQ | EXPIRE_DATE : 2017-01-20              \r"
     ]
    },
    {
     "data": {
      "application/vnd.jupyter.widget-view+json": {
       "model_id": "d2daf5be82744516b96163d25ad7afb0",
       "version_major": 2,
       "version_minor": 0
      },
      "text/plain": [
       "files progressive:   0%|          | 0/20 [00:00<?, ?it/s]"
      ]
     },
     "metadata": {},
     "output_type": "display_data"
    },
    {
     "name": "stdout",
     "output_type": "stream",
     "text": [
      "SYMBOL : QQQ | EXPIRE_DATE : 2017-01-20              \r"
     ]
    },
    {
     "data": {
      "application/vnd.jupyter.widget-view+json": {
       "model_id": "5e5b7eddeaf146049c8d06928783e3d6",
       "version_major": 2,
       "version_minor": 0
      },
      "text/plain": [
       "files progressive:   0%|          | 0/22 [00:00<?, ?it/s]"
      ]
     },
     "metadata": {},
     "output_type": "display_data"
    },
    {
     "name": "stdout",
     "output_type": "stream",
     "text": [
      "SYMBOL : QQQ | EXPIRE_DATE : 2017-01-20              \r"
     ]
    },
    {
     "data": {
      "application/vnd.jupyter.widget-view+json": {
       "model_id": "b830cdcd1fe1456c98386bb3ac201afd",
       "version_major": 2,
       "version_minor": 0
      },
      "text/plain": [
       "files progressive:   0%|          | 0/20 [00:00<?, ?it/s]"
      ]
     },
     "metadata": {},
     "output_type": "display_data"
    },
    {
     "name": "stdout",
     "output_type": "stream",
     "text": [
      "SYMBOL : QQQ | EXPIRE_DATE : 2018-01-19              \r"
     ]
    },
    {
     "data": {
      "application/vnd.jupyter.widget-view+json": {
       "model_id": "51e7e4bacbf54aec94ad73a921141bf0",
       "version_major": 2,
       "version_minor": 0
      },
      "text/plain": [
       "files progressive:   0%|          | 0/21 [00:00<?, ?it/s]"
      ]
     },
     "metadata": {},
     "output_type": "display_data"
    },
    {
     "name": "stdout",
     "output_type": "stream",
     "text": [
      "SYMBOL : QQQ | EXPIRE_DATE : 2018-01-19              \r"
     ]
    },
    {
     "data": {
      "application/vnd.jupyter.widget-view+json": {
       "model_id": "0a0fd6f618d344cab5f4d6a48385b79c",
       "version_major": 2,
       "version_minor": 0
      },
      "text/plain": [
       "files progressive:   0%|          | 0/21 [00:00<?, ?it/s]"
      ]
     },
     "metadata": {},
     "output_type": "display_data"
    },
    {
     "name": "stdout",
     "output_type": "stream",
     "text": [
      "SYMBOL : QQQ | EXPIRE_DATE : 2018-01-19              \r"
     ]
    },
    {
     "data": {
      "application/vnd.jupyter.widget-view+json": {
       "model_id": "10243de36a8646c7963ee78fc43969da",
       "version_major": 2,
       "version_minor": 0
      },
      "text/plain": [
       "files progressive:   0%|          | 0/21 [00:00<?, ?it/s]"
      ]
     },
     "metadata": {},
     "output_type": "display_data"
    },
    {
     "name": "stdout",
     "output_type": "stream",
     "text": [
      "SYMBOL : QQQ | EXPIRE_DATE : 2018-01-19              \r"
     ]
    },
    {
     "data": {
      "application/vnd.jupyter.widget-view+json": {
       "model_id": "b9d717dc9d1347feb12d57d8760c1b45",
       "version_major": 2,
       "version_minor": 0
      },
      "text/plain": [
       "files progressive:   0%|          | 0/22 [00:00<?, ?it/s]"
      ]
     },
     "metadata": {},
     "output_type": "display_data"
    },
    {
     "name": "stdout",
     "output_type": "stream",
     "text": [
      "SYMBOL : QQQ | EXPIRE_DATE : 2018-01-19              \r"
     ]
    },
    {
     "data": {
      "application/vnd.jupyter.widget-view+json": {
       "model_id": "52808fd02bf5407bb3a42980d388d075",
       "version_major": 2,
       "version_minor": 0
      },
      "text/plain": [
       "files progressive:   0%|          | 0/22 [00:00<?, ?it/s]"
      ]
     },
     "metadata": {},
     "output_type": "display_data"
    },
    {
     "name": "stdout",
     "output_type": "stream",
     "text": [
      "SYMBOL : QQQ | EXPIRE_DATE : 2018-01-19              \r"
     ]
    },
    {
     "data": {
      "application/vnd.jupyter.widget-view+json": {
       "model_id": "a7a5b9e779594e52999df14950e8b853",
       "version_major": 2,
       "version_minor": 0
      },
      "text/plain": [
       "files progressive:   0%|          | 0/21 [00:00<?, ?it/s]"
      ]
     },
     "metadata": {},
     "output_type": "display_data"
    },
    {
     "name": "stdout",
     "output_type": "stream",
     "text": [
      "SYMBOL : QQQ | EXPIRE_DATE : 2018-01-19              \r"
     ]
    },
    {
     "data": {
      "application/vnd.jupyter.widget-view+json": {
       "model_id": "c0ca6c8d384f450f9f2237aa5c032b71",
       "version_major": 2,
       "version_minor": 0
      },
      "text/plain": [
       "files progressive:   0%|          | 0/22 [00:00<?, ?it/s]"
      ]
     },
     "metadata": {},
     "output_type": "display_data"
    },
    {
     "name": "stdout",
     "output_type": "stream",
     "text": [
      "SYMBOL : QQQ | EXPIRE_DATE : 2018-01-19              \r"
     ]
    },
    {
     "data": {
      "application/vnd.jupyter.widget-view+json": {
       "model_id": "6c79ed71617f4084b8a5dd6808b7cbc2",
       "version_major": 2,
       "version_minor": 0
      },
      "text/plain": [
       "files progressive:   0%|          | 0/22 [00:00<?, ?it/s]"
      ]
     },
     "metadata": {},
     "output_type": "display_data"
    },
    {
     "name": "stdout",
     "output_type": "stream",
     "text": [
      "SYMBOL : QQQ | EXPIRE_DATE : 2018-01-19              \r"
     ]
    },
    {
     "data": {
      "application/vnd.jupyter.widget-view+json": {
       "model_id": "40d888aa7e3d499da07b057f27699526",
       "version_major": 2,
       "version_minor": 0
      },
      "text/plain": [
       "files progressive:   0%|          | 0/20 [00:00<?, ?it/s]"
      ]
     },
     "metadata": {},
     "output_type": "display_data"
    },
    {
     "name": "stdout",
     "output_type": "stream",
     "text": [
      "SYMBOL : QQQ | EXPIRE_DATE : 2018-01-19              \r"
     ]
    },
    {
     "data": {
      "application/vnd.jupyter.widget-view+json": {
       "model_id": "1095aa5f5a3b40ac9020ed4f6f6e93f4",
       "version_major": 2,
       "version_minor": 0
      },
      "text/plain": [
       "files progressive:   0%|          | 0/20 [00:00<?, ?it/s]"
      ]
     },
     "metadata": {},
     "output_type": "display_data"
    },
    {
     "name": "stdout",
     "output_type": "stream",
     "text": [
      "SYMBOL : QQQ | EXPIRE_DATE : 2018-01-19              \r"
     ]
    },
    {
     "data": {
      "application/vnd.jupyter.widget-view+json": {
       "model_id": "88d246f24b4e4846a07f0bececa54105",
       "version_major": 2,
       "version_minor": 0
      },
      "text/plain": [
       "files progressive:   0%|          | 0/20 [00:00<?, ?it/s]"
      ]
     },
     "metadata": {},
     "output_type": "display_data"
    },
    {
     "name": "stdout",
     "output_type": "stream",
     "text": [
      "SYMBOL : QQQ | EXPIRE_DATE : 2018-01-19              \r"
     ]
    },
    {
     "data": {
      "application/vnd.jupyter.widget-view+json": {
       "model_id": "14f8aa4cb84145099470cf4ae85fd0a7",
       "version_major": 2,
       "version_minor": 0
      },
      "text/plain": [
       "files progressive:   0%|          | 0/20 [00:00<?, ?it/s]"
      ]
     },
     "metadata": {},
     "output_type": "display_data"
    },
    {
     "name": "stdout",
     "output_type": "stream",
     "text": [
      "SYMBOL : QQQ | EXPIRE_DATE : 2019-01-18              \r"
     ]
    },
    {
     "data": {
      "application/vnd.jupyter.widget-view+json": {
       "model_id": "aabc1fe169d64e13b9199201b4beeea5",
       "version_major": 2,
       "version_minor": 0
      },
      "text/plain": [
       "files progressive:   0%|          | 0/21 [00:00<?, ?it/s]"
      ]
     },
     "metadata": {},
     "output_type": "display_data"
    },
    {
     "name": "stdout",
     "output_type": "stream",
     "text": [
      "SYMBOL : QQQ | EXPIRE_DATE : 2019-01-18              \r"
     ]
    },
    {
     "data": {
      "application/vnd.jupyter.widget-view+json": {
       "model_id": "d70a1ad4946342aeb7ebe1b3ee67c694",
       "version_major": 2,
       "version_minor": 0
      },
      "text/plain": [
       "files progressive:   0%|          | 0/21 [00:00<?, ?it/s]"
      ]
     },
     "metadata": {},
     "output_type": "display_data"
    },
    {
     "name": "stdout",
     "output_type": "stream",
     "text": [
      "SYMBOL : QQQ | EXPIRE_DATE : 2019-01-18              \r"
     ]
    },
    {
     "data": {
      "application/vnd.jupyter.widget-view+json": {
       "model_id": "e9ddc91ff6b04ecf8b07c7420f62b0c6",
       "version_major": 2,
       "version_minor": 0
      },
      "text/plain": [
       "files progressive:   0%|          | 0/20 [00:00<?, ?it/s]"
      ]
     },
     "metadata": {},
     "output_type": "display_data"
    },
    {
     "name": "stdout",
     "output_type": "stream",
     "text": [
      "SYMBOL : QQQ | EXPIRE_DATE : 2019-01-18              \r"
     ]
    },
    {
     "data": {
      "application/vnd.jupyter.widget-view+json": {
       "model_id": "8cb38d1403864d239ea57ec8398adb9f",
       "version_major": 2,
       "version_minor": 0
      },
      "text/plain": [
       "files progressive:   0%|          | 0/21 [00:00<?, ?it/s]"
      ]
     },
     "metadata": {},
     "output_type": "display_data"
    },
    {
     "name": "stdout",
     "output_type": "stream",
     "text": [
      "SYMBOL : QQQ | EXPIRE_DATE : 2019-01-18              \r"
     ]
    },
    {
     "data": {
      "application/vnd.jupyter.widget-view+json": {
       "model_id": "62c3072078c248279629772e5b9d4d4d",
       "version_major": 2,
       "version_minor": 0
      },
      "text/plain": [
       "files progressive:   0%|          | 0/21 [00:00<?, ?it/s]"
      ]
     },
     "metadata": {},
     "output_type": "display_data"
    },
    {
     "name": "stdout",
     "output_type": "stream",
     "text": [
      "SYMBOL : QQQ | EXPIRE_DATE : 2019-01-18              \r"
     ]
    },
    {
     "data": {
      "application/vnd.jupyter.widget-view+json": {
       "model_id": "ab4567bb68194ccb92f6b671a44de2b5",
       "version_major": 2,
       "version_minor": 0
      },
      "text/plain": [
       "files progressive:   0%|          | 0/20 [00:00<?, ?it/s]"
      ]
     },
     "metadata": {},
     "output_type": "display_data"
    },
    {
     "name": "stdout",
     "output_type": "stream",
     "text": [
      "SYMBOL : QQQ | EXPIRE_DATE : 2019-01-18              \r"
     ]
    },
    {
     "data": {
      "application/vnd.jupyter.widget-view+json": {
       "model_id": "72e721db5c5d4a018b0b33cc7487ca0e",
       "version_major": 2,
       "version_minor": 0
      },
      "text/plain": [
       "files progressive:   0%|          | 0/21 [00:00<?, ?it/s]"
      ]
     },
     "metadata": {},
     "output_type": "display_data"
    },
    {
     "name": "stdout",
     "output_type": "stream",
     "text": [
      "SYMBOL : QQQ | EXPIRE_DATE : 2019-01-18              \r"
     ]
    },
    {
     "data": {
      "application/vnd.jupyter.widget-view+json": {
       "model_id": "97fe063d12bc4d738a218900b054bcfe",
       "version_major": 2,
       "version_minor": 0
      },
      "text/plain": [
       "files progressive:   0%|          | 0/21 [00:00<?, ?it/s]"
      ]
     },
     "metadata": {},
     "output_type": "display_data"
    },
    {
     "name": "stdout",
     "output_type": "stream",
     "text": [
      "SYMBOL : QQQ | EXPIRE_DATE : 2019-01-18              \r"
     ]
    },
    {
     "data": {
      "application/vnd.jupyter.widget-view+json": {
       "model_id": "5907fcc31c604167a863150100fe8dd5",
       "version_major": 2,
       "version_minor": 0
      },
      "text/plain": [
       "files progressive:   0%|          | 0/22 [00:00<?, ?it/s]"
      ]
     },
     "metadata": {},
     "output_type": "display_data"
    },
    {
     "name": "stdout",
     "output_type": "stream",
     "text": [
      "SYMBOL : QQQ | EXPIRE_DATE : 2019-01-18              \r"
     ]
    },
    {
     "data": {
      "application/vnd.jupyter.widget-view+json": {
       "model_id": "eb733e978c2d43dd980298a015a12e7a",
       "version_major": 2,
       "version_minor": 0
      },
      "text/plain": [
       "files progressive:   0%|          | 0/21 [00:00<?, ?it/s]"
      ]
     },
     "metadata": {},
     "output_type": "display_data"
    },
    {
     "name": "stdout",
     "output_type": "stream",
     "text": [
      "SYMBOL : QQQ | EXPIRE_DATE : 2019-01-18              \r"
     ]
    },
    {
     "data": {
      "application/vnd.jupyter.widget-view+json": {
       "model_id": "4179c10d962f409586aa538fd7e16483",
       "version_major": 2,
       "version_minor": 0
      },
      "text/plain": [
       "files progressive:   0%|          | 0/21 [00:00<?, ?it/s]"
      ]
     },
     "metadata": {},
     "output_type": "display_data"
    },
    {
     "name": "stdout",
     "output_type": "stream",
     "text": [
      "SYMBOL : QQQ | EXPIRE_DATE : 2019-01-18              \r"
     ]
    },
    {
     "data": {
      "application/vnd.jupyter.widget-view+json": {
       "model_id": "6892c6081dc74b25b98d85ca0079eafc",
       "version_major": 2,
       "version_minor": 0
      },
      "text/plain": [
       "files progressive:   0%|          | 0/22 [00:00<?, ?it/s]"
      ]
     },
     "metadata": {},
     "output_type": "display_data"
    },
    {
     "name": "stdout",
     "output_type": "stream",
     "text": [
      "SYMBOL : QQQ | EXPIRE_DATE : 2020-01-17              \r"
     ]
    },
    {
     "data": {
      "application/vnd.jupyter.widget-view+json": {
       "model_id": "52eb6d95d06c4d5fb6185eea31026c30",
       "version_major": 2,
       "version_minor": 0
      },
      "text/plain": [
       "files progressive:   0%|          | 0/21 [00:00<?, ?it/s]"
      ]
     },
     "metadata": {},
     "output_type": "display_data"
    },
    {
     "name": "stdout",
     "output_type": "stream",
     "text": [
      "SYMBOL : QQQ | EXPIRE_DATE : 2020-01-17              \r"
     ]
    },
    {
     "data": {
      "application/vnd.jupyter.widget-view+json": {
       "model_id": "92d3a8a5c42845f29f3da3f0fcaa0a6a",
       "version_major": 2,
       "version_minor": 0
      },
      "text/plain": [
       "files progressive:   0%|          | 0/21 [00:00<?, ?it/s]"
      ]
     },
     "metadata": {},
     "output_type": "display_data"
    },
    {
     "name": "stdout",
     "output_type": "stream",
     "text": [
      "SYMBOL : QQQ | EXPIRE_DATE : 2020-01-17              \r"
     ]
    },
    {
     "data": {
      "application/vnd.jupyter.widget-view+json": {
       "model_id": "e9727bf5df0745aab09263d67c050190",
       "version_major": 2,
       "version_minor": 0
      },
      "text/plain": [
       "files progressive:   0%|          | 0/20 [00:00<?, ?it/s]"
      ]
     },
     "metadata": {},
     "output_type": "display_data"
    },
    {
     "name": "stdout",
     "output_type": "stream",
     "text": [
      "SYMBOL : QQQ | EXPIRE_DATE : 2020-01-17              \r"
     ]
    },
    {
     "data": {
      "application/vnd.jupyter.widget-view+json": {
       "model_id": "74fd6721fde941b6b1b5d5c504f5792b",
       "version_major": 2,
       "version_minor": 0
      },
      "text/plain": [
       "files progressive:   0%|          | 0/23 [00:00<?, ?it/s]"
      ]
     },
     "metadata": {},
     "output_type": "display_data"
    },
    {
     "name": "stdout",
     "output_type": "stream",
     "text": [
      "SYMBOL : QQQ | EXPIRE_DATE : 2020-01-17              \r"
     ]
    },
    {
     "data": {
      "application/vnd.jupyter.widget-view+json": {
       "model_id": "8c71e887f13c4257a26472ee3e909057",
       "version_major": 2,
       "version_minor": 0
      },
      "text/plain": [
       "files progressive:   0%|          | 0/22 [00:00<?, ?it/s]"
      ]
     },
     "metadata": {},
     "output_type": "display_data"
    },
    {
     "name": "stdout",
     "output_type": "stream",
     "text": [
      "SYMBOL : QQQ | EXPIRE_DATE : 2020-01-17              \r"
     ]
    },
    {
     "data": {
      "application/vnd.jupyter.widget-view+json": {
       "model_id": "3f63f32799f54ccd90b80ecd94766c9f",
       "version_major": 2,
       "version_minor": 0
      },
      "text/plain": [
       "files progressive:   0%|          | 0/22 [00:00<?, ?it/s]"
      ]
     },
     "metadata": {},
     "output_type": "display_data"
    },
    {
     "name": "stdout",
     "output_type": "stream",
     "text": [
      "SYMBOL : QQQ | EXPIRE_DATE : 2020-01-17              \r"
     ]
    },
    {
     "data": {
      "application/vnd.jupyter.widget-view+json": {
       "model_id": "f5ea8c90d1e54346a7abdabae194234c",
       "version_major": 2,
       "version_minor": 0
      },
      "text/plain": [
       "files progressive:   0%|          | 0/24 [00:00<?, ?it/s]"
      ]
     },
     "metadata": {},
     "output_type": "display_data"
    },
    {
     "name": "stdout",
     "output_type": "stream",
     "text": [
      "SYMBOL : QQQ | EXPIRE_DATE : 2020-01-17              \r"
     ]
    },
    {
     "data": {
      "application/vnd.jupyter.widget-view+json": {
       "model_id": "8c9cf5083fcb4e919cbbd96cfc359478",
       "version_major": 2,
       "version_minor": 0
      },
      "text/plain": [
       "files progressive:   0%|          | 0/23 [00:00<?, ?it/s]"
      ]
     },
     "metadata": {},
     "output_type": "display_data"
    },
    {
     "name": "stdout",
     "output_type": "stream",
     "text": [
      "SYMBOL : QQQ | EXPIRE_DATE : 2020-01-17              \r"
     ]
    },
    {
     "data": {
      "application/vnd.jupyter.widget-view+json": {
       "model_id": "f395bb5c0bcb4ea0b4e092a1d7c3ca2f",
       "version_major": 2,
       "version_minor": 0
      },
      "text/plain": [
       "files progressive:   0%|          | 0/23 [00:00<?, ?it/s]"
      ]
     },
     "metadata": {},
     "output_type": "display_data"
    },
    {
     "name": "stdout",
     "output_type": "stream",
     "text": [
      "SYMBOL : QQQ | EXPIRE_DATE : 2020-01-17              \r"
     ]
    },
    {
     "data": {
      "application/vnd.jupyter.widget-view+json": {
       "model_id": "1e76411f293346679910a829ca85f82d",
       "version_major": 2,
       "version_minor": 0
      },
      "text/plain": [
       "files progressive:   0%|          | 0/22 [00:00<?, ?it/s]"
      ]
     },
     "metadata": {},
     "output_type": "display_data"
    },
    {
     "name": "stdout",
     "output_type": "stream",
     "text": [
      "SYMBOL : QQQ | EXPIRE_DATE : 2021-01-15              \r"
     ]
    },
    {
     "data": {
      "application/vnd.jupyter.widget-view+json": {
       "model_id": "039a7e76ab0848e69f3b2f0273094b3a",
       "version_major": 2,
       "version_minor": 0
      },
      "text/plain": [
       "files progressive:   0%|          | 0/21 [00:00<?, ?it/s]"
      ]
     },
     "metadata": {},
     "output_type": "display_data"
    },
    {
     "name": "stdout",
     "output_type": "stream",
     "text": [
      "SYMBOL : QQQ | EXPIRE_DATE : 2021-01-15              \r"
     ]
    },
    {
     "data": {
      "application/vnd.jupyter.widget-view+json": {
       "model_id": "6907b89bda2746309b32a6ca8c462b25",
       "version_major": 2,
       "version_minor": 0
      },
      "text/plain": [
       "files progressive:   0%|          | 0/25 [00:00<?, ?it/s]"
      ]
     },
     "metadata": {},
     "output_type": "display_data"
    },
    {
     "name": "stdout",
     "output_type": "stream",
     "text": [
      "SYMBOL : QQQ | EXPIRE_DATE : 2021-01-15              \r"
     ]
    },
    {
     "data": {
      "application/vnd.jupyter.widget-view+json": {
       "model_id": "89a18a5fbcb54b418dc9005b36c72e18",
       "version_major": 2,
       "version_minor": 0
      },
      "text/plain": [
       "files progressive:   0%|          | 0/26 [00:00<?, ?it/s]"
      ]
     },
     "metadata": {},
     "output_type": "display_data"
    },
    {
     "name": "stdout",
     "output_type": "stream",
     "text": [
      "SYMBOL : QQQ | EXPIRE_DATE : 2021-01-15              \r"
     ]
    },
    {
     "data": {
      "application/vnd.jupyter.widget-view+json": {
       "model_id": "6fb4aad27de84a53a43cb049c6a457c4",
       "version_major": 2,
       "version_minor": 0
      },
      "text/plain": [
       "files progressive:   0%|          | 0/21 [00:00<?, ?it/s]"
      ]
     },
     "metadata": {},
     "output_type": "display_data"
    },
    {
     "name": "stdout",
     "output_type": "stream",
     "text": [
      "SYMBOL : QQQ | EXPIRE_DATE : 2021-01-15              \r"
     ]
    },
    {
     "data": {
      "application/vnd.jupyter.widget-view+json": {
       "model_id": "e0d518061f714a8c978985b4036c75f3",
       "version_major": 2,
       "version_minor": 0
      },
      "text/plain": [
       "files progressive:   0%|          | 0/21 [00:00<?, ?it/s]"
      ]
     },
     "metadata": {},
     "output_type": "display_data"
    },
    {
     "name": "stdout",
     "output_type": "stream",
     "text": [
      "SYMBOL : QQQ | EXPIRE_DATE : 2021-01-15              \r"
     ]
    },
    {
     "data": {
      "application/vnd.jupyter.widget-view+json": {
       "model_id": "8c5f0a2ca76e4f9ab52872a77f51bff3",
       "version_major": 2,
       "version_minor": 0
      },
      "text/plain": [
       "files progressive:   0%|          | 0/23 [00:00<?, ?it/s]"
      ]
     },
     "metadata": {},
     "output_type": "display_data"
    },
    {
     "name": "stdout",
     "output_type": "stream",
     "text": [
      "SYMBOL : QQQ | EXPIRE_DATE : 2021-01-15              \r"
     ]
    },
    {
     "data": {
      "application/vnd.jupyter.widget-view+json": {
       "model_id": "d091c58fa9c64a95a03e8fadeb587268",
       "version_major": 2,
       "version_minor": 0
      },
      "text/plain": [
       "files progressive:   0%|          | 0/26 [00:00<?, ?it/s]"
      ]
     },
     "metadata": {},
     "output_type": "display_data"
    },
    {
     "name": "stdout",
     "output_type": "stream",
     "text": [
      "SYMBOL : QQQ | EXPIRE_DATE : 2021-01-15              \r"
     ]
    },
    {
     "data": {
      "application/vnd.jupyter.widget-view+json": {
       "model_id": "a18e3cef5f3f45f2929b160a8f64a2d0",
       "version_major": 2,
       "version_minor": 0
      },
      "text/plain": [
       "files progressive:   0%|          | 0/25 [00:00<?, ?it/s]"
      ]
     },
     "metadata": {},
     "output_type": "display_data"
    },
    {
     "name": "stdout",
     "output_type": "stream",
     "text": [
      "SYMBOL : QQQ | EXPIRE_DATE : 2021-01-15              \r"
     ]
    },
    {
     "data": {
      "application/vnd.jupyter.widget-view+json": {
       "model_id": "6eb3ff0fb0c54b489f8a6ac23c7d14e4",
       "version_major": 2,
       "version_minor": 0
      },
      "text/plain": [
       "files progressive:   0%|          | 0/22 [00:00<?, ?it/s]"
      ]
     },
     "metadata": {},
     "output_type": "display_data"
    },
    {
     "name": "stdout",
     "output_type": "stream",
     "text": [
      "SYMBOL : QQQ | EXPIRE_DATE : 2021-01-15              \r"
     ]
    },
    {
     "data": {
      "application/vnd.jupyter.widget-view+json": {
       "model_id": "7389e50dc9bb49b8be905babe7dac3f0",
       "version_major": 2,
       "version_minor": 0
      },
      "text/plain": [
       "files progressive:   0%|          | 0/22 [00:00<?, ?it/s]"
      ]
     },
     "metadata": {},
     "output_type": "display_data"
    },
    {
     "name": "stdout",
     "output_type": "stream",
     "text": [
      "SYMBOL : QQQ | EXPIRE_DATE : 2021-01-15              \r"
     ]
    },
    {
     "data": {
      "application/vnd.jupyter.widget-view+json": {
       "model_id": "0b5ed79fd73f42129213a05742bfd1be",
       "version_major": 2,
       "version_minor": 0
      },
      "text/plain": [
       "files progressive:   0%|          | 0/22 [00:00<?, ?it/s]"
      ]
     },
     "metadata": {},
     "output_type": "display_data"
    },
    {
     "name": "stdout",
     "output_type": "stream",
     "text": [
      "SYMBOL : QQQ | EXPIRE_DATE : 2021-01-15              \r"
     ]
    },
    {
     "data": {
      "application/vnd.jupyter.widget-view+json": {
       "model_id": "d9e1454506f94c25a61199dd7598fc08",
       "version_major": 2,
       "version_minor": 0
      },
      "text/plain": [
       "files progressive:   0%|          | 0/22 [00:00<?, ?it/s]"
      ]
     },
     "metadata": {},
     "output_type": "display_data"
    },
    {
     "name": "stdout",
     "output_type": "stream",
     "text": [
      "SYMBOL : QQQ | EXPIRE_DATE : 2022-01-21              \r"
     ]
    },
    {
     "data": {
      "application/vnd.jupyter.widget-view+json": {
       "model_id": "a47f79b30ade41abb6d2b21a42ef2ab9",
       "version_major": 2,
       "version_minor": 0
      },
      "text/plain": [
       "files progressive:   0%|          | 0/22 [00:00<?, ?it/s]"
      ]
     },
     "metadata": {},
     "output_type": "display_data"
    },
    {
     "name": "stdout",
     "output_type": "stream",
     "text": [
      "SYMBOL : QQQ | EXPIRE_DATE : 2022-01-21              \r"
     ]
    },
    {
     "data": {
      "application/vnd.jupyter.widget-view+json": {
       "model_id": "d3e72ecdf4894519a9ae88fcc6475b7c",
       "version_major": 2,
       "version_minor": 0
      },
      "text/plain": [
       "files progressive:   0%|          | 0/22 [00:00<?, ?it/s]"
      ]
     },
     "metadata": {},
     "output_type": "display_data"
    },
    {
     "name": "stdout",
     "output_type": "stream",
     "text": [
      "SYMBOL : QQQ | EXPIRE_DATE : 2022-01-21              \r"
     ]
    },
    {
     "data": {
      "application/vnd.jupyter.widget-view+json": {
       "model_id": "6984fb567268455cbc4076b4f824c66c",
       "version_major": 2,
       "version_minor": 0
      },
      "text/plain": [
       "files progressive:   0%|          | 0/24 [00:00<?, ?it/s]"
      ]
     },
     "metadata": {},
     "output_type": "display_data"
    },
    {
     "name": "stdout",
     "output_type": "stream",
     "text": [
      "SYMBOL : QQQ | EXPIRE_DATE : 2022-01-21              \r"
     ]
    },
    {
     "data": {
      "application/vnd.jupyter.widget-view+json": {
       "model_id": "136cc0f9a89a40ba9a069fd74b39d9a1",
       "version_major": 2,
       "version_minor": 0
      },
      "text/plain": [
       "files progressive:   0%|          | 0/27 [00:00<?, ?it/s]"
      ]
     },
     "metadata": {},
     "output_type": "display_data"
    },
    {
     "name": "stdout",
     "output_type": "stream",
     "text": [
      "SYMBOL : QQQ | EXPIRE_DATE : 2022-12-16              \r"
     ]
    },
    {
     "data": {
      "application/vnd.jupyter.widget-view+json": {
       "model_id": "fe544f729ad344678f21f580da175c98",
       "version_major": 2,
       "version_minor": 0
      },
      "text/plain": [
       "files progressive:   0%|          | 0/28 [00:00<?, ?it/s]"
      ]
     },
     "metadata": {},
     "output_type": "display_data"
    },
    {
     "name": "stdout",
     "output_type": "stream",
     "text": [
      "SYMBOL : QQQ | EXPIRE_DATE : 2022-12-16              \r"
     ]
    },
    {
     "data": {
      "application/vnd.jupyter.widget-view+json": {
       "model_id": "bac1001c92114186a608904df46390d0",
       "version_major": 2,
       "version_minor": 0
      },
      "text/plain": [
       "files progressive:   0%|          | 0/27 [00:00<?, ?it/s]"
      ]
     },
     "metadata": {},
     "output_type": "display_data"
    },
    {
     "name": "stdout",
     "output_type": "stream",
     "text": [
      "SYMBOL : QQQ | EXPIRE_DATE : 2022-12-16              \r"
     ]
    },
    {
     "data": {
      "application/vnd.jupyter.widget-view+json": {
       "model_id": "e508012493ae40cca7ea90fac5ddde30",
       "version_major": 2,
       "version_minor": 0
      },
      "text/plain": [
       "files progressive:   0%|          | 0/28 [00:00<?, ?it/s]"
      ]
     },
     "metadata": {},
     "output_type": "display_data"
    },
    {
     "name": "stdout",
     "output_type": "stream",
     "text": [
      "SYMBOL : QQQ | EXPIRE_DATE : 2022-12-16              \r"
     ]
    },
    {
     "data": {
      "application/vnd.jupyter.widget-view+json": {
       "model_id": "ab83440fba53454fa2c73cf1cb2518cb",
       "version_major": 2,
       "version_minor": 0
      },
      "text/plain": [
       "files progressive:   0%|          | 0/29 [00:00<?, ?it/s]"
      ]
     },
     "metadata": {},
     "output_type": "display_data"
    },
    {
     "name": "stdout",
     "output_type": "stream",
     "text": [
      "SYMBOL : QQQ | EXPIRE_DATE : 2022-12-16              \r"
     ]
    },
    {
     "data": {
      "application/vnd.jupyter.widget-view+json": {
       "model_id": "af2db6d070cf40108181967c86c616c4",
       "version_major": 2,
       "version_minor": 0
      },
      "text/plain": [
       "files progressive:   0%|          | 0/27 [00:00<?, ?it/s]"
      ]
     },
     "metadata": {},
     "output_type": "display_data"
    },
    {
     "name": "stdout",
     "output_type": "stream",
     "text": [
      "SYMBOL : QQQ | EXPIRE_DATE : 2022-12-16              \r"
     ]
    },
    {
     "data": {
      "application/vnd.jupyter.widget-view+json": {
       "model_id": "e365b22558d74740b6d7c8851d08428a",
       "version_major": 2,
       "version_minor": 0
      },
      "text/plain": [
       "files progressive:   0%|          | 0/27 [00:00<?, ?it/s]"
      ]
     },
     "metadata": {},
     "output_type": "display_data"
    },
    {
     "name": "stdout",
     "output_type": "stream",
     "text": [
      "SYMBOL : QQQ | EXPIRE_DATE : 2022-12-16              \r"
     ]
    },
    {
     "data": {
      "application/vnd.jupyter.widget-view+json": {
       "model_id": "6b63286f1a0a4ff9a37bfa34e234fe75",
       "version_major": 2,
       "version_minor": 0
      },
      "text/plain": [
       "files progressive:   0%|          | 0/25 [00:00<?, ?it/s]"
      ]
     },
     "metadata": {},
     "output_type": "display_data"
    },
    {
     "name": "stdout",
     "output_type": "stream",
     "text": [
      "SYMBOL : QQQ | EXPIRE_DATE : 2022-12-16              \r"
     ]
    },
    {
     "data": {
      "application/vnd.jupyter.widget-view+json": {
       "model_id": "a9f39dac3d21458eb998f19f4e98bf8c",
       "version_major": 2,
       "version_minor": 0
      },
      "text/plain": [
       "files progressive:   0%|          | 0/25 [00:00<?, ?it/s]"
      ]
     },
     "metadata": {},
     "output_type": "display_data"
    },
    {
     "name": "stdout",
     "output_type": "stream",
     "text": [
      "SYMBOL : QQQ | EXPIRE_DATE : 2023-01-20              \r"
     ]
    },
    {
     "data": {
      "application/vnd.jupyter.widget-view+json": {
       "model_id": "a5b0d1dd790043aea43decc1918dfd30",
       "version_major": 2,
       "version_minor": 0
      },
      "text/plain": [
       "files progressive:   0%|          | 0/27 [00:00<?, ?it/s]"
      ]
     },
     "metadata": {},
     "output_type": "display_data"
    },
    {
     "name": "stdout",
     "output_type": "stream",
     "text": [
      "SYMBOL : QQQ | EXPIRE_DATE : 2023-01-20              \r"
     ]
    },
    {
     "data": {
      "application/vnd.jupyter.widget-view+json": {
       "model_id": "dd1e6e782326435c926d4ee930e4d1e8",
       "version_major": 2,
       "version_minor": 0
      },
      "text/plain": [
       "files progressive:   0%|          | 0/24 [00:00<?, ?it/s]"
      ]
     },
     "metadata": {},
     "output_type": "display_data"
    },
    {
     "name": "stdout",
     "output_type": "stream",
     "text": [
      "SYMBOL : QQQ | EXPIRE_DATE : 2023-01-20              \r"
     ]
    },
    {
     "data": {
      "application/vnd.jupyter.widget-view+json": {
       "model_id": "1a015a2e7b714c3f98a5eb66f8f75e40",
       "version_major": 2,
       "version_minor": 0
      },
      "text/plain": [
       "files progressive:   0%|          | 0/25 [00:00<?, ?it/s]"
      ]
     },
     "metadata": {},
     "output_type": "display_data"
    },
    {
     "name": "stdout",
     "output_type": "stream",
     "text": [
      "SYMBOL : QQQ | EXPIRE_DATE : 2023-12-15              \r"
     ]
    },
    {
     "data": {
      "application/vnd.jupyter.widget-view+json": {
       "model_id": "3eed0b90126a4cf0bf4a387d5933bd09",
       "version_major": 2,
       "version_minor": 0
      },
      "text/plain": [
       "files progressive:   0%|          | 0/44 [00:00<?, ?it/s]"
      ]
     },
     "metadata": {},
     "output_type": "display_data"
    },
    {
     "name": "stdout",
     "output_type": "stream",
     "text": [
      "SYMBOL : QQQ | EXPIRE_DATE : 2023-12-15              \r"
     ]
    },
    {
     "data": {
      "application/vnd.jupyter.widget-view+json": {
       "model_id": "78ccf89b8437416c800bafba7e3f0575",
       "version_major": 2,
       "version_minor": 0
      },
      "text/plain": [
       "files progressive:   0%|          | 0/43 [00:00<?, ?it/s]"
      ]
     },
     "metadata": {},
     "output_type": "display_data"
    },
    {
     "name": "stdout",
     "output_type": "stream",
     "text": [
      "SYMBOL : QQQ | EXPIRE_DATE : 2023-12-15              \r"
     ]
    },
    {
     "data": {
      "application/vnd.jupyter.widget-view+json": {
       "model_id": "3d3c361330274f799326eeb74e933c26",
       "version_major": 2,
       "version_minor": 0
      },
      "text/plain": [
       "files progressive:   0%|          | 0/44 [00:00<?, ?it/s]"
      ]
     },
     "metadata": {},
     "output_type": "display_data"
    },
    {
     "name": "stdout",
     "output_type": "stream",
     "text": [
      "SYMBOL : QQQ | EXPIRE_DATE : 2024-01-19              \r"
     ]
    },
    {
     "data": {
      "application/vnd.jupyter.widget-view+json": {
       "model_id": "01bde203c13842b98dc5f3192d850306",
       "version_major": 2,
       "version_minor": 0
      },
      "text/plain": [
       "files progressive:   0%|          | 0/44 [00:00<?, ?it/s]"
      ]
     },
     "metadata": {},
     "output_type": "display_data"
    },
    {
     "name": "stdout",
     "output_type": "stream",
     "text": [
      "SYMBOL : QQQ | EXPIRE_DATE : 2024-01-19              \r"
     ]
    },
    {
     "data": {
      "application/vnd.jupyter.widget-view+json": {
       "model_id": "85db637f709f4e9fbd0f3c28e11c3ad7",
       "version_major": 2,
       "version_minor": 0
      },
      "text/plain": [
       "files progressive:   0%|          | 0/43 [00:00<?, ?it/s]"
      ]
     },
     "metadata": {},
     "output_type": "display_data"
    },
    {
     "name": "stdout",
     "output_type": "stream",
     "text": [
      "SYMBOL : QQQ | EXPIRE_DATE : 2024-01-19              \r"
     ]
    },
    {
     "data": {
      "application/vnd.jupyter.widget-view+json": {
       "model_id": "b1bfb53bed974898b642f913f871c3db",
       "version_major": 2,
       "version_minor": 0
      },
      "text/plain": [
       "files progressive:   0%|          | 0/43 [00:00<?, ?it/s]"
      ]
     },
     "metadata": {},
     "output_type": "display_data"
    },
    {
     "name": "stdout",
     "output_type": "stream",
     "text": [
      "SYMBOL : QQQ | EXPIRE_DATE : 2024-01-19              \r"
     ]
    },
    {
     "data": {
      "application/vnd.jupyter.widget-view+json": {
       "model_id": "9c5f2dfa579047538c0685b14143b7c3",
       "version_major": 2,
       "version_minor": 0
      },
      "text/plain": [
       "files progressive:   0%|          | 0/25 [00:00<?, ?it/s]"
      ]
     },
     "metadata": {},
     "output_type": "display_data"
    },
    {
     "name": "stdout",
     "output_type": "stream",
     "text": [
      "SYMBOL : QQQ | EXPIRE_DATE : 2023-12-15              \r"
     ]
    },
    {
     "data": {
      "application/vnd.jupyter.widget-view+json": {
       "model_id": "afccac29f5b44df9b3eded27f1233d90",
       "version_major": 2,
       "version_minor": 0
      },
      "text/plain": [
       "files progressive:   0%|          | 0/27 [00:00<?, ?it/s]"
      ]
     },
     "metadata": {},
     "output_type": "display_data"
    },
    {
     "name": "stdout",
     "output_type": "stream",
     "text": [
      "SYMBOL : QQQ | EXPIRE_DATE : 2023-12-15              \r"
     ]
    },
    {
     "data": {
      "application/vnd.jupyter.widget-view+json": {
       "model_id": "a902263ca11e41df834b2012e567fa55",
       "version_major": 2,
       "version_minor": 0
      },
      "text/plain": [
       "files progressive:   0%|          | 0/26 [00:00<?, ?it/s]"
      ]
     },
     "metadata": {},
     "output_type": "display_data"
    },
    {
     "name": "stdout",
     "output_type": "stream",
     "text": [
      "SYMBOL : QQQ | EXPIRE_DATE : 2023-12-15              \r"
     ]
    },
    {
     "data": {
      "application/vnd.jupyter.widget-view+json": {
       "model_id": "0b2427e664f34a96a0780a8f21cc1ebc",
       "version_major": 2,
       "version_minor": 0
      },
      "text/plain": [
       "files progressive:   0%|          | 0/38 [00:00<?, ?it/s]"
      ]
     },
     "metadata": {},
     "output_type": "display_data"
    },
    {
     "name": "stdout",
     "output_type": "stream",
     "text": [
      "SYMBOL : QQQ | EXPIRE_DATE : 2023-12-15              \r"
     ]
    },
    {
     "data": {
      "application/vnd.jupyter.widget-view+json": {
       "model_id": "221cd8c0aa96471db223bb5598d00fdb",
       "version_major": 2,
       "version_minor": 0
      },
      "text/plain": [
       "files progressive:   0%|          | 0/43 [00:00<?, ?it/s]"
      ]
     },
     "metadata": {},
     "output_type": "display_data"
    },
    {
     "name": "stdout",
     "output_type": "stream",
     "text": [
      "SYMBOL : QQQ | EXPIRE_DATE : 2023-12-15              \r"
     ]
    },
    {
     "data": {
      "application/vnd.jupyter.widget-view+json": {
       "model_id": "bc5631c7ad86483f92dc0592db80aeea",
       "version_major": 2,
       "version_minor": 0
      },
      "text/plain": [
       "files progressive:   0%|          | 0/43 [00:00<?, ?it/s]"
      ]
     },
     "metadata": {},
     "output_type": "display_data"
    },
    {
     "name": "stdout",
     "output_type": "stream",
     "text": [
      "SYMBOL : QQQ | EXPIRE_DATE : 2023-12-15              \r"
     ]
    },
    {
     "data": {
      "application/vnd.jupyter.widget-view+json": {
       "model_id": "f2bd47b996394607bde0185183333e45",
       "version_major": 2,
       "version_minor": 0
      },
      "text/plain": [
       "files progressive:   0%|          | 0/43 [00:00<?, ?it/s]"
      ]
     },
     "metadata": {},
     "output_type": "display_data"
    },
    {
     "name": "stdout",
     "output_type": "stream",
     "text": [
      "SYMBOL : QQQ | EXPIRE_DATE : 2024-01-19              \r"
     ]
    },
    {
     "data": {
      "application/vnd.jupyter.widget-view+json": {
       "model_id": "a1762a2b070a455ca4045534e59ed5f0",
       "version_major": 2,
       "version_minor": 0
      },
      "text/plain": [
       "files progressive:   0%|          | 0/41 [00:00<?, ?it/s]"
      ]
     },
     "metadata": {},
     "output_type": "display_data"
    },
    {
     "name": "stdout",
     "output_type": "stream",
     "text": [
      "SYMBOL : QQQ | EXPIRE_DATE : 2024-01-19              \r"
     ]
    },
    {
     "data": {
      "application/vnd.jupyter.widget-view+json": {
       "model_id": "df9d0be8bc78433294a9a4073a93c92b",
       "version_major": 2,
       "version_minor": 0
      },
      "text/plain": [
       "files progressive:   0%|          | 0/43 [00:00<?, ?it/s]"
      ]
     },
     "metadata": {},
     "output_type": "display_data"
    },
    {
     "name": "stdout",
     "output_type": "stream",
     "text": [
      "SYMBOL : QQQ | EXPIRE_DATE : 2024-01-19              \r"
     ]
    },
    {
     "data": {
      "application/vnd.jupyter.widget-view+json": {
       "model_id": "a7bd0cc7911e424ea116cd76404fe6f6",
       "version_major": 2,
       "version_minor": 0
      },
      "text/plain": [
       "files progressive:   0%|          | 0/43 [00:00<?, ?it/s]"
      ]
     },
     "metadata": {},
     "output_type": "display_data"
    },
    {
     "name": "stdout",
     "output_type": "stream",
     "text": [
      "SYMBOL : QQQ | EXPIRE_DATE : 2024-01-19              \r"
     ]
    },
    {
     "data": {
      "application/vnd.jupyter.widget-view+json": {
       "model_id": "e5653c11ffcb4fdc914b769938cddfa9",
       "version_major": 2,
       "version_minor": 0
      },
      "text/plain": [
       "files progressive:   0%|          | 0/43 [00:00<?, ?it/s]"
      ]
     },
     "metadata": {},
     "output_type": "display_data"
    },
    {
     "name": "stdout",
     "output_type": "stream",
     "text": [
      "SYMBOL : QQQ | EXPIRE_DATE : 2024-01-19              \r"
     ]
    },
    {
     "data": {
      "application/vnd.jupyter.widget-view+json": {
       "model_id": "d6db11f7db154f65b9900c37f80a8b48",
       "version_major": 2,
       "version_minor": 0
      },
      "text/plain": [
       "files progressive:   0%|          | 0/45 [00:00<?, ?it/s]"
      ]
     },
     "metadata": {},
     "output_type": "display_data"
    },
    {
     "name": "stdout",
     "output_type": "stream",
     "text": [
      "SYMBOL : QQQ | EXPIRE_DATE : 2024-06-21              \r"
     ]
    },
    {
     "data": {
      "application/vnd.jupyter.widget-view+json": {
       "model_id": "43b18f0ad76d47c29a5bedc7b69c95fd",
       "version_major": 2,
       "version_minor": 0
      },
      "text/plain": [
       "files progressive:   0%|          | 0/45 [00:00<?, ?it/s]"
      ]
     },
     "metadata": {},
     "output_type": "display_data"
    },
    {
     "name": "stdout",
     "output_type": "stream",
     "text": [
      "SYMBOL : QQQ | EXPIRE_DATE : 2024-06-21              \r"
     ]
    },
    {
     "data": {
      "application/vnd.jupyter.widget-view+json": {
       "model_id": "9ce7ee8b0c7a4ad5b13666c9e590da72",
       "version_major": 2,
       "version_minor": 0
      },
      "text/plain": [
       "files progressive:   0%|          | 0/44 [00:00<?, ?it/s]"
      ]
     },
     "metadata": {},
     "output_type": "display_data"
    },
    {
     "name": "stdout",
     "output_type": "stream",
     "text": [
      "SYMBOL : QQQ | EXPIRE_DATE : 2024-12-20              \r"
     ]
    },
    {
     "data": {
      "application/vnd.jupyter.widget-view+json": {
       "model_id": "b93b6f75161447c7b4028f91093a8aca",
       "version_major": 2,
       "version_minor": 0
      },
      "text/plain": [
       "files progressive:   0%|          | 0/44 [00:00<?, ?it/s]"
      ]
     },
     "metadata": {},
     "output_type": "display_data"
    },
    {
     "name": "stdout",
     "output_type": "stream",
     "text": [
      "SYMBOL : QQQ | EXPIRE_DATE : 2025-01-17              \r"
     ]
    },
    {
     "data": {
      "application/vnd.jupyter.widget-view+json": {
       "model_id": "774fa816ffd64b6da0d58952efee39e2",
       "version_major": 2,
       "version_minor": 0
      },
      "text/plain": [
       "files progressive:   0%|          | 0/44 [00:00<?, ?it/s]"
      ]
     },
     "metadata": {},
     "output_type": "display_data"
    },
    {
     "name": "stdout",
     "output_type": "stream",
     "text": [
      "SYMBOL : QQQ | EXPIRE_DATE : 2025-01-17              \r"
     ]
    },
    {
     "data": {
      "application/vnd.jupyter.widget-view+json": {
       "model_id": "316bc50738694612af741478eb5e1801",
       "version_major": 2,
       "version_minor": 0
      },
      "text/plain": [
       "files progressive:   0%|          | 0/45 [00:00<?, ?it/s]"
      ]
     },
     "metadata": {},
     "output_type": "display_data"
    },
    {
     "name": "stdout",
     "output_type": "stream",
     "text": [
      "SYMBOL : QQQ | EXPIRE_DATE : 2025-01-17              \r"
     ]
    },
    {
     "data": {
      "application/vnd.jupyter.widget-view+json": {
       "model_id": "d01986e7b19a4625845a0512758fc9a4",
       "version_major": 2,
       "version_minor": 0
      },
      "text/plain": [
       "files progressive:   0%|          | 0/48 [00:00<?, ?it/s]"
      ]
     },
     "metadata": {},
     "output_type": "display_data"
    },
    {
     "name": "stdout",
     "output_type": "stream",
     "text": [
      "SYMBOL : QQQ | EXPIRE_DATE : 2025-01-17              \r"
     ]
    },
    {
     "data": {
      "application/vnd.jupyter.widget-view+json": {
       "model_id": "b324272243f0474981698b05f447f37e",
       "version_major": 2,
       "version_minor": 0
      },
      "text/plain": [
       "files progressive:   0%|          | 0/49 [00:00<?, ?it/s]"
      ]
     },
     "metadata": {},
     "output_type": "display_data"
    },
    {
     "name": "stdout",
     "output_type": "stream",
     "text": [
      "SYMBOL : QQQ | EXPIRE_DATE : 2025-01-17              \r"
     ]
    },
    {
     "data": {
      "application/vnd.jupyter.widget-view+json": {
       "model_id": "6ec1410bf37b417f80c379c78221f0f1",
       "version_major": 2,
       "version_minor": 0
      },
      "text/plain": [
       "files progressive:   0%|          | 0/48 [00:00<?, ?it/s]"
      ]
     },
     "metadata": {},
     "output_type": "display_data"
    },
    {
     "name": "stdout",
     "output_type": "stream",
     "text": [
      "SYMBOL : QQQ | EXPIRE_DATE : 2025-01-17              \r"
     ]
    },
    {
     "data": {
      "application/vnd.jupyter.widget-view+json": {
       "model_id": "41e16b7afbea461abad7121f6670e3b1",
       "version_major": 2,
       "version_minor": 0
      },
      "text/plain": [
       "files progressive:   0%|          | 0/51 [00:00<?, ?it/s]"
      ]
     },
     "metadata": {},
     "output_type": "display_data"
    },
    {
     "name": "stdout",
     "output_type": "stream",
     "text": [
      "SYMBOL : QQQ | EXPIRE_DATE : 2025-06-20              \r"
     ]
    },
    {
     "data": {
      "application/vnd.jupyter.widget-view+json": {
       "model_id": "106c29261b264220aed4003f828d5bca",
       "version_major": 2,
       "version_minor": 0
      },
      "text/plain": [
       "files progressive:   0%|          | 0/50 [00:00<?, ?it/s]"
      ]
     },
     "metadata": {},
     "output_type": "display_data"
    },
    {
     "name": "stdout",
     "output_type": "stream",
     "text": [
      "SYMBOL : QQQ | EXPIRE_DATE : 2025-06-20              \r"
     ]
    },
    {
     "data": {
      "application/vnd.jupyter.widget-view+json": {
       "model_id": "f166859c751446f790f96e6d44374e3d",
       "version_major": 2,
       "version_minor": 0
      },
      "text/plain": [
       "files progressive:   0%|          | 0/51 [00:00<?, ?it/s]"
      ]
     },
     "metadata": {},
     "output_type": "display_data"
    },
    {
     "name": "stdout",
     "output_type": "stream",
     "text": [
      "SYMBOL : QQQ | EXPIRE_DATE : 2025-06-20              \r"
     ]
    },
    {
     "data": {
      "application/vnd.jupyter.widget-view+json": {
       "model_id": "0526186a89e34013a816f4b6aa616b4f",
       "version_major": 2,
       "version_minor": 0
      },
      "text/plain": [
       "files progressive:   0%|          | 0/49 [00:00<?, ?it/s]"
      ]
     },
     "metadata": {},
     "output_type": "display_data"
    },
    {
     "name": "stdout",
     "output_type": "stream",
     "text": [
      "SYMBOL : QQQ | EXPIRE_DATE : 2025-06-20              \r"
     ]
    },
    {
     "data": {
      "application/vnd.jupyter.widget-view+json": {
       "model_id": "3a9efe1dc73645dcbd8c07a581f87126",
       "version_major": 2,
       "version_minor": 0
      },
      "text/plain": [
       "files progressive:   0%|          | 0/50 [00:00<?, ?it/s]"
      ]
     },
     "metadata": {},
     "output_type": "display_data"
    },
    {
     "name": "stdout",
     "output_type": "stream",
     "text": [
      "SYMBOL : QQQ | EXPIRE_DATE : 2025-12-19              \r"
     ]
    },
    {
     "data": {
      "application/vnd.jupyter.widget-view+json": {
       "model_id": "8753941d73804d1794b959b3f507458b",
       "version_major": 2,
       "version_minor": 0
      },
      "text/plain": [
       "files progressive:   0%|          | 0/51 [00:00<?, ?it/s]"
      ]
     },
     "metadata": {},
     "output_type": "display_data"
    },
    {
     "name": "stdout",
     "output_type": "stream",
     "text": [
      "SYMBOL : QQQ | EXPIRE_DATE : 2025-12-19              \r"
     ]
    },
    {
     "data": {
      "application/vnd.jupyter.widget-view+json": {
       "model_id": "b5f22ef0f1604900a0466d2fda7f38d8",
       "version_major": 2,
       "version_minor": 0
      },
      "text/plain": [
       "files progressive:   0%|          | 0/48 [00:00<?, ?it/s]"
      ]
     },
     "metadata": {},
     "output_type": "display_data"
    },
    {
     "name": "stdout",
     "output_type": "stream",
     "text": [
      "[1/3] : spy                           6              \n"
     ]
    },
    {
     "data": {
      "application/vnd.jupyter.widget-view+json": {
       "model_id": "cbfed7a5cbb24ad6b2761d8002d202c8",
       "version_major": 2,
       "version_minor": 0
      },
      "text/plain": [
       "  0%|          | 0/163 [00:00<?, ?it/s]"
      ]
     },
     "metadata": {},
     "output_type": "display_data"
    },
    {
     "data": {
      "application/vnd.jupyter.widget-view+json": {
       "model_id": "f91cc36b4ebf4ae2bf9144936ded3cfd",
       "version_major": 2,
       "version_minor": 0
      },
      "text/plain": [
       "files progressive:   0%|          | 0/14 [00:00<?, ?it/s]"
      ]
     },
     "metadata": {},
     "output_type": "display_data"
    },
    {
     "name": "stdout",
     "output_type": "stream",
     "text": [
      "SYMBOL : SPY | EXPIRE_DATE : 2012-12-21              \r"
     ]
    },
    {
     "data": {
      "application/vnd.jupyter.widget-view+json": {
       "model_id": "3561a1cb30674fc8aaad3f1853abe315",
       "version_major": 2,
       "version_minor": 0
      },
      "text/plain": [
       "files progressive:   0%|          | 0/14 [00:00<?, ?it/s]"
      ]
     },
     "metadata": {},
     "output_type": "display_data"
    },
    {
     "name": "stdout",
     "output_type": "stream",
     "text": [
      "SYMBOL : SPY | EXPIRE_DATE : 2012-12-21              \r"
     ]
    },
    {
     "data": {
      "application/vnd.jupyter.widget-view+json": {
       "model_id": "2cd4978da023468d8e6bdea573b1c495",
       "version_major": 2,
       "version_minor": 0
      },
      "text/plain": [
       "files progressive:   0%|          | 0/14 [00:00<?, ?it/s]"
      ]
     },
     "metadata": {},
     "output_type": "display_data"
    },
    {
     "name": "stdout",
     "output_type": "stream",
     "text": [
      "SYMBOL : SPY | EXPIRE_DATE : 2012-12-21              \r"
     ]
    },
    {
     "data": {
      "application/vnd.jupyter.widget-view+json": {
       "model_id": "d17496d1285944a18063d5f91447095b",
       "version_major": 2,
       "version_minor": 0
      },
      "text/plain": [
       "files progressive:   0%|          | 0/14 [00:00<?, ?it/s]"
      ]
     },
     "metadata": {},
     "output_type": "display_data"
    },
    {
     "name": "stdout",
     "output_type": "stream",
     "text": [
      "SYMBOL : SPY | EXPIRE_DATE : 2012-12-21              \r"
     ]
    },
    {
     "data": {
      "application/vnd.jupyter.widget-view+json": {
       "model_id": "2ab4c4d4de124ed1b0c0a8a25f9941d8",
       "version_major": 2,
       "version_minor": 0
      },
      "text/plain": [
       "files progressive:   0%|          | 0/16 [00:00<?, ?it/s]"
      ]
     },
     "metadata": {},
     "output_type": "display_data"
    },
    {
     "name": "stdout",
     "output_type": "stream",
     "text": [
      "SYMBOL : SPY | EXPIRE_DATE : 2012-12-21              \r"
     ]
    },
    {
     "data": {
      "application/vnd.jupyter.widget-view+json": {
       "model_id": "6967d0aa99de4da5921d391ad9e08f92",
       "version_major": 2,
       "version_minor": 0
      },
      "text/plain": [
       "files progressive:   0%|          | 0/18 [00:00<?, ?it/s]"
      ]
     },
     "metadata": {},
     "output_type": "display_data"
    },
    {
     "name": "stdout",
     "output_type": "stream",
     "text": [
      "SYMBOL : SPY | EXPIRE_DATE : 2012-12-21              \r"
     ]
    },
    {
     "data": {
      "application/vnd.jupyter.widget-view+json": {
       "model_id": "884f9600201849b5b37e117f5ee8ba77",
       "version_major": 2,
       "version_minor": 0
      },
      "text/plain": [
       "files progressive:   0%|          | 0/20 [00:00<?, ?it/s]"
      ]
     },
     "metadata": {},
     "output_type": "display_data"
    },
    {
     "name": "stdout",
     "output_type": "stream",
     "text": [
      "SYMBOL : SPY | EXPIRE_DATE : 2012-12-21              \r"
     ]
    },
    {
     "data": {
      "application/vnd.jupyter.widget-view+json": {
       "model_id": "d648707a0b524d0583b53287c23381df",
       "version_major": 2,
       "version_minor": 0
      },
      "text/plain": [
       "files progressive:   0%|          | 0/20 [00:00<?, ?it/s]"
      ]
     },
     "metadata": {},
     "output_type": "display_data"
    },
    {
     "name": "stdout",
     "output_type": "stream",
     "text": [
      "SYMBOL : SPY | EXPIRE_DATE : 2012-12-21              \r"
     ]
    },
    {
     "data": {
      "application/vnd.jupyter.widget-view+json": {
       "model_id": "d286aca421b24a87969f39de514ea40d",
       "version_major": 2,
       "version_minor": 0
      },
      "text/plain": [
       "files progressive:   0%|          | 0/21 [00:00<?, ?it/s]"
      ]
     },
     "metadata": {},
     "output_type": "display_data"
    },
    {
     "name": "stdout",
     "output_type": "stream",
     "text": [
      "SYMBOL : SPY | EXPIRE_DATE : 2012-12-21              \r"
     ]
    },
    {
     "data": {
      "application/vnd.jupyter.widget-view+json": {
       "model_id": "6f116fb181624bc28c5803367a87b487",
       "version_major": 2,
       "version_minor": 0
      },
      "text/plain": [
       "files progressive:   0%|          | 0/20 [00:00<?, ?it/s]"
      ]
     },
     "metadata": {},
     "output_type": "display_data"
    },
    {
     "name": "stdout",
     "output_type": "stream",
     "text": [
      "SYMBOL : SPY | EXPIRE_DATE : 2012-12-21              \r"
     ]
    },
    {
     "data": {
      "application/vnd.jupyter.widget-view+json": {
       "model_id": "371bc33c28464a5ea53bcae29a32861d",
       "version_major": 2,
       "version_minor": 0
      },
      "text/plain": [
       "files progressive:   0%|          | 0/20 [00:00<?, ?it/s]"
      ]
     },
     "metadata": {},
     "output_type": "display_data"
    },
    {
     "name": "stdout",
     "output_type": "stream",
     "text": [
      "SYMBOL : SPY | EXPIRE_DATE : 2013-01-18              \r"
     ]
    },
    {
     "data": {
      "application/vnd.jupyter.widget-view+json": {
       "model_id": "aa9db176cbd449b19356e676e381d856",
       "version_major": 2,
       "version_minor": 0
      },
      "text/plain": [
       "files progressive:   0%|          | 0/21 [00:00<?, ?it/s]"
      ]
     },
     "metadata": {},
     "output_type": "display_data"
    },
    {
     "name": "stdout",
     "output_type": "stream",
     "text": [
      "SYMBOL : SPY | EXPIRE_DATE : 2013-12-20              \r"
     ]
    },
    {
     "data": {
      "application/vnd.jupyter.widget-view+json": {
       "model_id": "aed438c9138149e49659f1e8b1a8f55d",
       "version_major": 2,
       "version_minor": 0
      },
      "text/plain": [
       "files progressive:   0%|          | 0/21 [00:00<?, ?it/s]"
      ]
     },
     "metadata": {},
     "output_type": "display_data"
    },
    {
     "name": "stdout",
     "output_type": "stream",
     "text": [
      "SYMBOL : SPY | EXPIRE_DATE : 2013-12-20              \r"
     ]
    },
    {
     "data": {
      "application/vnd.jupyter.widget-view+json": {
       "model_id": "b3bd08f704774f68abdfda3b3143a544",
       "version_major": 2,
       "version_minor": 0
      },
      "text/plain": [
       "files progressive:   0%|          | 0/21 [00:00<?, ?it/s]"
      ]
     },
     "metadata": {},
     "output_type": "display_data"
    },
    {
     "name": "stdout",
     "output_type": "stream",
     "text": [
      "SYMBOL : SPY | EXPIRE_DATE : 2013-12-20              \r"
     ]
    },
    {
     "data": {
      "application/vnd.jupyter.widget-view+json": {
       "model_id": "e1c5d743fe9743df9c4a9103a2a3a445",
       "version_major": 2,
       "version_minor": 0
      },
      "text/plain": [
       "files progressive:   0%|          | 0/22 [00:00<?, ?it/s]"
      ]
     },
     "metadata": {},
     "output_type": "display_data"
    },
    {
     "name": "stdout",
     "output_type": "stream",
     "text": [
      "SYMBOL : SPY | EXPIRE_DATE : 2013-12-20              \r"
     ]
    },
    {
     "data": {
      "application/vnd.jupyter.widget-view+json": {
       "model_id": "67a5b358621149839be8c02c84e5c833",
       "version_major": 2,
       "version_minor": 0
      },
      "text/plain": [
       "files progressive:   0%|          | 0/22 [00:00<?, ?it/s]"
      ]
     },
     "metadata": {},
     "output_type": "display_data"
    },
    {
     "name": "stdout",
     "output_type": "stream",
     "text": [
      "SYMBOL : SPY | EXPIRE_DATE : 2013-12-20              \r"
     ]
    },
    {
     "data": {
      "application/vnd.jupyter.widget-view+json": {
       "model_id": "c9f2bc6b36ff4cc79a4c4d3e31cd9bc1",
       "version_major": 2,
       "version_minor": 0
      },
      "text/plain": [
       "files progressive:   0%|          | 0/21 [00:00<?, ?it/s]"
      ]
     },
     "metadata": {},
     "output_type": "display_data"
    },
    {
     "name": "stdout",
     "output_type": "stream",
     "text": [
      "SYMBOL : SPY | EXPIRE_DATE : 2013-12-20              \r"
     ]
    },
    {
     "data": {
      "application/vnd.jupyter.widget-view+json": {
       "model_id": "d87d0ffe50fb4bda8387033f033f8f27",
       "version_major": 2,
       "version_minor": 0
      },
      "text/plain": [
       "files progressive:   0%|          | 0/22 [00:00<?, ?it/s]"
      ]
     },
     "metadata": {},
     "output_type": "display_data"
    },
    {
     "name": "stdout",
     "output_type": "stream",
     "text": [
      "SYMBOL : SPY | EXPIRE_DATE : 2013-12-20              \r"
     ]
    },
    {
     "data": {
      "application/vnd.jupyter.widget-view+json": {
       "model_id": "c6e81891c1b74d498d9f19d933798112",
       "version_major": 2,
       "version_minor": 0
      },
      "text/plain": [
       "files progressive:   0%|          | 0/22 [00:00<?, ?it/s]"
      ]
     },
     "metadata": {},
     "output_type": "display_data"
    },
    {
     "name": "stdout",
     "output_type": "stream",
     "text": [
      "SYMBOL : SPY | EXPIRE_DATE : 2013-12-20              \r"
     ]
    },
    {
     "data": {
      "application/vnd.jupyter.widget-view+json": {
       "model_id": "8af29920bd124571aeca04d51c39c431",
       "version_major": 2,
       "version_minor": 0
      },
      "text/plain": [
       "files progressive:   0%|          | 0/21 [00:00<?, ?it/s]"
      ]
     },
     "metadata": {},
     "output_type": "display_data"
    },
    {
     "name": "stdout",
     "output_type": "stream",
     "text": [
      "SYMBOL : SPY | EXPIRE_DATE : 2013-12-20              \r"
     ]
    },
    {
     "data": {
      "application/vnd.jupyter.widget-view+json": {
       "model_id": "e45350a12c994af2a504cf74b0c55b18",
       "version_major": 2,
       "version_minor": 0
      },
      "text/plain": [
       "files progressive:   0%|          | 0/20 [00:00<?, ?it/s]"
      ]
     },
     "metadata": {},
     "output_type": "display_data"
    },
    {
     "name": "stdout",
     "output_type": "stream",
     "text": [
      "SYMBOL : SPY | EXPIRE_DATE : 2013-12-20              \r"
     ]
    },
    {
     "data": {
      "application/vnd.jupyter.widget-view+json": {
       "model_id": "dd8c647750a34e5da917f96dff3b2d76",
       "version_major": 2,
       "version_minor": 0
      },
      "text/plain": [
       "files progressive:   0%|          | 0/20 [00:00<?, ?it/s]"
      ]
     },
     "metadata": {},
     "output_type": "display_data"
    },
    {
     "name": "stdout",
     "output_type": "stream",
     "text": [
      "SYMBOL : SPY | EXPIRE_DATE : 2013-12-20              \r"
     ]
    },
    {
     "data": {
      "application/vnd.jupyter.widget-view+json": {
       "model_id": "19400b13f4204140b63fa7297572fa64",
       "version_major": 2,
       "version_minor": 0
      },
      "text/plain": [
       "files progressive:   0%|          | 0/20 [00:00<?, ?it/s]"
      ]
     },
     "metadata": {},
     "output_type": "display_data"
    },
    {
     "name": "stdout",
     "output_type": "stream",
     "text": [
      "SYMBOL : SPY | EXPIRE_DATE : 2014-01-17              \r"
     ]
    },
    {
     "data": {
      "application/vnd.jupyter.widget-view+json": {
       "model_id": "646f5b1ab8a64d3db7b04264e5bdaaff",
       "version_major": 2,
       "version_minor": 0
      },
      "text/plain": [
       "files progressive:   0%|          | 0/21 [00:00<?, ?it/s]"
      ]
     },
     "metadata": {},
     "output_type": "display_data"
    },
    {
     "name": "stdout",
     "output_type": "stream",
     "text": [
      "SYMBOL : SPY | EXPIRE_DATE : 2014-12-19              \r"
     ]
    },
    {
     "data": {
      "application/vnd.jupyter.widget-view+json": {
       "model_id": "38f4c82391304184a6b2e57445987a62",
       "version_major": 2,
       "version_minor": 0
      },
      "text/plain": [
       "files progressive:   0%|          | 0/24 [00:00<?, ?it/s]"
      ]
     },
     "metadata": {},
     "output_type": "display_data"
    },
    {
     "name": "stdout",
     "output_type": "stream",
     "text": [
      "SYMBOL : SPY | EXPIRE_DATE : 2015-12-18              \r"
     ]
    },
    {
     "data": {
      "application/vnd.jupyter.widget-view+json": {
       "model_id": "f98d1f4324bf447bbf800b64a3568eb5",
       "version_major": 2,
       "version_minor": 0
      },
      "text/plain": [
       "files progressive:   0%|          | 0/23 [00:00<?, ?it/s]"
      ]
     },
     "metadata": {},
     "output_type": "display_data"
    },
    {
     "name": "stdout",
     "output_type": "stream",
     "text": [
      "SYMBOL : SPY | EXPIRE_DATE : 2015-12-18              \r"
     ]
    },
    {
     "data": {
      "application/vnd.jupyter.widget-view+json": {
       "model_id": "5fbf90cb9a5749c09351ebec70333a66",
       "version_major": 2,
       "version_minor": 0
      },
      "text/plain": [
       "files progressive:   0%|          | 0/24 [00:00<?, ?it/s]"
      ]
     },
     "metadata": {},
     "output_type": "display_data"
    },
    {
     "name": "stdout",
     "output_type": "stream",
     "text": [
      "SYMBOL : SPY | EXPIRE_DATE : 2015-12-18              \r"
     ]
    },
    {
     "data": {
      "application/vnd.jupyter.widget-view+json": {
       "model_id": "c958c9893786483e870176d257e05d83",
       "version_major": 2,
       "version_minor": 0
      },
      "text/plain": [
       "files progressive:   0%|          | 0/24 [00:00<?, ?it/s]"
      ]
     },
     "metadata": {},
     "output_type": "display_data"
    },
    {
     "name": "stdout",
     "output_type": "stream",
     "text": [
      "SYMBOL : SPY | EXPIRE_DATE : 2015-12-18              \r"
     ]
    },
    {
     "data": {
      "application/vnd.jupyter.widget-view+json": {
       "model_id": "f69657d7a5aa412b9c7a3e155c133d01",
       "version_major": 2,
       "version_minor": 0
      },
      "text/plain": [
       "files progressive:   0%|          | 0/23 [00:00<?, ?it/s]"
      ]
     },
     "metadata": {},
     "output_type": "display_data"
    },
    {
     "name": "stdout",
     "output_type": "stream",
     "text": [
      "SYMBOL : SPY | EXPIRE_DATE : 2015-12-18              \r"
     ]
    },
    {
     "data": {
      "application/vnd.jupyter.widget-view+json": {
       "model_id": "7c66d0476c5e452ba31ef4c6d6bdca1f",
       "version_major": 2,
       "version_minor": 0
      },
      "text/plain": [
       "files progressive:   0%|          | 0/23 [00:00<?, ?it/s]"
      ]
     },
     "metadata": {},
     "output_type": "display_data"
    },
    {
     "name": "stdout",
     "output_type": "stream",
     "text": [
      "SYMBOL : SPY | EXPIRE_DATE : 2015-12-19              \r"
     ]
    },
    {
     "data": {
      "application/vnd.jupyter.widget-view+json": {
       "model_id": "892107b6fb4140ff9243a769f9993c5b",
       "version_major": 2,
       "version_minor": 0
      },
      "text/plain": [
       "files progressive:   0%|          | 0/23 [00:00<?, ?it/s]"
      ]
     },
     "metadata": {},
     "output_type": "display_data"
    },
    {
     "name": "stdout",
     "output_type": "stream",
     "text": [
      "SYMBOL : SPY | EXPIRE_DATE : 2015-12-19              \r"
     ]
    },
    {
     "data": {
      "application/vnd.jupyter.widget-view+json": {
       "model_id": "0aa269191ac94169906dfab2ffc994cf",
       "version_major": 2,
       "version_minor": 0
      },
      "text/plain": [
       "files progressive:   0%|          | 0/24 [00:00<?, ?it/s]"
      ]
     },
     "metadata": {},
     "output_type": "display_data"
    },
    {
     "name": "stdout",
     "output_type": "stream",
     "text": [
      "SYMBOL : SPY | EXPIRE_DATE : 2015-12-19              \r"
     ]
    },
    {
     "data": {
      "application/vnd.jupyter.widget-view+json": {
       "model_id": "126d4f0c67a044a780dc31af91d85b17",
       "version_major": 2,
       "version_minor": 0
      },
      "text/plain": [
       "files progressive:   0%|          | 0/23 [00:00<?, ?it/s]"
      ]
     },
     "metadata": {},
     "output_type": "display_data"
    },
    {
     "name": "stdout",
     "output_type": "stream",
     "text": [
      "SYMBOL : SPY | EXPIRE_DATE : 2015-12-19              \r"
     ]
    },
    {
     "data": {
      "application/vnd.jupyter.widget-view+json": {
       "model_id": "d642c76b19c0490ca745c3771bcc45ae",
       "version_major": 2,
       "version_minor": 0
      },
      "text/plain": [
       "files progressive:   0%|          | 0/24 [00:00<?, ?it/s]"
      ]
     },
     "metadata": {},
     "output_type": "display_data"
    },
    {
     "name": "stdout",
     "output_type": "stream",
     "text": [
      "SYMBOL : SPY | EXPIRE_DATE : 2015-12-19              \r"
     ]
    },
    {
     "data": {
      "application/vnd.jupyter.widget-view+json": {
       "model_id": "7f1b97b38a904730bc2b2814d3b877ae",
       "version_major": 2,
       "version_minor": 0
      },
      "text/plain": [
       "files progressive:   0%|          | 0/24 [00:00<?, ?it/s]"
      ]
     },
     "metadata": {},
     "output_type": "display_data"
    },
    {
     "name": "stdout",
     "output_type": "stream",
     "text": [
      "SYMBOL : SPY | EXPIRE_DATE : 2016-01-15              \r"
     ]
    },
    {
     "data": {
      "application/vnd.jupyter.widget-view+json": {
       "model_id": "1ccfb8454c7b4428855ae6ce016ad583",
       "version_major": 2,
       "version_minor": 0
      },
      "text/plain": [
       "files progressive:   0%|          | 0/25 [00:00<?, ?it/s]"
      ]
     },
     "metadata": {},
     "output_type": "display_data"
    },
    {
     "name": "stdout",
     "output_type": "stream",
     "text": [
      "SYMBOL : SPY | EXPIRE_DATE : 2016-12-16              \r"
     ]
    },
    {
     "data": {
      "application/vnd.jupyter.widget-view+json": {
       "model_id": "0f5131577bf74b8aa1c486e5850f97c6",
       "version_major": 2,
       "version_minor": 0
      },
      "text/plain": [
       "files progressive:   0%|          | 0/26 [00:00<?, ?it/s]"
      ]
     },
     "metadata": {},
     "output_type": "display_data"
    },
    {
     "name": "stdout",
     "output_type": "stream",
     "text": [
      "SYMBOL : SPY | EXPIRE_DATE : 2016-12-16              \r"
     ]
    },
    {
     "data": {
      "application/vnd.jupyter.widget-view+json": {
       "model_id": "a27f24cac19a4bb9b955d53dafff9e4c",
       "version_major": 2,
       "version_minor": 0
      },
      "text/plain": [
       "files progressive:   0%|          | 0/26 [00:00<?, ?it/s]"
      ]
     },
     "metadata": {},
     "output_type": "display_data"
    },
    {
     "name": "stdout",
     "output_type": "stream",
     "text": [
      "SYMBOL : SPY | EXPIRE_DATE : 2016-12-16              \r"
     ]
    },
    {
     "data": {
      "application/vnd.jupyter.widget-view+json": {
       "model_id": "e1ff69716e7c4f0387e9df70b396c7ec",
       "version_major": 2,
       "version_minor": 0
      },
      "text/plain": [
       "files progressive:   0%|          | 0/26 [00:00<?, ?it/s]"
      ]
     },
     "metadata": {},
     "output_type": "display_data"
    },
    {
     "name": "stdout",
     "output_type": "stream",
     "text": [
      "SYMBOL : SPY | EXPIRE_DATE : 2016-12-16              \r"
     ]
    },
    {
     "data": {
      "application/vnd.jupyter.widget-view+json": {
       "model_id": "bf2531756227440493591a43df6a4e70",
       "version_major": 2,
       "version_minor": 0
      },
      "text/plain": [
       "files progressive:   0%|          | 0/26 [00:00<?, ?it/s]"
      ]
     },
     "metadata": {},
     "output_type": "display_data"
    },
    {
     "name": "stdout",
     "output_type": "stream",
     "text": [
      "SYMBOL : SPY | EXPIRE_DATE : 2016-12-16              \r"
     ]
    },
    {
     "data": {
      "application/vnd.jupyter.widget-view+json": {
       "model_id": "300c073ba929429985fe184ffa2119e7",
       "version_major": 2,
       "version_minor": 0
      },
      "text/plain": [
       "files progressive:   0%|          | 0/26 [00:00<?, ?it/s]"
      ]
     },
     "metadata": {},
     "output_type": "display_data"
    },
    {
     "name": "stdout",
     "output_type": "stream",
     "text": [
      "SYMBOL : SPY | EXPIRE_DATE : 2016-12-16              \r"
     ]
    },
    {
     "data": {
      "application/vnd.jupyter.widget-view+json": {
       "model_id": "f818ed7ac3264f3fb34599977db6c934",
       "version_major": 2,
       "version_minor": 0
      },
      "text/plain": [
       "files progressive:   0%|          | 0/26 [00:00<?, ?it/s]"
      ]
     },
     "metadata": {},
     "output_type": "display_data"
    },
    {
     "name": "stdout",
     "output_type": "stream",
     "text": [
      "SYMBOL : SPY | EXPIRE_DATE : 2016-12-16              \r"
     ]
    },
    {
     "data": {
      "application/vnd.jupyter.widget-view+json": {
       "model_id": "aa563a6534f34627a0c07958387d48a2",
       "version_major": 2,
       "version_minor": 0
      },
      "text/plain": [
       "files progressive:   0%|          | 0/27 [00:00<?, ?it/s]"
      ]
     },
     "metadata": {},
     "output_type": "display_data"
    },
    {
     "name": "stdout",
     "output_type": "stream",
     "text": [
      "SYMBOL : SPY | EXPIRE_DATE : 2016-12-16              \r"
     ]
    },
    {
     "data": {
      "application/vnd.jupyter.widget-view+json": {
       "model_id": "753b6a19d9ea4b2db6c00eabd8598227",
       "version_major": 2,
       "version_minor": 0
      },
      "text/plain": [
       "files progressive:   0%|          | 0/27 [00:00<?, ?it/s]"
      ]
     },
     "metadata": {},
     "output_type": "display_data"
    },
    {
     "name": "stdout",
     "output_type": "stream",
     "text": [
      "SYMBOL : SPY | EXPIRE_DATE : 2016-12-16              \r"
     ]
    },
    {
     "data": {
      "application/vnd.jupyter.widget-view+json": {
       "model_id": "2a566f4b181149e6963ea4a4a7aee249",
       "version_major": 2,
       "version_minor": 0
      },
      "text/plain": [
       "files progressive:   0%|          | 0/25 [00:00<?, ?it/s]"
      ]
     },
     "metadata": {},
     "output_type": "display_data"
    },
    {
     "name": "stdout",
     "output_type": "stream",
     "text": [
      "SYMBOL : SPY | EXPIRE_DATE : 2016-12-16              \r"
     ]
    },
    {
     "data": {
      "application/vnd.jupyter.widget-view+json": {
       "model_id": "07707603d3fa455b8c6c399a620f35e9",
       "version_major": 2,
       "version_minor": 0
      },
      "text/plain": [
       "files progressive:   0%|          | 0/25 [00:00<?, ?it/s]"
      ]
     },
     "metadata": {},
     "output_type": "display_data"
    },
    {
     "name": "stdout",
     "output_type": "stream",
     "text": [
      "SYMBOL : SPY | EXPIRE_DATE : 2016-12-16              \r"
     ]
    },
    {
     "data": {
      "application/vnd.jupyter.widget-view+json": {
       "model_id": "80ea2e0157314f888ca545b5bd54f8ea",
       "version_major": 2,
       "version_minor": 0
      },
      "text/plain": [
       "files progressive:   0%|          | 0/25 [00:00<?, ?it/s]"
      ]
     },
     "metadata": {},
     "output_type": "display_data"
    },
    {
     "name": "stdout",
     "output_type": "stream",
     "text": [
      "SYMBOL : SPY | EXPIRE_DATE : 2017-01-20              \r"
     ]
    },
    {
     "data": {
      "application/vnd.jupyter.widget-view+json": {
       "model_id": "9664046fdff84601b8ddf10030d5ece4",
       "version_major": 2,
       "version_minor": 0
      },
      "text/plain": [
       "files progressive:   0%|          | 0/28 [00:00<?, ?it/s]"
      ]
     },
     "metadata": {},
     "output_type": "display_data"
    },
    {
     "name": "stdout",
     "output_type": "stream",
     "text": [
      "SYMBOL : SPY | EXPIRE_DATE : 2017-12-15              \r"
     ]
    },
    {
     "data": {
      "application/vnd.jupyter.widget-view+json": {
       "model_id": "511406be109440f892d5995937bda745",
       "version_major": 2,
       "version_minor": 0
      },
      "text/plain": [
       "files progressive:   0%|          | 0/28 [00:00<?, ?it/s]"
      ]
     },
     "metadata": {},
     "output_type": "display_data"
    },
    {
     "name": "stdout",
     "output_type": "stream",
     "text": [
      "SYMBOL : SPY | EXPIRE_DATE : 2017-12-15              \r"
     ]
    },
    {
     "data": {
      "application/vnd.jupyter.widget-view+json": {
       "model_id": "4bd6ab6444eb4e6bbae04b9387abfe17",
       "version_major": 2,
       "version_minor": 0
      },
      "text/plain": [
       "files progressive:   0%|          | 0/26 [00:00<?, ?it/s]"
      ]
     },
     "metadata": {},
     "output_type": "display_data"
    },
    {
     "name": "stdout",
     "output_type": "stream",
     "text": [
      "SYMBOL : SPY | EXPIRE_DATE : 2017-12-15              \r"
     ]
    },
    {
     "data": {
      "application/vnd.jupyter.widget-view+json": {
       "model_id": "bb877e51c466487c8c915ce441591802",
       "version_major": 2,
       "version_minor": 0
      },
      "text/plain": [
       "files progressive:   0%|          | 0/28 [00:00<?, ?it/s]"
      ]
     },
     "metadata": {},
     "output_type": "display_data"
    },
    {
     "name": "stdout",
     "output_type": "stream",
     "text": [
      "SYMBOL : SPY | EXPIRE_DATE : 2017-12-15              \r"
     ]
    },
    {
     "data": {
      "application/vnd.jupyter.widget-view+json": {
       "model_id": "0df0768f3aba45d68b91d156c452c43c",
       "version_major": 2,
       "version_minor": 0
      },
      "text/plain": [
       "files progressive:   0%|          | 0/28 [00:00<?, ?it/s]"
      ]
     },
     "metadata": {},
     "output_type": "display_data"
    },
    {
     "name": "stdout",
     "output_type": "stream",
     "text": [
      "SYMBOL : SPY | EXPIRE_DATE : 2017-12-15              \r"
     ]
    },
    {
     "data": {
      "application/vnd.jupyter.widget-view+json": {
       "model_id": "3a6fd3915ef943cc83d18b37e61f5728",
       "version_major": 2,
       "version_minor": 0
      },
      "text/plain": [
       "files progressive:   0%|          | 0/27 [00:00<?, ?it/s]"
      ]
     },
     "metadata": {},
     "output_type": "display_data"
    },
    {
     "name": "stdout",
     "output_type": "stream",
     "text": [
      "SYMBOL : SPY | EXPIRE_DATE : 2017-12-15              \r"
     ]
    },
    {
     "data": {
      "application/vnd.jupyter.widget-view+json": {
       "model_id": "5d6f6ea736644b98a0090b692e1f2deb",
       "version_major": 2,
       "version_minor": 0
      },
      "text/plain": [
       "files progressive:   0%|          | 0/27 [00:00<?, ?it/s]"
      ]
     },
     "metadata": {},
     "output_type": "display_data"
    },
    {
     "name": "stdout",
     "output_type": "stream",
     "text": [
      "SYMBOL : SPY | EXPIRE_DATE : 2017-12-15              \r"
     ]
    },
    {
     "data": {
      "application/vnd.jupyter.widget-view+json": {
       "model_id": "f86b662f17434569a2515c2b6bdf800c",
       "version_major": 2,
       "version_minor": 0
      },
      "text/plain": [
       "files progressive:   0%|          | 0/28 [00:00<?, ?it/s]"
      ]
     },
     "metadata": {},
     "output_type": "display_data"
    },
    {
     "name": "stdout",
     "output_type": "stream",
     "text": [
      "SYMBOL : SPY | EXPIRE_DATE : 2017-12-15              \r"
     ]
    },
    {
     "data": {
      "application/vnd.jupyter.widget-view+json": {
       "model_id": "053afbffed05437587106313162dbf2a",
       "version_major": 2,
       "version_minor": 0
      },
      "text/plain": [
       "files progressive:   0%|          | 0/26 [00:00<?, ?it/s]"
      ]
     },
     "metadata": {},
     "output_type": "display_data"
    },
    {
     "name": "stdout",
     "output_type": "stream",
     "text": [
      "SYMBOL : SPY | EXPIRE_DATE : 2017-12-15              \r"
     ]
    },
    {
     "data": {
      "application/vnd.jupyter.widget-view+json": {
       "model_id": "d0c42130083f40ecb432955f2aa7b278",
       "version_major": 2,
       "version_minor": 0
      },
      "text/plain": [
       "files progressive:   0%|          | 0/26 [00:00<?, ?it/s]"
      ]
     },
     "metadata": {},
     "output_type": "display_data"
    },
    {
     "name": "stdout",
     "output_type": "stream",
     "text": [
      "SYMBOL : SPY | EXPIRE_DATE : 2017-12-15              \r"
     ]
    },
    {
     "data": {
      "application/vnd.jupyter.widget-view+json": {
       "model_id": "c1c2a33d2be146b481c50f364f729bea",
       "version_major": 2,
       "version_minor": 0
      },
      "text/plain": [
       "files progressive:   0%|          | 0/27 [00:00<?, ?it/s]"
      ]
     },
     "metadata": {},
     "output_type": "display_data"
    },
    {
     "name": "stdout",
     "output_type": "stream",
     "text": [
      "SYMBOL : SPY | EXPIRE_DATE : 2017-12-15              \r"
     ]
    },
    {
     "data": {
      "application/vnd.jupyter.widget-view+json": {
       "model_id": "6eb5688d0a9d4e468e5bbaf4f64adcf8",
       "version_major": 2,
       "version_minor": 0
      },
      "text/plain": [
       "files progressive:   0%|          | 0/25 [00:00<?, ?it/s]"
      ]
     },
     "metadata": {},
     "output_type": "display_data"
    },
    {
     "name": "stdout",
     "output_type": "stream",
     "text": [
      "SYMBOL : SPY | EXPIRE_DATE : 2018-01-19              \r"
     ]
    },
    {
     "data": {
      "application/vnd.jupyter.widget-view+json": {
       "model_id": "09ef25930f284372a0491f9b03d6b75a",
       "version_major": 2,
       "version_minor": 0
      },
      "text/plain": [
       "files progressive:   0%|          | 0/27 [00:00<?, ?it/s]"
      ]
     },
     "metadata": {},
     "output_type": "display_data"
    },
    {
     "name": "stdout",
     "output_type": "stream",
     "text": [
      "SYMBOL : SPY | EXPIRE_DATE : 2018-12-21              \r"
     ]
    },
    {
     "data": {
      "application/vnd.jupyter.widget-view+json": {
       "model_id": "cfa30c184fa44297971edf0fb273642d",
       "version_major": 2,
       "version_minor": 0
      },
      "text/plain": [
       "files progressive:   0%|          | 0/27 [00:00<?, ?it/s]"
      ]
     },
     "metadata": {},
     "output_type": "display_data"
    },
    {
     "name": "stdout",
     "output_type": "stream",
     "text": [
      "SYMBOL : SPY | EXPIRE_DATE : 2018-12-21              \r"
     ]
    },
    {
     "data": {
      "application/vnd.jupyter.widget-view+json": {
       "model_id": "58837e74a5e14333848741b1477054dc",
       "version_major": 2,
       "version_minor": 0
      },
      "text/plain": [
       "files progressive:   0%|          | 0/27 [00:00<?, ?it/s]"
      ]
     },
     "metadata": {},
     "output_type": "display_data"
    },
    {
     "name": "stdout",
     "output_type": "stream",
     "text": [
      "SYMBOL : SPY | EXPIRE_DATE : 2018-12-21              \r"
     ]
    },
    {
     "data": {
      "application/vnd.jupyter.widget-view+json": {
       "model_id": "d6c5efd58bb54bafa54ee5e8d0dc034a",
       "version_major": 2,
       "version_minor": 0
      },
      "text/plain": [
       "files progressive:   0%|          | 0/28 [00:00<?, ?it/s]"
      ]
     },
     "metadata": {},
     "output_type": "display_data"
    },
    {
     "name": "stdout",
     "output_type": "stream",
     "text": [
      "SYMBOL : SPY | EXPIRE_DATE : 2018-12-21              \r"
     ]
    },
    {
     "data": {
      "application/vnd.jupyter.widget-view+json": {
       "model_id": "54bf8830995c44068f21f9bc8cd8b4d8",
       "version_major": 2,
       "version_minor": 0
      },
      "text/plain": [
       "files progressive:   0%|          | 0/31 [00:00<?, ?it/s]"
      ]
     },
     "metadata": {},
     "output_type": "display_data"
    },
    {
     "name": "stdout",
     "output_type": "stream",
     "text": [
      "SYMBOL : SPY | EXPIRE_DATE : 2018-12-21              \r"
     ]
    },
    {
     "data": {
      "application/vnd.jupyter.widget-view+json": {
       "model_id": "613e15472f5f4f52a20b6a608b59cdb0",
       "version_major": 2,
       "version_minor": 0
      },
      "text/plain": [
       "files progressive:   0%|          | 0/30 [00:00<?, ?it/s]"
      ]
     },
     "metadata": {},
     "output_type": "display_data"
    },
    {
     "name": "stdout",
     "output_type": "stream",
     "text": [
      "SYMBOL : SPY | EXPIRE_DATE : 2018-12-21              \r"
     ]
    },
    {
     "data": {
      "application/vnd.jupyter.widget-view+json": {
       "model_id": "e031c01b08074944a84f6aa23414dd1e",
       "version_major": 2,
       "version_minor": 0
      },
      "text/plain": [
       "files progressive:   0%|          | 0/29 [00:00<?, ?it/s]"
      ]
     },
     "metadata": {},
     "output_type": "display_data"
    },
    {
     "name": "stdout",
     "output_type": "stream",
     "text": [
      "SYMBOL : SPY | EXPIRE_DATE : 2018-12-21              \r"
     ]
    },
    {
     "data": {
      "application/vnd.jupyter.widget-view+json": {
       "model_id": "263e7aff105443cb86a50f6a59ea621e",
       "version_major": 2,
       "version_minor": 0
      },
      "text/plain": [
       "files progressive:   0%|          | 0/28 [00:00<?, ?it/s]"
      ]
     },
     "metadata": {},
     "output_type": "display_data"
    },
    {
     "name": "stdout",
     "output_type": "stream",
     "text": [
      "SYMBOL : SPY | EXPIRE_DATE : 2018-12-21              \r"
     ]
    },
    {
     "data": {
      "application/vnd.jupyter.widget-view+json": {
       "model_id": "8ac4a00975bc41e7b063c1ca2f3138be",
       "version_major": 2,
       "version_minor": 0
      },
      "text/plain": [
       "files progressive:   0%|          | 0/30 [00:00<?, ?it/s]"
      ]
     },
     "metadata": {},
     "output_type": "display_data"
    },
    {
     "name": "stdout",
     "output_type": "stream",
     "text": [
      "SYMBOL : SPY | EXPIRE_DATE : 2018-12-21              \r"
     ]
    },
    {
     "data": {
      "application/vnd.jupyter.widget-view+json": {
       "model_id": "a81d880567714964927c7c9bf3a1117c",
       "version_major": 2,
       "version_minor": 0
      },
      "text/plain": [
       "files progressive:   0%|          | 0/35 [00:00<?, ?it/s]"
      ]
     },
     "metadata": {},
     "output_type": "display_data"
    },
    {
     "name": "stdout",
     "output_type": "stream",
     "text": [
      "SYMBOL : SPY | EXPIRE_DATE : 2018-12-21              \r"
     ]
    },
    {
     "data": {
      "application/vnd.jupyter.widget-view+json": {
       "model_id": "3434d4c7a0854f2a85205fa62f287637",
       "version_major": 2,
       "version_minor": 0
      },
      "text/plain": [
       "files progressive:   0%|          | 0/35 [00:00<?, ?it/s]"
      ]
     },
     "metadata": {},
     "output_type": "display_data"
    },
    {
     "name": "stdout",
     "output_type": "stream",
     "text": [
      "SYMBOL : SPY | EXPIRE_DATE : 2018-12-21              \r"
     ]
    },
    {
     "data": {
      "application/vnd.jupyter.widget-view+json": {
       "model_id": "1d4216a7d05644798cb1c0885ac9b28c",
       "version_major": 2,
       "version_minor": 0
      },
      "text/plain": [
       "files progressive:   0%|          | 0/35 [00:00<?, ?it/s]"
      ]
     },
     "metadata": {},
     "output_type": "display_data"
    },
    {
     "name": "stdout",
     "output_type": "stream",
     "text": [
      "SYMBOL : SPY | EXPIRE_DATE : 2019-01-18              \r"
     ]
    },
    {
     "data": {
      "application/vnd.jupyter.widget-view+json": {
       "model_id": "c7933d60322d4bbf9b54e0375b2edd00",
       "version_major": 2,
       "version_minor": 0
      },
      "text/plain": [
       "files progressive:   0%|          | 0/36 [00:00<?, ?it/s]"
      ]
     },
     "metadata": {},
     "output_type": "display_data"
    },
    {
     "name": "stdout",
     "output_type": "stream",
     "text": [
      "SYMBOL : SPY | EXPIRE_DATE : 2019-12-20              \r"
     ]
    },
    {
     "data": {
      "application/vnd.jupyter.widget-view+json": {
       "model_id": "0f64320f5bd0497aa0ec8cc78cb154b4",
       "version_major": 2,
       "version_minor": 0
      },
      "text/plain": [
       "files progressive:   0%|          | 0/37 [00:00<?, ?it/s]"
      ]
     },
     "metadata": {},
     "output_type": "display_data"
    },
    {
     "name": "stdout",
     "output_type": "stream",
     "text": [
      "SYMBOL : SPY | EXPIRE_DATE : 2019-12-20              \r"
     ]
    },
    {
     "data": {
      "application/vnd.jupyter.widget-view+json": {
       "model_id": "ab5829c81b3b4e27872189161ab38f1c",
       "version_major": 2,
       "version_minor": 0
      },
      "text/plain": [
       "files progressive:   0%|          | 0/35 [00:00<?, ?it/s]"
      ]
     },
     "metadata": {},
     "output_type": "display_data"
    },
    {
     "name": "stdout",
     "output_type": "stream",
     "text": [
      "SYMBOL : SPY | EXPIRE_DATE : 2019-12-20              \r"
     ]
    },
    {
     "data": {
      "application/vnd.jupyter.widget-view+json": {
       "model_id": "5f1c3d4d1d2043b790ad7caa3294a81d",
       "version_major": 2,
       "version_minor": 0
      },
      "text/plain": [
       "files progressive:   0%|          | 0/38 [00:00<?, ?it/s]"
      ]
     },
     "metadata": {},
     "output_type": "display_data"
    },
    {
     "name": "stdout",
     "output_type": "stream",
     "text": [
      "SYMBOL : SPY | EXPIRE_DATE : 2019-12-20              \r"
     ]
    },
    {
     "data": {
      "application/vnd.jupyter.widget-view+json": {
       "model_id": "b22174f26c1e4b0a8d84c407d2543748",
       "version_major": 2,
       "version_minor": 0
      },
      "text/plain": [
       "files progressive:   0%|          | 0/37 [00:00<?, ?it/s]"
      ]
     },
     "metadata": {},
     "output_type": "display_data"
    },
    {
     "name": "stdout",
     "output_type": "stream",
     "text": [
      "SYMBOL : SPY | EXPIRE_DATE : 2019-12-20              \r"
     ]
    },
    {
     "data": {
      "application/vnd.jupyter.widget-view+json": {
       "model_id": "c900cc777fec4813bc07ae7592512738",
       "version_major": 2,
       "version_minor": 0
      },
      "text/plain": [
       "files progressive:   0%|          | 0/36 [00:00<?, ?it/s]"
      ]
     },
     "metadata": {},
     "output_type": "display_data"
    },
    {
     "name": "stdout",
     "output_type": "stream",
     "text": [
      "SYMBOL : SPY | EXPIRE_DATE : 2019-12-20              \r"
     ]
    },
    {
     "data": {
      "application/vnd.jupyter.widget-view+json": {
       "model_id": "6973e969bb6947068d8315a27221383d",
       "version_major": 2,
       "version_minor": 0
      },
      "text/plain": [
       "files progressive:   0%|          | 0/37 [00:00<?, ?it/s]"
      ]
     },
     "metadata": {},
     "output_type": "display_data"
    },
    {
     "name": "stdout",
     "output_type": "stream",
     "text": [
      "SYMBOL : SPY | EXPIRE_DATE : 2019-12-20              \r"
     ]
    },
    {
     "data": {
      "application/vnd.jupyter.widget-view+json": {
       "model_id": "effb3bfcd3ba44f3871cca7f2194d304",
       "version_major": 2,
       "version_minor": 0
      },
      "text/plain": [
       "files progressive:   0%|          | 0/37 [00:00<?, ?it/s]"
      ]
     },
     "metadata": {},
     "output_type": "display_data"
    },
    {
     "name": "stdout",
     "output_type": "stream",
     "text": [
      "SYMBOL : SPY | EXPIRE_DATE : 2019-12-20              \r"
     ]
    },
    {
     "data": {
      "application/vnd.jupyter.widget-view+json": {
       "model_id": "59cdbc8e338342aabcdeda6a4056628d",
       "version_major": 2,
       "version_minor": 0
      },
      "text/plain": [
       "files progressive:   0%|          | 0/37 [00:00<?, ?it/s]"
      ]
     },
     "metadata": {},
     "output_type": "display_data"
    },
    {
     "name": "stdout",
     "output_type": "stream",
     "text": [
      "SYMBOL : SPY | EXPIRE_DATE : 2019-12-20              \r"
     ]
    },
    {
     "data": {
      "application/vnd.jupyter.widget-view+json": {
       "model_id": "85bd78c4a3344e89af27bed1ec995c48",
       "version_major": 2,
       "version_minor": 0
      },
      "text/plain": [
       "files progressive:   0%|          | 0/36 [00:00<?, ?it/s]"
      ]
     },
     "metadata": {},
     "output_type": "display_data"
    },
    {
     "name": "stdout",
     "output_type": "stream",
     "text": [
      "SYMBOL : SPY | EXPIRE_DATE : 2019-12-20              \r"
     ]
    },
    {
     "data": {
      "application/vnd.jupyter.widget-view+json": {
       "model_id": "f38f3a5af85644d597a5d4e91d692ef1",
       "version_major": 2,
       "version_minor": 0
      },
      "text/plain": [
       "files progressive:   0%|          | 0/36 [00:00<?, ?it/s]"
      ]
     },
     "metadata": {},
     "output_type": "display_data"
    },
    {
     "name": "stdout",
     "output_type": "stream",
     "text": [
      "SYMBOL : SPY | EXPIRE_DATE : 2019-12-20              \r"
     ]
    },
    {
     "data": {
      "application/vnd.jupyter.widget-view+json": {
       "model_id": "c4895022c0874877ba470710f33cc5c2",
       "version_major": 2,
       "version_minor": 0
      },
      "text/plain": [
       "files progressive:   0%|          | 0/36 [00:00<?, ?it/s]"
      ]
     },
     "metadata": {},
     "output_type": "display_data"
    },
    {
     "name": "stdout",
     "output_type": "stream",
     "text": [
      "SYMBOL : SPY | EXPIRE_DATE : 2020-01-17              \r"
     ]
    },
    {
     "data": {
      "application/vnd.jupyter.widget-view+json": {
       "model_id": "457e3587cc3d4c0fa1f51b28f4f9d692",
       "version_major": 2,
       "version_minor": 0
      },
      "text/plain": [
       "files progressive:   0%|          | 0/37 [00:00<?, ?it/s]"
      ]
     },
     "metadata": {},
     "output_type": "display_data"
    },
    {
     "name": "stdout",
     "output_type": "stream",
     "text": [
      "SYMBOL : SPY | EXPIRE_DATE : 2020-12-18              \r"
     ]
    },
    {
     "data": {
      "application/vnd.jupyter.widget-view+json": {
       "model_id": "6bf723c5c6704367b399cbcb8fc088c4",
       "version_major": 2,
       "version_minor": 0
      },
      "text/plain": [
       "files progressive:   0%|          | 0/46 [00:00<?, ?it/s]"
      ]
     },
     "metadata": {},
     "output_type": "display_data"
    },
    {
     "name": "stdout",
     "output_type": "stream",
     "text": [
      "SYMBOL : SPY | EXPIRE_DATE : 2024-12-20              \r"
     ]
    },
    {
     "data": {
      "application/vnd.jupyter.widget-view+json": {
       "model_id": "d24a28039a8643d9bb8ed6de9831fab7",
       "version_major": 2,
       "version_minor": 0
      },
      "text/plain": [
       "files progressive:   0%|          | 0/45 [00:00<?, ?it/s]"
      ]
     },
     "metadata": {},
     "output_type": "display_data"
    },
    {
     "name": "stdout",
     "output_type": "stream",
     "text": [
      "SYMBOL : SPY | EXPIRE_DATE : 2024-12-20              \r"
     ]
    },
    {
     "data": {
      "application/vnd.jupyter.widget-view+json": {
       "model_id": "54d7b79f044a4c3bb8f31b39a95d8a17",
       "version_major": 2,
       "version_minor": 0
      },
      "text/plain": [
       "files progressive:   0%|          | 0/46 [00:00<?, ?it/s]"
      ]
     },
     "metadata": {},
     "output_type": "display_data"
    },
    {
     "name": "stdout",
     "output_type": "stream",
     "text": [
      "SYMBOL : SPY | EXPIRE_DATE : 2024-12-20              \r"
     ]
    },
    {
     "data": {
      "application/vnd.jupyter.widget-view+json": {
       "model_id": "7fb7ee7e14694c53a841cc807fc1b7af",
       "version_major": 2,
       "version_minor": 0
      },
      "text/plain": [
       "files progressive:   0%|          | 0/45 [00:00<?, ?it/s]"
      ]
     },
     "metadata": {},
     "output_type": "display_data"
    },
    {
     "name": "stdout",
     "output_type": "stream",
     "text": [
      "SYMBOL : SPY | EXPIRE_DATE : 2024-12-20              \r"
     ]
    },
    {
     "data": {
      "application/vnd.jupyter.widget-view+json": {
       "model_id": "5dffba45382740f99ccf7d3326b239c3",
       "version_major": 2,
       "version_minor": 0
      },
      "text/plain": [
       "files progressive:   0%|          | 0/46 [00:00<?, ?it/s]"
      ]
     },
     "metadata": {},
     "output_type": "display_data"
    },
    {
     "name": "stdout",
     "output_type": "stream",
     "text": [
      "SYMBOL : SPY | EXPIRE_DATE : 2024-12-20              \r"
     ]
    },
    {
     "data": {
      "application/vnd.jupyter.widget-view+json": {
       "model_id": "1f6a3acf14f34a8e9c24aad5c72918d6",
       "version_major": 2,
       "version_minor": 0
      },
      "text/plain": [
       "files progressive:   0%|          | 0/47 [00:00<?, ?it/s]"
      ]
     },
     "metadata": {},
     "output_type": "display_data"
    },
    {
     "name": "stdout",
     "output_type": "stream",
     "text": [
      "SYMBOL : SPY | EXPIRE_DATE : 2024-12-20              \r"
     ]
    },
    {
     "data": {
      "application/vnd.jupyter.widget-view+json": {
       "model_id": "0b8882d8ce96465cbd77f562f4517f4c",
       "version_major": 2,
       "version_minor": 0
      },
      "text/plain": [
       "files progressive:   0%|          | 0/46 [00:00<?, ?it/s]"
      ]
     },
     "metadata": {},
     "output_type": "display_data"
    },
    {
     "name": "stdout",
     "output_type": "stream",
     "text": [
      "SYMBOL : SPY | EXPIRE_DATE : 2024-12-20              \r"
     ]
    },
    {
     "data": {
      "application/vnd.jupyter.widget-view+json": {
       "model_id": "996684be36a846a0bda5e7f06c3355e8",
       "version_major": 2,
       "version_minor": 0
      },
      "text/plain": [
       "files progressive:   0%|          | 0/44 [00:00<?, ?it/s]"
      ]
     },
     "metadata": {},
     "output_type": "display_data"
    },
    {
     "name": "stdout",
     "output_type": "stream",
     "text": [
      "SYMBOL : SPY | EXPIRE_DATE : 2024-12-20              \r"
     ]
    },
    {
     "data": {
      "application/vnd.jupyter.widget-view+json": {
       "model_id": "5d2300e5a19f46d3a91f4d0a118de7e9",
       "version_major": 2,
       "version_minor": 0
      },
      "text/plain": [
       "files progressive:   0%|          | 0/44 [00:00<?, ?it/s]"
      ]
     },
     "metadata": {},
     "output_type": "display_data"
    },
    {
     "name": "stdout",
     "output_type": "stream",
     "text": [
      "SYMBOL : SPY | EXPIRE_DATE : 2025-01-17              \r"
     ]
    },
    {
     "data": {
      "application/vnd.jupyter.widget-view+json": {
       "model_id": "b77ab9a0c6d943eab1d2249fae397976",
       "version_major": 2,
       "version_minor": 0
      },
      "text/plain": [
       "files progressive:   0%|          | 0/44 [00:00<?, ?it/s]"
      ]
     },
     "metadata": {},
     "output_type": "display_data"
    },
    {
     "name": "stdout",
     "output_type": "stream",
     "text": [
      "SYMBOL : SPY | EXPIRE_DATE : 2025-01-17              \r"
     ]
    },
    {
     "data": {
      "application/vnd.jupyter.widget-view+json": {
       "model_id": "18cc7fda773a4fbe8b8a4272d7bca68a",
       "version_major": 2,
       "version_minor": 0
      },
      "text/plain": [
       "files progressive:   0%|          | 0/45 [00:00<?, ?it/s]"
      ]
     },
     "metadata": {},
     "output_type": "display_data"
    },
    {
     "name": "stdout",
     "output_type": "stream",
     "text": [
      "SYMBOL : SPY | EXPIRE_DATE : 2025-01-17              \r"
     ]
    },
    {
     "data": {
      "application/vnd.jupyter.widget-view+json": {
       "model_id": "258217c3783f4ba1990d9bdc68a6aec6",
       "version_major": 2,
       "version_minor": 0
      },
      "text/plain": [
       "files progressive:   0%|          | 0/49 [00:00<?, ?it/s]"
      ]
     },
     "metadata": {},
     "output_type": "display_data"
    },
    {
     "name": "stdout",
     "output_type": "stream",
     "text": [
      "SYMBOL : SPY | EXPIRE_DATE : 2025-12-19              \r"
     ]
    },
    {
     "data": {
      "application/vnd.jupyter.widget-view+json": {
       "model_id": "dc1ec567dcae47e1bf8df03230c789d0",
       "version_major": 2,
       "version_minor": 0
      },
      "text/plain": [
       "files progressive:   0%|          | 0/51 [00:00<?, ?it/s]"
      ]
     },
     "metadata": {},
     "output_type": "display_data"
    },
    {
     "name": "stdout",
     "output_type": "stream",
     "text": [
      "SYMBOL : SPY | EXPIRE_DATE : 2025-12-19              \r"
     ]
    },
    {
     "data": {
      "application/vnd.jupyter.widget-view+json": {
       "model_id": "a72d9f5e75d84da9b6c4ff365a4fe861",
       "version_major": 2,
       "version_minor": 0
      },
      "text/plain": [
       "files progressive:   0%|          | 0/50 [00:00<?, ?it/s]"
      ]
     },
     "metadata": {},
     "output_type": "display_data"
    },
    {
     "name": "stdout",
     "output_type": "stream",
     "text": [
      "SYMBOL : SPY | EXPIRE_DATE : 2025-12-19              \r"
     ]
    },
    {
     "data": {
      "application/vnd.jupyter.widget-view+json": {
       "model_id": "4a1235ada2454182bcef56f1f3c022e0",
       "version_major": 2,
       "version_minor": 0
      },
      "text/plain": [
       "files progressive:   0%|          | 0/53 [00:00<?, ?it/s]"
      ]
     },
     "metadata": {},
     "output_type": "display_data"
    },
    {
     "name": "stdout",
     "output_type": "stream",
     "text": [
      "SYMBOL : SPY | EXPIRE_DATE : 2025-12-19              \r"
     ]
    },
    {
     "data": {
      "application/vnd.jupyter.widget-view+json": {
       "model_id": "f98ca9d78859474f8268753d5a5d2190",
       "version_major": 2,
       "version_minor": 0
      },
      "text/plain": [
       "files progressive:   0%|          | 0/50 [00:00<?, ?it/s]"
      ]
     },
     "metadata": {},
     "output_type": "display_data"
    },
    {
     "name": "stdout",
     "output_type": "stream",
     "text": [
      "SYMBOL : SPY | EXPIRE_DATE : 2025-12-19              \r"
     ]
    },
    {
     "data": {
      "application/vnd.jupyter.widget-view+json": {
       "model_id": "26fd248c5a5248c6806d640845f6a949",
       "version_major": 2,
       "version_minor": 0
      },
      "text/plain": [
       "files progressive:   0%|          | 0/53 [00:00<?, ?it/s]"
      ]
     },
     "metadata": {},
     "output_type": "display_data"
    },
    {
     "name": "stdout",
     "output_type": "stream",
     "text": [
      "SYMBOL : SPY | EXPIRE_DATE : 2025-12-19              \r"
     ]
    },
    {
     "data": {
      "application/vnd.jupyter.widget-view+json": {
       "model_id": "982b8319102b4168a838192b750bf0e8",
       "version_major": 2,
       "version_minor": 0
      },
      "text/plain": [
       "files progressive:   0%|          | 0/51 [00:00<?, ?it/s]"
      ]
     },
     "metadata": {},
     "output_type": "display_data"
    },
    {
     "name": "stdout",
     "output_type": "stream",
     "text": [
      "SYMBOL : SPY | EXPIRE_DATE : 2025-12-19              \r"
     ]
    },
    {
     "data": {
      "application/vnd.jupyter.widget-view+json": {
       "model_id": "1bc8db2cba7d4b0698dfcadc850cc358",
       "version_major": 2,
       "version_minor": 0
      },
      "text/plain": [
       "files progressive:   0%|          | 0/50 [00:00<?, ?it/s]"
      ]
     },
     "metadata": {},
     "output_type": "display_data"
    },
    {
     "name": "stdout",
     "output_type": "stream",
     "text": [
      "SYMBOL : SPY | EXPIRE_DATE : 2022-12-16              \r"
     ]
    },
    {
     "data": {
      "application/vnd.jupyter.widget-view+json": {
       "model_id": "762bd100e7014dc1a19cc8e416b5f4ee",
       "version_major": 2,
       "version_minor": 0
      },
      "text/plain": [
       "files progressive:   0%|          | 0/49 [00:00<?, ?it/s]"
      ]
     },
     "metadata": {},
     "output_type": "display_data"
    },
    {
     "name": "stdout",
     "output_type": "stream",
     "text": [
      "SYMBOL : SPY | EXPIRE_DATE : 2022-12-16              \r"
     ]
    },
    {
     "data": {
      "application/vnd.jupyter.widget-view+json": {
       "model_id": "cc2037cad97c4c1b9fb39b329ff9eba0",
       "version_major": 2,
       "version_minor": 0
      },
      "text/plain": [
       "files progressive:   0%|          | 0/49 [00:00<?, ?it/s]"
      ]
     },
     "metadata": {},
     "output_type": "display_data"
    },
    {
     "name": "stdout",
     "output_type": "stream",
     "text": [
      "SYMBOL : SPY | EXPIRE_DATE : 2022-12-16              \r"
     ]
    },
    {
     "data": {
      "application/vnd.jupyter.widget-view+json": {
       "model_id": "6c4f49766a144b56af717a15dc155642",
       "version_major": 2,
       "version_minor": 0
      },
      "text/plain": [
       "files progressive:   0%|          | 0/49 [00:00<?, ?it/s]"
      ]
     },
     "metadata": {},
     "output_type": "display_data"
    },
    {
     "name": "stdout",
     "output_type": "stream",
     "text": [
      "SYMBOL : SPY | EXPIRE_DATE : 2022-12-16              \r"
     ]
    },
    {
     "data": {
      "application/vnd.jupyter.widget-view+json": {
       "model_id": "15bee94a0d0e4b9f8fa064083f4d2cb8",
       "version_major": 2,
       "version_minor": 0
      },
      "text/plain": [
       "files progressive:   0%|          | 0/49 [00:00<?, ?it/s]"
      ]
     },
     "metadata": {},
     "output_type": "display_data"
    },
    {
     "name": "stdout",
     "output_type": "stream",
     "text": [
      "SYMBOL : SPY | EXPIRE_DATE : 2022-12-16              \r"
     ]
    },
    {
     "data": {
      "application/vnd.jupyter.widget-view+json": {
       "model_id": "7f03405bee4a4a2b889d49155f3d4840",
       "version_major": 2,
       "version_minor": 0
      },
      "text/plain": [
       "files progressive:   0%|          | 0/48 [00:00<?, ?it/s]"
      ]
     },
     "metadata": {},
     "output_type": "display_data"
    },
    {
     "name": "stdout",
     "output_type": "stream",
     "text": [
      "SYMBOL : SPY | EXPIRE_DATE : 2022-12-16              \r"
     ]
    },
    {
     "data": {
      "application/vnd.jupyter.widget-view+json": {
       "model_id": "61c1b96a016546d28c0e943b2b3eb81a",
       "version_major": 2,
       "version_minor": 0
      },
      "text/plain": [
       "files progressive:   0%|          | 0/48 [00:00<?, ?it/s]"
      ]
     },
     "metadata": {},
     "output_type": "display_data"
    },
    {
     "name": "stdout",
     "output_type": "stream",
     "text": [
      "SYMBOL : SPY | EXPIRE_DATE : 2022-12-16              \r"
     ]
    },
    {
     "data": {
      "application/vnd.jupyter.widget-view+json": {
       "model_id": "5c9610f7d9494168b89a2627748becbb",
       "version_major": 2,
       "version_minor": 0
      },
      "text/plain": [
       "files progressive:   0%|          | 0/46 [00:00<?, ?it/s]"
      ]
     },
     "metadata": {},
     "output_type": "display_data"
    },
    {
     "name": "stdout",
     "output_type": "stream",
     "text": [
      "SYMBOL : SPY | EXPIRE_DATE : 2022-12-16              \r"
     ]
    },
    {
     "data": {
      "application/vnd.jupyter.widget-view+json": {
       "model_id": "7e01b0d881af46bbb136e163b8a1f9e8",
       "version_major": 2,
       "version_minor": 0
      },
      "text/plain": [
       "files progressive:   0%|          | 0/48 [00:00<?, ?it/s]"
      ]
     },
     "metadata": {},
     "output_type": "display_data"
    },
    {
     "name": "stdout",
     "output_type": "stream",
     "text": [
      "SYMBOL : SPY | EXPIRE_DATE : 2023-01-20              \r"
     ]
    },
    {
     "data": {
      "application/vnd.jupyter.widget-view+json": {
       "model_id": "9772ee455a454166b8b3f8d0b5d61921",
       "version_major": 2,
       "version_minor": 0
      },
      "text/plain": [
       "files progressive:   0%|          | 0/49 [00:00<?, ?it/s]"
      ]
     },
     "metadata": {},
     "output_type": "display_data"
    },
    {
     "name": "stdout",
     "output_type": "stream",
     "text": [
      "SYMBOL : SPY | EXPIRE_DATE : 2023-01-20              \r"
     ]
    },
    {
     "data": {
      "application/vnd.jupyter.widget-view+json": {
       "model_id": "99b4b2ce35b549c294a44ce139048aa4",
       "version_major": 2,
       "version_minor": 0
      },
      "text/plain": [
       "files progressive:   0%|          | 0/46 [00:00<?, ?it/s]"
      ]
     },
     "metadata": {},
     "output_type": "display_data"
    },
    {
     "name": "stdout",
     "output_type": "stream",
     "text": [
      "SYMBOL : SPY | EXPIRE_DATE : 2023-01-20              \r"
     ]
    },
    {
     "data": {
      "application/vnd.jupyter.widget-view+json": {
       "model_id": "14f700aed7884a1880b7bea111c2691e",
       "version_major": 2,
       "version_minor": 0
      },
      "text/plain": [
       "files progressive:   0%|          | 0/49 [00:00<?, ?it/s]"
      ]
     },
     "metadata": {},
     "output_type": "display_data"
    },
    {
     "name": "stdout",
     "output_type": "stream",
     "text": [
      "SYMBOL : SPY | EXPIRE_DATE : 2023-12-15              \r"
     ]
    },
    {
     "data": {
      "application/vnd.jupyter.widget-view+json": {
       "model_id": "cb13f821d5d14feb8d45780a5b84ccc7",
       "version_major": 2,
       "version_minor": 0
      },
      "text/plain": [
       "files progressive:   0%|          | 0/48 [00:00<?, ?it/s]"
      ]
     },
     "metadata": {},
     "output_type": "display_data"
    },
    {
     "name": "stdout",
     "output_type": "stream",
     "text": [
      "SYMBOL : SPY | EXPIRE_DATE : 2023-12-15              \r"
     ]
    },
    {
     "data": {
      "application/vnd.jupyter.widget-view+json": {
       "model_id": "81aa73753352436ab4126e7b7a54436c",
       "version_major": 2,
       "version_minor": 0
      },
      "text/plain": [
       "files progressive:   0%|          | 0/49 [00:00<?, ?it/s]"
      ]
     },
     "metadata": {},
     "output_type": "display_data"
    },
    {
     "name": "stdout",
     "output_type": "stream",
     "text": [
      "SYMBOL : SPY | EXPIRE_DATE : 2023-12-15              \r"
     ]
    },
    {
     "data": {
      "application/vnd.jupyter.widget-view+json": {
       "model_id": "8d47b73120574fc89a0d742e7adcc4a1",
       "version_major": 2,
       "version_minor": 0
      },
      "text/plain": [
       "files progressive:   0%|          | 0/50 [00:00<?, ?it/s]"
      ]
     },
     "metadata": {},
     "output_type": "display_data"
    },
    {
     "name": "stdout",
     "output_type": "stream",
     "text": [
      "SYMBOL : SPY | EXPIRE_DATE : 2023-12-15              \r"
     ]
    },
    {
     "data": {
      "application/vnd.jupyter.widget-view+json": {
       "model_id": "2fce1092b711410fb32b531f499ef223",
       "version_major": 2,
       "version_minor": 0
      },
      "text/plain": [
       "files progressive:   0%|          | 0/50 [00:00<?, ?it/s]"
      ]
     },
     "metadata": {},
     "output_type": "display_data"
    },
    {
     "name": "stdout",
     "output_type": "stream",
     "text": [
      "SYMBOL : SPY | EXPIRE_DATE : 2023-12-15              \r"
     ]
    },
    {
     "data": {
      "application/vnd.jupyter.widget-view+json": {
       "model_id": "62e84da8c1d84c4e997b296951bc11d7",
       "version_major": 2,
       "version_minor": 0
      },
      "text/plain": [
       "files progressive:   0%|          | 0/47 [00:00<?, ?it/s]"
      ]
     },
     "metadata": {},
     "output_type": "display_data"
    },
    {
     "name": "stdout",
     "output_type": "stream",
     "text": [
      "SYMBOL : SPY | EXPIRE_DATE : 2023-12-15              \r"
     ]
    },
    {
     "data": {
      "application/vnd.jupyter.widget-view+json": {
       "model_id": "591a28af80b84318991c37650b9eac49",
       "version_major": 2,
       "version_minor": 0
      },
      "text/plain": [
       "files progressive:   0%|          | 0/48 [00:00<?, ?it/s]"
      ]
     },
     "metadata": {},
     "output_type": "display_data"
    },
    {
     "name": "stdout",
     "output_type": "stream",
     "text": [
      "SYMBOL : SPY | EXPIRE_DATE : 2023-12-15              \r"
     ]
    },
    {
     "data": {
      "application/vnd.jupyter.widget-view+json": {
       "model_id": "174ab923ef7f4304855954c413a35fe9",
       "version_major": 2,
       "version_minor": 0
      },
      "text/plain": [
       "files progressive:   0%|          | 0/48 [00:00<?, ?it/s]"
      ]
     },
     "metadata": {},
     "output_type": "display_data"
    },
    {
     "name": "stdout",
     "output_type": "stream",
     "text": [
      "SYMBOL : SPY | EXPIRE_DATE : 2023-12-15              \r"
     ]
    },
    {
     "data": {
      "application/vnd.jupyter.widget-view+json": {
       "model_id": "c44da93b3bea47c3978eb3c1de82bfea",
       "version_major": 2,
       "version_minor": 0
      },
      "text/plain": [
       "files progressive:   0%|          | 0/47 [00:00<?, ?it/s]"
      ]
     },
     "metadata": {},
     "output_type": "display_data"
    },
    {
     "name": "stdout",
     "output_type": "stream",
     "text": [
      "SYMBOL : SPY | EXPIRE_DATE : 2023-12-15              \r"
     ]
    },
    {
     "data": {
      "application/vnd.jupyter.widget-view+json": {
       "model_id": "e2b8cf2166ed41a190b9caee12ae8a2c",
       "version_major": 2,
       "version_minor": 0
      },
      "text/plain": [
       "files progressive:   0%|          | 0/47 [00:00<?, ?it/s]"
      ]
     },
     "metadata": {},
     "output_type": "display_data"
    },
    {
     "name": "stdout",
     "output_type": "stream",
     "text": [
      "SYMBOL : SPY | EXPIRE_DATE : 2024-01-19              \r"
     ]
    },
    {
     "data": {
      "application/vnd.jupyter.widget-view+json": {
       "model_id": "229bf4ed074c43c682088c5b6a307b72",
       "version_major": 2,
       "version_minor": 0
      },
      "text/plain": [
       "files progressive:   0%|          | 0/48 [00:00<?, ?it/s]"
      ]
     },
     "metadata": {},
     "output_type": "display_data"
    },
    {
     "name": "stdout",
     "output_type": "stream",
     "text": [
      "SYMBOL : SPY | EXPIRE_DATE : 2024-01-19              \r"
     ]
    },
    {
     "data": {
      "application/vnd.jupyter.widget-view+json": {
       "model_id": "1025a902d8664c53a1e51e608acf3d72",
       "version_major": 2,
       "version_minor": 0
      },
      "text/plain": [
       "files progressive:   0%|          | 0/46 [00:00<?, ?it/s]"
      ]
     },
     "metadata": {},
     "output_type": "display_data"
    },
    {
     "name": "stdout",
     "output_type": "stream",
     "text": [
      "SYMBOL : SPY | EXPIRE_DATE : 2024-01-19              \r"
     ]
    },
    {
     "data": {
      "application/vnd.jupyter.widget-view+json": {
       "model_id": "5251d35f69ac4a819ab142bb55423a83",
       "version_major": 2,
       "version_minor": 0
      },
      "text/plain": [
       "files progressive:   0%|          | 0/47 [00:00<?, ?it/s]"
      ]
     },
     "metadata": {},
     "output_type": "display_data"
    },
    {
     "name": "stdout",
     "output_type": "stream",
     "text": [
      "SYMBOL : SPY | EXPIRE_DATE : 2024-12-20              \r"
     ]
    },
    {
     "data": {
      "application/vnd.jupyter.widget-view+json": {
       "model_id": "87f035eaf8c74cf1bc845356d00eaf49",
       "version_major": 2,
       "version_minor": 0
      },
      "text/plain": [
       "files progressive:   0%|          | 0/38 [00:00<?, ?it/s]"
      ]
     },
     "metadata": {},
     "output_type": "display_data"
    },
    {
     "name": "stdout",
     "output_type": "stream",
     "text": [
      "SYMBOL : SPY | EXPIRE_DATE : 2020-12-18              \r"
     ]
    },
    {
     "data": {
      "application/vnd.jupyter.widget-view+json": {
       "model_id": "6d44debd8ed24537af5f91cff28d37bc",
       "version_major": 2,
       "version_minor": 0
      },
      "text/plain": [
       "files progressive:   0%|          | 0/41 [00:00<?, ?it/s]"
      ]
     },
     "metadata": {},
     "output_type": "display_data"
    },
    {
     "name": "stdout",
     "output_type": "stream",
     "text": [
      "SYMBOL : SPY | EXPIRE_DATE : 2020-12-18              \r"
     ]
    },
    {
     "data": {
      "application/vnd.jupyter.widget-view+json": {
       "model_id": "656e7f1b98ca417aa83c27e3410e2d55",
       "version_major": 2,
       "version_minor": 0
      },
      "text/plain": [
       "files progressive:   0%|          | 0/46 [00:00<?, ?it/s]"
      ]
     },
     "metadata": {},
     "output_type": "display_data"
    },
    {
     "name": "stdout",
     "output_type": "stream",
     "text": [
      "SYMBOL : SPY | EXPIRE_DATE : 2020-12-18              \r"
     ]
    },
    {
     "data": {
      "application/vnd.jupyter.widget-view+json": {
       "model_id": "347ff2d0fc574ea2b6975ab3a5e95d92",
       "version_major": 2,
       "version_minor": 0
      },
      "text/plain": [
       "files progressive:   0%|          | 0/46 [00:00<?, ?it/s]"
      ]
     },
     "metadata": {},
     "output_type": "display_data"
    },
    {
     "name": "stdout",
     "output_type": "stream",
     "text": [
      "SYMBOL : SPY | EXPIRE_DATE : 2020-12-18              \r"
     ]
    },
    {
     "data": {
      "application/vnd.jupyter.widget-view+json": {
       "model_id": "13eeaa1eb7734268a77758bce007a6e0",
       "version_major": 2,
       "version_minor": 0
      },
      "text/plain": [
       "files progressive:   0%|          | 0/45 [00:00<?, ?it/s]"
      ]
     },
     "metadata": {},
     "output_type": "display_data"
    },
    {
     "name": "stdout",
     "output_type": "stream",
     "text": [
      "SYMBOL : SPY | EXPIRE_DATE : 2020-12-18              \r"
     ]
    },
    {
     "data": {
      "application/vnd.jupyter.widget-view+json": {
       "model_id": "263c31c8a2434fcc86b6b7acf6205b90",
       "version_major": 2,
       "version_minor": 0
      },
      "text/plain": [
       "files progressive:   0%|          | 0/46 [00:00<?, ?it/s]"
      ]
     },
     "metadata": {},
     "output_type": "display_data"
    },
    {
     "name": "stdout",
     "output_type": "stream",
     "text": [
      "SYMBOL : SPY | EXPIRE_DATE : 2020-12-18              \r"
     ]
    },
    {
     "data": {
      "application/vnd.jupyter.widget-view+json": {
       "model_id": "359299a1999b4a33b37f6a21342bee83",
       "version_major": 2,
       "version_minor": 0
      },
      "text/plain": [
       "files progressive:   0%|          | 0/47 [00:00<?, ?it/s]"
      ]
     },
     "metadata": {},
     "output_type": "display_data"
    },
    {
     "name": "stdout",
     "output_type": "stream",
     "text": [
      "SYMBOL : SPY | EXPIRE_DATE : 2020-12-18              \r"
     ]
    },
    {
     "data": {
      "application/vnd.jupyter.widget-view+json": {
       "model_id": "1c592eb3054b4536b3f2817939196eea",
       "version_major": 2,
       "version_minor": 0
      },
      "text/plain": [
       "files progressive:   0%|          | 0/46 [00:00<?, ?it/s]"
      ]
     },
     "metadata": {},
     "output_type": "display_data"
    },
    {
     "name": "stdout",
     "output_type": "stream",
     "text": [
      "SYMBOL : SPY | EXPIRE_DATE : 2020-12-18              \r"
     ]
    },
    {
     "data": {
      "application/vnd.jupyter.widget-view+json": {
       "model_id": "1dd01ab2c3504e0ead0a885d4b2a8104",
       "version_major": 2,
       "version_minor": 0
      },
      "text/plain": [
       "files progressive:   0%|          | 0/45 [00:00<?, ?it/s]"
      ]
     },
     "metadata": {},
     "output_type": "display_data"
    },
    {
     "name": "stdout",
     "output_type": "stream",
     "text": [
      "SYMBOL : SPY | EXPIRE_DATE : 2021-01-15              \r"
     ]
    },
    {
     "data": {
      "application/vnd.jupyter.widget-view+json": {
       "model_id": "fd0c467ce19a4040b74ff16127b46d27",
       "version_major": 2,
       "version_minor": 0
      },
      "text/plain": [
       "files progressive:   0%|          | 0/47 [00:00<?, ?it/s]"
      ]
     },
     "metadata": {},
     "output_type": "display_data"
    },
    {
     "name": "stdout",
     "output_type": "stream",
     "text": [
      "SYMBOL : SPY | EXPIRE_DATE : 2021-01-15              \r"
     ]
    },
    {
     "data": {
      "application/vnd.jupyter.widget-view+json": {
       "model_id": "8c3118edec64484baeb2ca7bae83e404",
       "version_major": 2,
       "version_minor": 0
      },
      "text/plain": [
       "files progressive:   0%|          | 0/49 [00:00<?, ?it/s]"
      ]
     },
     "metadata": {},
     "output_type": "display_data"
    },
    {
     "name": "stdout",
     "output_type": "stream",
     "text": [
      "SYMBOL : SPY | EXPIRE_DATE : 2021-01-15              \r"
     ]
    },
    {
     "data": {
      "application/vnd.jupyter.widget-view+json": {
       "model_id": "a24a17c3b7504da988c468562975f04e",
       "version_major": 2,
       "version_minor": 0
      },
      "text/plain": [
       "files progressive:   0%|          | 0/50 [00:00<?, ?it/s]"
      ]
     },
     "metadata": {},
     "output_type": "display_data"
    },
    {
     "name": "stdout",
     "output_type": "stream",
     "text": [
      "SYMBOL : SPY | EXPIRE_DATE : 2021-12-17              \r"
     ]
    },
    {
     "data": {
      "application/vnd.jupyter.widget-view+json": {
       "model_id": "b27e76bc8d2540c8abb3019bfdfc53f0",
       "version_major": 2,
       "version_minor": 0
      },
      "text/plain": [
       "files progressive:   0%|          | 0/47 [00:00<?, ?it/s]"
      ]
     },
     "metadata": {},
     "output_type": "display_data"
    },
    {
     "name": "stdout",
     "output_type": "stream",
     "text": [
      "SYMBOL : SPY | EXPIRE_DATE : 2021-12-17              \r"
     ]
    },
    {
     "data": {
      "application/vnd.jupyter.widget-view+json": {
       "model_id": "c29a8aef4df6468685c50e9fda20801c",
       "version_major": 2,
       "version_minor": 0
      },
      "text/plain": [
       "files progressive:   0%|          | 0/45 [00:00<?, ?it/s]"
      ]
     },
     "metadata": {},
     "output_type": "display_data"
    },
    {
     "name": "stdout",
     "output_type": "stream",
     "text": [
      "SYMBOL : SPY | EXPIRE_DATE : 2021-12-17              \r"
     ]
    },
    {
     "data": {
      "application/vnd.jupyter.widget-view+json": {
       "model_id": "875b63ec991b4a468cf56d0760fb315b",
       "version_major": 2,
       "version_minor": 0
      },
      "text/plain": [
       "files progressive:   0%|          | 0/46 [00:00<?, ?it/s]"
      ]
     },
     "metadata": {},
     "output_type": "display_data"
    },
    {
     "name": "stdout",
     "output_type": "stream",
     "text": [
      "SYMBOL : SPY | EXPIRE_DATE : 2021-12-17              \r"
     ]
    },
    {
     "data": {
      "application/vnd.jupyter.widget-view+json": {
       "model_id": "56b259d2892640fd9df2cd4e50819407",
       "version_major": 2,
       "version_minor": 0
      },
      "text/plain": [
       "files progressive:   0%|          | 0/47 [00:00<?, ?it/s]"
      ]
     },
     "metadata": {},
     "output_type": "display_data"
    },
    {
     "name": "stdout",
     "output_type": "stream",
     "text": [
      "SYMBOL : SPY | EXPIRE_DATE : 2021-12-17              \r"
     ]
    },
    {
     "data": {
      "application/vnd.jupyter.widget-view+json": {
       "model_id": "2e990039b0164ce0b85d2b2c6c6fddff",
       "version_major": 2,
       "version_minor": 0
      },
      "text/plain": [
       "files progressive:   0%|          | 0/47 [00:00<?, ?it/s]"
      ]
     },
     "metadata": {},
     "output_type": "display_data"
    },
    {
     "name": "stdout",
     "output_type": "stream",
     "text": [
      "SYMBOL : SPY | EXPIRE_DATE : 2021-12-17              \r"
     ]
    },
    {
     "data": {
      "application/vnd.jupyter.widget-view+json": {
       "model_id": "02187592075d4dd580e6bf214adc814b",
       "version_major": 2,
       "version_minor": 0
      },
      "text/plain": [
       "files progressive:   0%|          | 0/45 [00:00<?, ?it/s]"
      ]
     },
     "metadata": {},
     "output_type": "display_data"
    },
    {
     "name": "stdout",
     "output_type": "stream",
     "text": [
      "SYMBOL : SPY | EXPIRE_DATE : 2021-12-17              \r"
     ]
    },
    {
     "data": {
      "application/vnd.jupyter.widget-view+json": {
       "model_id": "7633791976a84059856b0e7ce425a026",
       "version_major": 2,
       "version_minor": 0
      },
      "text/plain": [
       "files progressive:   0%|          | 0/47 [00:00<?, ?it/s]"
      ]
     },
     "metadata": {},
     "output_type": "display_data"
    },
    {
     "name": "stdout",
     "output_type": "stream",
     "text": [
      "SYMBOL : SPY | EXPIRE_DATE : 2021-12-17              \r"
     ]
    },
    {
     "data": {
      "application/vnd.jupyter.widget-view+json": {
       "model_id": "079ecf0cf3cb4fdb91c0ede16d325789",
       "version_major": 2,
       "version_minor": 0
      },
      "text/plain": [
       "files progressive:   0%|          | 0/46 [00:00<?, ?it/s]"
      ]
     },
     "metadata": {},
     "output_type": "display_data"
    },
    {
     "name": "stdout",
     "output_type": "stream",
     "text": [
      "SYMBOL : SPY | EXPIRE_DATE : 2021-12-17              \r"
     ]
    },
    {
     "data": {
      "application/vnd.jupyter.widget-view+json": {
       "model_id": "1551da3960e24f4bbc30c1b96c1e0fa3",
       "version_major": 2,
       "version_minor": 0
      },
      "text/plain": [
       "files progressive:   0%|          | 0/46 [00:00<?, ?it/s]"
      ]
     },
     "metadata": {},
     "output_type": "display_data"
    },
    {
     "name": "stdout",
     "output_type": "stream",
     "text": [
      "SYMBOL : SPY | EXPIRE_DATE : 2022-01-21              \r"
     ]
    },
    {
     "data": {
      "application/vnd.jupyter.widget-view+json": {
       "model_id": "33bda5927c514447bd037582baa1738e",
       "version_major": 2,
       "version_minor": 0
      },
      "text/plain": [
       "files progressive:   0%|          | 0/49 [00:00<?, ?it/s]"
      ]
     },
     "metadata": {},
     "output_type": "display_data"
    },
    {
     "name": "stdout",
     "output_type": "stream",
     "text": [
      "SYMBOL : SPY | EXPIRE_DATE : 2022-01-21              \r"
     ]
    },
    {
     "data": {
      "application/vnd.jupyter.widget-view+json": {
       "model_id": "61b6571ae94f4aaf8e218c4983f09444",
       "version_major": 2,
       "version_minor": 0
      },
      "text/plain": [
       "files progressive:   0%|          | 0/48 [00:00<?, ?it/s]"
      ]
     },
     "metadata": {},
     "output_type": "display_data"
    },
    {
     "name": "stdout",
     "output_type": "stream",
     "text": [
      "SYMBOL : SPY | EXPIRE_DATE : 2022-01-21              \r"
     ]
    },
    {
     "data": {
      "application/vnd.jupyter.widget-view+json": {
       "model_id": "fd3a1e6d1a5b4fee8babe98d1c1e7e70",
       "version_major": 2,
       "version_minor": 0
      },
      "text/plain": [
       "files progressive:   0%|          | 0/49 [00:00<?, ?it/s]"
      ]
     },
     "metadata": {},
     "output_type": "display_data"
    },
    {
     "name": "stdout",
     "output_type": "stream",
     "text": [
      "SYMBOL : SPY | EXPIRE_DATE : 2022-12-16              \r"
     ]
    },
    {
     "data": {
      "application/vnd.jupyter.widget-view+json": {
       "model_id": "868cb3fa389845298faea4cb7d64d571",
       "version_major": 2,
       "version_minor": 0
      },
      "text/plain": [
       "files progressive:   0%|          | 0/20 [00:00<?, ?it/s]"
      ]
     },
     "metadata": {},
     "output_type": "display_data"
    },
    {
     "name": "stdout",
     "output_type": "stream",
     "text": [
      "SYMBOL : SPY | EXPIRE_DATE : 2014-12-19              \r"
     ]
    },
    {
     "data": {
      "application/vnd.jupyter.widget-view+json": {
       "model_id": "7395b5318199444c86f65bd7334ba695",
       "version_major": 2,
       "version_minor": 0
      },
      "text/plain": [
       "files progressive:   0%|          | 0/19 [00:00<?, ?it/s]"
      ]
     },
     "metadata": {},
     "output_type": "display_data"
    },
    {
     "name": "stdout",
     "output_type": "stream",
     "text": [
      "SYMBOL : SPY | EXPIRE_DATE : 2014-12-19              \r"
     ]
    },
    {
     "data": {
      "application/vnd.jupyter.widget-view+json": {
       "model_id": "f145d8b824eb40d8a089d072fa78d00f",
       "version_major": 2,
       "version_minor": 0
      },
      "text/plain": [
       "files progressive:   0%|          | 0/20 [00:00<?, ?it/s]"
      ]
     },
     "metadata": {},
     "output_type": "display_data"
    },
    {
     "name": "stdout",
     "output_type": "stream",
     "text": [
      "SYMBOL : SPY | EXPIRE_DATE : 2014-12-19              \r"
     ]
    },
    {
     "data": {
      "application/vnd.jupyter.widget-view+json": {
       "model_id": "0521b4b282db49a6ac8be7e0157a747b",
       "version_major": 2,
       "version_minor": 0
      },
      "text/plain": [
       "files progressive:   0%|          | 0/20 [00:00<?, ?it/s]"
      ]
     },
     "metadata": {},
     "output_type": "display_data"
    },
    {
     "name": "stdout",
     "output_type": "stream",
     "text": [
      "SYMBOL : SPY | EXPIRE_DATE : 2014-12-19              \r"
     ]
    },
    {
     "data": {
      "application/vnd.jupyter.widget-view+json": {
       "model_id": "9b1d22035a63485aaae3ed70ff6821e4",
       "version_major": 2,
       "version_minor": 0
      },
      "text/plain": [
       "files progressive:   0%|          | 0/22 [00:00<?, ?it/s]"
      ]
     },
     "metadata": {},
     "output_type": "display_data"
    },
    {
     "name": "stdout",
     "output_type": "stream",
     "text": [
      "SYMBOL : SPY | EXPIRE_DATE : 2014-12-19              \r"
     ]
    },
    {
     "data": {
      "application/vnd.jupyter.widget-view+json": {
       "model_id": "2c690361caa24e53994cd17e2751502a",
       "version_major": 2,
       "version_minor": 0
      },
      "text/plain": [
       "files progressive:   0%|          | 0/20 [00:00<?, ?it/s]"
      ]
     },
     "metadata": {},
     "output_type": "display_data"
    },
    {
     "name": "stdout",
     "output_type": "stream",
     "text": [
      "SYMBOL : SPY | EXPIRE_DATE : 2014-12-19              \r"
     ]
    },
    {
     "data": {
      "application/vnd.jupyter.widget-view+json": {
       "model_id": "1d89ff5945f14bc8a4baee188b2df232",
       "version_major": 2,
       "version_minor": 0
      },
      "text/plain": [
       "files progressive:   0%|          | 0/20 [00:00<?, ?it/s]"
      ]
     },
     "metadata": {},
     "output_type": "display_data"
    },
    {
     "name": "stdout",
     "output_type": "stream",
     "text": [
      "SYMBOL : SPY | EXPIRE_DATE : 2014-12-19              \r"
     ]
    },
    {
     "data": {
      "application/vnd.jupyter.widget-view+json": {
       "model_id": "34fa26e0ffc14fd78c17b9a1942fc850",
       "version_major": 2,
       "version_minor": 0
      },
      "text/plain": [
       "files progressive:   0%|          | 0/21 [00:00<?, ?it/s]"
      ]
     },
     "metadata": {},
     "output_type": "display_data"
    },
    {
     "name": "stdout",
     "output_type": "stream",
     "text": [
      "SYMBOL : SPY | EXPIRE_DATE : 2014-12-19              \r"
     ]
    },
    {
     "data": {
      "application/vnd.jupyter.widget-view+json": {
       "model_id": "0e734b8ba83e478388721bd083c69083",
       "version_major": 2,
       "version_minor": 0
      },
      "text/plain": [
       "files progressive:   0%|          | 0/18 [00:00<?, ?it/s]"
      ]
     },
     "metadata": {},
     "output_type": "display_data"
    },
    {
     "name": "stdout",
     "output_type": "stream",
     "text": [
      "SYMBOL : SPY | EXPIRE_DATE : 2014-12-19              \r"
     ]
    },
    {
     "data": {
      "application/vnd.jupyter.widget-view+json": {
       "model_id": "3c0450d5cb384fc08b2c90b200ceb8ae",
       "version_major": 2,
       "version_minor": 0
      },
      "text/plain": [
       "files progressive:   0%|          | 0/19 [00:00<?, ?it/s]"
      ]
     },
     "metadata": {},
     "output_type": "display_data"
    },
    {
     "name": "stdout",
     "output_type": "stream",
     "text": [
      "SYMBOL : SPY | EXPIRE_DATE : 2014-12-19              \r"
     ]
    },
    {
     "data": {
      "application/vnd.jupyter.widget-view+json": {
       "model_id": "4cef3fe578bd462186757e3cc2a222f4",
       "version_major": 2,
       "version_minor": 0
      },
      "text/plain": [
       "files progressive:   0%|          | 0/22 [00:00<?, ?it/s]"
      ]
     },
     "metadata": {},
     "output_type": "display_data"
    },
    {
     "name": "stdout",
     "output_type": "stream",
     "text": [
      "SYMBOL : SPY | EXPIRE_DATE : 2015-01-16              \r"
     ]
    },
    {
     "data": {
      "application/vnd.jupyter.widget-view+json": {
       "model_id": "fcb37fad27414971ae763e572c18c955",
       "version_major": 2,
       "version_minor": 0
      },
      "text/plain": [
       "files progressive:   0%|          | 0/23 [00:00<?, ?it/s]"
      ]
     },
     "metadata": {},
     "output_type": "display_data"
    },
    {
     "name": "stdout",
     "output_type": "stream",
     "text": [
      "[2/3] : spx                           8              \n"
     ]
    },
    {
     "data": {
      "application/vnd.jupyter.widget-view+json": {
       "model_id": "e216297bd8e746c6905f7528884f7794",
       "version_major": 2,
       "version_minor": 0
      },
      "text/plain": [
       "  0%|          | 0/165 [00:00<?, ?it/s]"
      ]
     },
     "metadata": {},
     "output_type": "display_data"
    },
    {
     "data": {
      "application/vnd.jupyter.widget-view+json": {
       "model_id": "931eda0fb26646cd8ade4fa056bef6a1",
       "version_major": 2,
       "version_minor": 0
      },
      "text/plain": [
       "files progressive:   0%|          | 0/22 [00:00<?, ?it/s]"
      ]
     },
     "metadata": {},
     "output_type": "display_data"
    },
    {
     "name": "stdout",
     "output_type": "stream",
     "text": [
      "SYMBOL : SPX | EXPIRE_DATE : 2012-12-20              \r"
     ]
    },
    {
     "data": {
      "application/vnd.jupyter.widget-view+json": {
       "model_id": "0f2315b05601458fa8f08ec5b1d4bf11",
       "version_major": 2,
       "version_minor": 0
      },
      "text/plain": [
       "files progressive:   0%|          | 0/18 [00:00<?, ?it/s]"
      ]
     },
     "metadata": {},
     "output_type": "display_data"
    },
    {
     "name": "stdout",
     "output_type": "stream",
     "text": [
      "SYMBOL : SPX | EXPIRE_DATE : 2012-12-20              \r"
     ]
    },
    {
     "data": {
      "application/vnd.jupyter.widget-view+json": {
       "model_id": "ca7acb457d0645be92483341b5b76fda",
       "version_major": 2,
       "version_minor": 0
      },
      "text/plain": [
       "files progressive:   0%|          | 0/19 [00:00<?, ?it/s]"
      ]
     },
     "metadata": {},
     "output_type": "display_data"
    },
    {
     "name": "stdout",
     "output_type": "stream",
     "text": [
      "SYMBOL : SPX | EXPIRE_DATE : 2012-12-20              \r"
     ]
    },
    {
     "data": {
      "application/vnd.jupyter.widget-view+json": {
       "model_id": "981f515988ed489c80336eb77134d441",
       "version_major": 2,
       "version_minor": 0
      },
      "text/plain": [
       "files progressive:   0%|          | 0/19 [00:00<?, ?it/s]"
      ]
     },
     "metadata": {},
     "output_type": "display_data"
    },
    {
     "name": "stdout",
     "output_type": "stream",
     "text": [
      "SYMBOL : SPX | EXPIRE_DATE : 2012-12-20              \r"
     ]
    },
    {
     "data": {
      "application/vnd.jupyter.widget-view+json": {
       "model_id": "1590371298264fc880079e4419921b45",
       "version_major": 2,
       "version_minor": 0
      },
      "text/plain": [
       "files progressive:   0%|          | 0/22 [00:00<?, ?it/s]"
      ]
     },
     "metadata": {},
     "output_type": "display_data"
    },
    {
     "name": "stdout",
     "output_type": "stream",
     "text": [
      "SYMBOL : SPX | EXPIRE_DATE : 2012-12-20              \r"
     ]
    },
    {
     "data": {
      "application/vnd.jupyter.widget-view+json": {
       "model_id": "ff67a6e8ef934484b907b891322c3fee",
       "version_major": 2,
       "version_minor": 0
      },
      "text/plain": [
       "files progressive:   0%|          | 0/19 [00:00<?, ?it/s]"
      ]
     },
     "metadata": {},
     "output_type": "display_data"
    },
    {
     "name": "stdout",
     "output_type": "stream",
     "text": [
      "SYMBOL : SPX | EXPIRE_DATE : 2012-12-20              \r"
     ]
    },
    {
     "data": {
      "application/vnd.jupyter.widget-view+json": {
       "model_id": "d94330fe3e534202a0477ee82f927a08",
       "version_major": 2,
       "version_minor": 0
      },
      "text/plain": [
       "files progressive:   0%|          | 0/21 [00:00<?, ?it/s]"
      ]
     },
     "metadata": {},
     "output_type": "display_data"
    },
    {
     "name": "stdout",
     "output_type": "stream",
     "text": [
      "SYMBOL : SPX | EXPIRE_DATE : 2012-12-20              \r"
     ]
    },
    {
     "data": {
      "application/vnd.jupyter.widget-view+json": {
       "model_id": "4f20b80d395f44838e0de575d184baba",
       "version_major": 2,
       "version_minor": 0
      },
      "text/plain": [
       "files progressive:   0%|          | 0/20 [00:00<?, ?it/s]"
      ]
     },
     "metadata": {},
     "output_type": "display_data"
    },
    {
     "name": "stdout",
     "output_type": "stream",
     "text": [
      "SYMBOL : SPX | EXPIRE_DATE : 2012-12-20              \r"
     ]
    },
    {
     "data": {
      "application/vnd.jupyter.widget-view+json": {
       "model_id": "1c7b9af50aa84de48779ac1d187ec214",
       "version_major": 2,
       "version_minor": 0
      },
      "text/plain": [
       "files progressive:   0%|          | 0/20 [00:00<?, ?it/s]"
      ]
     },
     "metadata": {},
     "output_type": "display_data"
    },
    {
     "name": "stdout",
     "output_type": "stream",
     "text": [
      "SYMBOL : SPX | EXPIRE_DATE : 2012-12-20              \r"
     ]
    },
    {
     "data": {
      "application/vnd.jupyter.widget-view+json": {
       "model_id": "d36011cfcadb41a5922d4976b098f50f",
       "version_major": 2,
       "version_minor": 0
      },
      "text/plain": [
       "files progressive:   0%|          | 0/19 [00:00<?, ?it/s]"
      ]
     },
     "metadata": {},
     "output_type": "display_data"
    },
    {
     "name": "stdout",
     "output_type": "stream",
     "text": [
      "SYMBOL : SPX | EXPIRE_DATE : 2012-12-20              \r"
     ]
    },
    {
     "data": {
      "application/vnd.jupyter.widget-view+json": {
       "model_id": "3ee182d29b774157888aac63d27c9e4e",
       "version_major": 2,
       "version_minor": 0
      },
      "text/plain": [
       "files progressive:   0%|          | 0/18 [00:00<?, ?it/s]"
      ]
     },
     "metadata": {},
     "output_type": "display_data"
    },
    {
     "name": "stdout",
     "output_type": "stream",
     "text": [
      "SYMBOL : SPX | EXPIRE_DATE : 2012-12-20              \r"
     ]
    },
    {
     "data": {
      "application/vnd.jupyter.widget-view+json": {
       "model_id": "979b7be035ed46129c1deb4357bd0a20",
       "version_major": 2,
       "version_minor": 0
      },
      "text/plain": [
       "files progressive:   0%|          | 0/19 [00:00<?, ?it/s]"
      ]
     },
     "metadata": {},
     "output_type": "display_data"
    },
    {
     "name": "stdout",
     "output_type": "stream",
     "text": [
      "SYMBOL : SPX | EXPIRE_DATE : 2013-12-19              \r"
     ]
    },
    {
     "data": {
      "application/vnd.jupyter.widget-view+json": {
       "model_id": "680800092261434aada3e7a8267c24b9",
       "version_major": 2,
       "version_minor": 0
      },
      "text/plain": [
       "files progressive:   0%|          | 0/19 [00:00<?, ?it/s]"
      ]
     },
     "metadata": {},
     "output_type": "display_data"
    },
    {
     "name": "stdout",
     "output_type": "stream",
     "text": [
      "SYMBOL : SPX | EXPIRE_DATE : 2013-12-19              \r"
     ]
    },
    {
     "data": {
      "application/vnd.jupyter.widget-view+json": {
       "model_id": "4eb36233ad9042e6af0937b51ff7a4e6",
       "version_major": 2,
       "version_minor": 0
      },
      "text/plain": [
       "files progressive:   0%|          | 0/18 [00:00<?, ?it/s]"
      ]
     },
     "metadata": {},
     "output_type": "display_data"
    },
    {
     "name": "stdout",
     "output_type": "stream",
     "text": [
      "SYMBOL : SPX | EXPIRE_DATE : 2013-12-19              \r"
     ]
    },
    {
     "data": {
      "application/vnd.jupyter.widget-view+json": {
       "model_id": "f93692986b0546d9a4a0eb9844a2bb7d",
       "version_major": 2,
       "version_minor": 0
      },
      "text/plain": [
       "files progressive:   0%|          | 0/21 [00:00<?, ?it/s]"
      ]
     },
     "metadata": {},
     "output_type": "display_data"
    },
    {
     "name": "stdout",
     "output_type": "stream",
     "text": [
      "SYMBOL : SPX | EXPIRE_DATE : 2013-12-19              \r"
     ]
    },
    {
     "data": {
      "application/vnd.jupyter.widget-view+json": {
       "model_id": "29bde7b4b5294b269700e6907c297542",
       "version_major": 2,
       "version_minor": 0
      },
      "text/plain": [
       "files progressive:   0%|          | 0/20 [00:00<?, ?it/s]"
      ]
     },
     "metadata": {},
     "output_type": "display_data"
    },
    {
     "name": "stdout",
     "output_type": "stream",
     "text": [
      "SYMBOL : SPX | EXPIRE_DATE : 2013-12-19              \r"
     ]
    },
    {
     "data": {
      "application/vnd.jupyter.widget-view+json": {
       "model_id": "d4c953969a9e484f9ed22724ddac496a",
       "version_major": 2,
       "version_minor": 0
      },
      "text/plain": [
       "files progressive:   0%|          | 0/18 [00:00<?, ?it/s]"
      ]
     },
     "metadata": {},
     "output_type": "display_data"
    },
    {
     "name": "stdout",
     "output_type": "stream",
     "text": [
      "SYMBOL : SPX | EXPIRE_DATE : 2013-12-19              \r"
     ]
    },
    {
     "data": {
      "application/vnd.jupyter.widget-view+json": {
       "model_id": "f00f260fbef945468b6ff0c2cb210da9",
       "version_major": 2,
       "version_minor": 0
      },
      "text/plain": [
       "files progressive:   0%|          | 0/20 [00:00<?, ?it/s]"
      ]
     },
     "metadata": {},
     "output_type": "display_data"
    },
    {
     "name": "stdout",
     "output_type": "stream",
     "text": [
      "SYMBOL : SPX | EXPIRE_DATE : 2013-12-19              \r"
     ]
    },
    {
     "data": {
      "application/vnd.jupyter.widget-view+json": {
       "model_id": "1829decbc0e34a6c9727d7d570cdfb8c",
       "version_major": 2,
       "version_minor": 0
      },
      "text/plain": [
       "files progressive:   0%|          | 0/20 [00:00<?, ?it/s]"
      ]
     },
     "metadata": {},
     "output_type": "display_data"
    },
    {
     "name": "stdout",
     "output_type": "stream",
     "text": [
      "SYMBOL : SPX | EXPIRE_DATE : 2013-12-19              \r"
     ]
    },
    {
     "data": {
      "application/vnd.jupyter.widget-view+json": {
       "model_id": "1f885a0779534ecd940cd9cf299d8576",
       "version_major": 2,
       "version_minor": 0
      },
      "text/plain": [
       "files progressive:   0%|          | 0/18 [00:00<?, ?it/s]"
      ]
     },
     "metadata": {},
     "output_type": "display_data"
    },
    {
     "name": "stdout",
     "output_type": "stream",
     "text": [
      "SYMBOL : SPX | EXPIRE_DATE : 2013-12-19              \r"
     ]
    },
    {
     "data": {
      "application/vnd.jupyter.widget-view+json": {
       "model_id": "60227cbfe6994854a09f6c1eae559d55",
       "version_major": 2,
       "version_minor": 0
      },
      "text/plain": [
       "files progressive:   0%|          | 0/19 [00:00<?, ?it/s]"
      ]
     },
     "metadata": {},
     "output_type": "display_data"
    },
    {
     "name": "stdout",
     "output_type": "stream",
     "text": [
      "SYMBOL : SPX | EXPIRE_DATE : 2013-12-19              \r"
     ]
    },
    {
     "data": {
      "application/vnd.jupyter.widget-view+json": {
       "model_id": "3b6b3f1ea4a84098bf4740e980445991",
       "version_major": 2,
       "version_minor": 0
      },
      "text/plain": [
       "files progressive:   0%|          | 0/19 [00:00<?, ?it/s]"
      ]
     },
     "metadata": {},
     "output_type": "display_data"
    },
    {
     "name": "stdout",
     "output_type": "stream",
     "text": [
      "SYMBOL : SPX | EXPIRE_DATE : 2013-12-19              \r"
     ]
    },
    {
     "data": {
      "application/vnd.jupyter.widget-view+json": {
       "model_id": "3aa8672a678d488a9bea0700a7cf4bf5",
       "version_major": 2,
       "version_minor": 0
      },
      "text/plain": [
       "files progressive:   0%|          | 0/18 [00:00<?, ?it/s]"
      ]
     },
     "metadata": {},
     "output_type": "display_data"
    },
    {
     "name": "stdout",
     "output_type": "stream",
     "text": [
      "SYMBOL : SPX | EXPIRE_DATE : 2013-12-19              \r"
     ]
    },
    {
     "data": {
      "application/vnd.jupyter.widget-view+json": {
       "model_id": "778fdf2eb0ec46a1a3f1ebb69d4424d9",
       "version_major": 2,
       "version_minor": 0
      },
      "text/plain": [
       "files progressive:   0%|          | 0/19 [00:00<?, ?it/s]"
      ]
     },
     "metadata": {},
     "output_type": "display_data"
    },
    {
     "name": "stdout",
     "output_type": "stream",
     "text": [
      "SYMBOL : SPX | EXPIRE_DATE : 2014-12-18              \r"
     ]
    },
    {
     "data": {
      "application/vnd.jupyter.widget-view+json": {
       "model_id": "16a48de35e6e4b1f827a7dffdb1e3486",
       "version_major": 2,
       "version_minor": 0
      },
      "text/plain": [
       "files progressive:   0%|          | 0/19 [00:00<?, ?it/s]"
      ]
     },
     "metadata": {},
     "output_type": "display_data"
    },
    {
     "name": "stdout",
     "output_type": "stream",
     "text": [
      "SYMBOL : SPX | EXPIRE_DATE : 2014-12-18              \r"
     ]
    },
    {
     "data": {
      "application/vnd.jupyter.widget-view+json": {
       "model_id": "0d057671c45343bb85acb8cc5938fb2a",
       "version_major": 2,
       "version_minor": 0
      },
      "text/plain": [
       "files progressive:   0%|          | 0/18 [00:00<?, ?it/s]"
      ]
     },
     "metadata": {},
     "output_type": "display_data"
    },
    {
     "name": "stdout",
     "output_type": "stream",
     "text": [
      "SYMBOL : SPX | EXPIRE_DATE : 2014-12-18              \r"
     ]
    },
    {
     "data": {
      "application/vnd.jupyter.widget-view+json": {
       "model_id": "507c34e10c9f48e1908fecb6e380f16c",
       "version_major": 2,
       "version_minor": 0
      },
      "text/plain": [
       "files progressive:   0%|          | 0/19 [00:00<?, ?it/s]"
      ]
     },
     "metadata": {},
     "output_type": "display_data"
    },
    {
     "name": "stdout",
     "output_type": "stream",
     "text": [
      "SYMBOL : SPX | EXPIRE_DATE : 2014-12-18              \r"
     ]
    },
    {
     "data": {
      "application/vnd.jupyter.widget-view+json": {
       "model_id": "01df594368ef4c3b9adc5461c91f4200",
       "version_major": 2,
       "version_minor": 0
      },
      "text/plain": [
       "files progressive:   0%|          | 0/19 [00:00<?, ?it/s]"
      ]
     },
     "metadata": {},
     "output_type": "display_data"
    },
    {
     "name": "stdout",
     "output_type": "stream",
     "text": [
      "SYMBOL : SPX | EXPIRE_DATE : 2014-12-18              \r"
     ]
    },
    {
     "data": {
      "application/vnd.jupyter.widget-view+json": {
       "model_id": "9751fc02254247d5a88657a40f11643d",
       "version_major": 2,
       "version_minor": 0
      },
      "text/plain": [
       "files progressive:   0%|          | 0/22 [00:00<?, ?it/s]"
      ]
     },
     "metadata": {},
     "output_type": "display_data"
    },
    {
     "name": "stdout",
     "output_type": "stream",
     "text": [
      "SYMBOL : SPX | EXPIRE_DATE : 2014-12-18              \r"
     ]
    },
    {
     "data": {
      "application/vnd.jupyter.widget-view+json": {
       "model_id": "294a79cd65cc4644bf96170649cf3514",
       "version_major": 2,
       "version_minor": 0
      },
      "text/plain": [
       "files progressive:   0%|          | 0/23 [00:00<?, ?it/s]"
      ]
     },
     "metadata": {},
     "output_type": "display_data"
    },
    {
     "name": "stdout",
     "output_type": "stream",
     "text": [
      "SYMBOL : SPX | EXPIRE_DATE : 2014-12-18              \r"
     ]
    },
    {
     "data": {
      "application/vnd.jupyter.widget-view+json": {
       "model_id": "1e2b74b9bed64189a9ea23036d5e1d1a",
       "version_major": 2,
       "version_minor": 0
      },
      "text/plain": [
       "files progressive:   0%|          | 0/23 [00:00<?, ?it/s]"
      ]
     },
     "metadata": {},
     "output_type": "display_data"
    },
    {
     "name": "stdout",
     "output_type": "stream",
     "text": [
      "SYMBOL : SPX | EXPIRE_DATE : 2014-12-18              \r"
     ]
    },
    {
     "data": {
      "application/vnd.jupyter.widget-view+json": {
       "model_id": "edc134e49e3d4a88bac62354a6cd8062",
       "version_major": 2,
       "version_minor": 0
      },
      "text/plain": [
       "files progressive:   0%|          | 0/23 [00:00<?, ?it/s]"
      ]
     },
     "metadata": {},
     "output_type": "display_data"
    },
    {
     "name": "stdout",
     "output_type": "stream",
     "text": [
      "SYMBOL : SPX | EXPIRE_DATE : 2014-12-18              \r"
     ]
    },
    {
     "data": {
      "application/vnd.jupyter.widget-view+json": {
       "model_id": "b419c78908e6466090d571ad88a0fe57",
       "version_major": 2,
       "version_minor": 0
      },
      "text/plain": [
       "files progressive:   0%|          | 0/22 [00:00<?, ?it/s]"
      ]
     },
     "metadata": {},
     "output_type": "display_data"
    },
    {
     "name": "stdout",
     "output_type": "stream",
     "text": [
      "SYMBOL : SPX | EXPIRE_DATE : 2014-12-18              \r"
     ]
    },
    {
     "data": {
      "application/vnd.jupyter.widget-view+json": {
       "model_id": "3df53a0cdda1493a82774de853eb92e0",
       "version_major": 2,
       "version_minor": 0
      },
      "text/plain": [
       "files progressive:   0%|          | 0/23 [00:00<?, ?it/s]"
      ]
     },
     "metadata": {},
     "output_type": "display_data"
    },
    {
     "name": "stdout",
     "output_type": "stream",
     "text": [
      "SYMBOL : SPX | EXPIRE_DATE : 2014-12-18              \r"
     ]
    },
    {
     "data": {
      "application/vnd.jupyter.widget-view+json": {
       "model_id": "957c62a9a24d436db2d216b0d825506a",
       "version_major": 2,
       "version_minor": 0
      },
      "text/plain": [
       "files progressive:   0%|          | 0/22 [00:00<?, ?it/s]"
      ]
     },
     "metadata": {},
     "output_type": "display_data"
    },
    {
     "name": "stdout",
     "output_type": "stream",
     "text": [
      "SYMBOL : SPX | EXPIRE_DATE : 2014-12-18              \r"
     ]
    },
    {
     "data": {
      "application/vnd.jupyter.widget-view+json": {
       "model_id": "7c0df187c1554424b8cf9a7737c845eb",
       "version_major": 2,
       "version_minor": 0
      },
      "text/plain": [
       "files progressive:   0%|          | 0/23 [00:00<?, ?it/s]"
      ]
     },
     "metadata": {},
     "output_type": "display_data"
    },
    {
     "name": "stdout",
     "output_type": "stream",
     "text": [
      "SYMBOL : SPX | EXPIRE_DATE : 2015-12-18              \r"
     ]
    },
    {
     "data": {
      "application/vnd.jupyter.widget-view+json": {
       "model_id": "be87c504bc5342888fe00851543758fe",
       "version_major": 2,
       "version_minor": 0
      },
      "text/plain": [
       "files progressive:   0%|          | 0/24 [00:00<?, ?it/s]"
      ]
     },
     "metadata": {},
     "output_type": "display_data"
    },
    {
     "name": "stdout",
     "output_type": "stream",
     "text": [
      "SYMBOL : SPX | EXPIRE_DATE : 2015-12-18              \r"
     ]
    },
    {
     "data": {
      "application/vnd.jupyter.widget-view+json": {
       "model_id": "37df19161aba4999890b1ea465c6a564",
       "version_major": 2,
       "version_minor": 0
      },
      "text/plain": [
       "files progressive:   0%|          | 0/22 [00:00<?, ?it/s]"
      ]
     },
     "metadata": {},
     "output_type": "display_data"
    },
    {
     "name": "stdout",
     "output_type": "stream",
     "text": [
      "SYMBOL : SPX | EXPIRE_DATE : 2015-12-18              \r"
     ]
    },
    {
     "data": {
      "application/vnd.jupyter.widget-view+json": {
       "model_id": "1d0110372a924c03af7642b13de6cdca",
       "version_major": 2,
       "version_minor": 0
      },
      "text/plain": [
       "files progressive:   0%|          | 0/23 [00:00<?, ?it/s]"
      ]
     },
     "metadata": {},
     "output_type": "display_data"
    },
    {
     "name": "stdout",
     "output_type": "stream",
     "text": [
      "SYMBOL : SPX | EXPIRE_DATE : 2015-12-18              \r"
     ]
    },
    {
     "data": {
      "application/vnd.jupyter.widget-view+json": {
       "model_id": "a2bc639b2cfe4f14b3e604bba4b8e86e",
       "version_major": 2,
       "version_minor": 0
      },
      "text/plain": [
       "files progressive:   0%|          | 0/24 [00:00<?, ?it/s]"
      ]
     },
     "metadata": {},
     "output_type": "display_data"
    },
    {
     "name": "stdout",
     "output_type": "stream",
     "text": [
      "SYMBOL : SPX | EXPIRE_DATE : 2015-12-18              \r"
     ]
    },
    {
     "data": {
      "application/vnd.jupyter.widget-view+json": {
       "model_id": "7435d7be3bf2472c8882fe978b2527d6",
       "version_major": 2,
       "version_minor": 0
      },
      "text/plain": [
       "files progressive:   0%|          | 0/23 [00:00<?, ?it/s]"
      ]
     },
     "metadata": {},
     "output_type": "display_data"
    },
    {
     "name": "stdout",
     "output_type": "stream",
     "text": [
      "SYMBOL : SPX | EXPIRE_DATE : 2015-12-18              \r"
     ]
    },
    {
     "data": {
      "application/vnd.jupyter.widget-view+json": {
       "model_id": "daa2b7005a2244108587b139faabbb9f",
       "version_major": 2,
       "version_minor": 0
      },
      "text/plain": [
       "files progressive:   0%|          | 0/22 [00:00<?, ?it/s]"
      ]
     },
     "metadata": {},
     "output_type": "display_data"
    },
    {
     "name": "stdout",
     "output_type": "stream",
     "text": [
      "SYMBOL : SPX | EXPIRE_DATE : 2015-12-18              \r"
     ]
    },
    {
     "data": {
      "application/vnd.jupyter.widget-view+json": {
       "model_id": "fb370ce67184471cb35d633b84184821",
       "version_major": 2,
       "version_minor": 0
      },
      "text/plain": [
       "files progressive:   0%|          | 0/23 [00:00<?, ?it/s]"
      ]
     },
     "metadata": {},
     "output_type": "display_data"
    },
    {
     "name": "stdout",
     "output_type": "stream",
     "text": [
      "SYMBOL : SPX | EXPIRE_DATE : 2015-12-18              \r"
     ]
    },
    {
     "data": {
      "application/vnd.jupyter.widget-view+json": {
       "model_id": "19e568aca8a743e1bf2c795f76a7951e",
       "version_major": 2,
       "version_minor": 0
      },
      "text/plain": [
       "files progressive:   0%|          | 0/23 [00:00<?, ?it/s]"
      ]
     },
     "metadata": {},
     "output_type": "display_data"
    },
    {
     "name": "stdout",
     "output_type": "stream",
     "text": [
      "SYMBOL : SPX | EXPIRE_DATE : 2015-12-18              \r"
     ]
    },
    {
     "data": {
      "application/vnd.jupyter.widget-view+json": {
       "model_id": "44b6dadf67034d52a260f234af7a52ed",
       "version_major": 2,
       "version_minor": 0
      },
      "text/plain": [
       "files progressive:   0%|          | 0/23 [00:00<?, ?it/s]"
      ]
     },
     "metadata": {},
     "output_type": "display_data"
    },
    {
     "name": "stdout",
     "output_type": "stream",
     "text": [
      "SYMBOL : SPX | EXPIRE_DATE : 2015-12-18              \r"
     ]
    },
    {
     "data": {
      "application/vnd.jupyter.widget-view+json": {
       "model_id": "8a46b7cd6a624088a82afb21c00653e2",
       "version_major": 2,
       "version_minor": 0
      },
      "text/plain": [
       "files progressive:   0%|          | 0/24 [00:00<?, ?it/s]"
      ]
     },
     "metadata": {},
     "output_type": "display_data"
    },
    {
     "name": "stdout",
     "output_type": "stream",
     "text": [
      "SYMBOL : SPX | EXPIRE_DATE : 2015-12-18              \r"
     ]
    },
    {
     "data": {
      "application/vnd.jupyter.widget-view+json": {
       "model_id": "c1d1e8f22cea4ad89bacf9cb59714950",
       "version_major": 2,
       "version_minor": 0
      },
      "text/plain": [
       "files progressive:   0%|          | 0/23 [00:00<?, ?it/s]"
      ]
     },
     "metadata": {},
     "output_type": "display_data"
    },
    {
     "name": "stdout",
     "output_type": "stream",
     "text": [
      "SYMBOL : SPX | EXPIRE_DATE : 2015-12-18              \r"
     ]
    },
    {
     "data": {
      "application/vnd.jupyter.widget-view+json": {
       "model_id": "a26da2e678c340238815b3ba007f8221",
       "version_major": 2,
       "version_minor": 0
      },
      "text/plain": [
       "files progressive:   0%|          | 0/23 [00:00<?, ?it/s]"
      ]
     },
     "metadata": {},
     "output_type": "display_data"
    },
    {
     "name": "stdout",
     "output_type": "stream",
     "text": [
      "SYMBOL : SPX | EXPIRE_DATE : 2016-12-15              \r"
     ]
    },
    {
     "data": {
      "application/vnd.jupyter.widget-view+json": {
       "model_id": "22cbfc1800374ae88e8420b4d4cd2e49",
       "version_major": 2,
       "version_minor": 0
      },
      "text/plain": [
       "files progressive:   0%|          | 0/26 [00:00<?, ?it/s]"
      ]
     },
     "metadata": {},
     "output_type": "display_data"
    },
    {
     "name": "stdout",
     "output_type": "stream",
     "text": [
      "SYMBOL : SPX | EXPIRE_DATE : 2016-12-15              \r"
     ]
    },
    {
     "data": {
      "application/vnd.jupyter.widget-view+json": {
       "model_id": "84fb417c725b400d9cb8f44afc307535",
       "version_major": 2,
       "version_minor": 0
      },
      "text/plain": [
       "files progressive:   0%|          | 0/24 [00:00<?, ?it/s]"
      ]
     },
     "metadata": {},
     "output_type": "display_data"
    },
    {
     "name": "stdout",
     "output_type": "stream",
     "text": [
      "SYMBOL : SPX | EXPIRE_DATE : 2016-12-15              \r"
     ]
    },
    {
     "data": {
      "application/vnd.jupyter.widget-view+json": {
       "model_id": "019790cb7ca94bd29feba03c1693fd13",
       "version_major": 2,
       "version_minor": 0
      },
      "text/plain": [
       "files progressive:   0%|          | 0/28 [00:00<?, ?it/s]"
      ]
     },
     "metadata": {},
     "output_type": "display_data"
    },
    {
     "name": "stdout",
     "output_type": "stream",
     "text": [
      "SYMBOL : SPX | EXPIRE_DATE : 2016-12-15              \r"
     ]
    },
    {
     "data": {
      "application/vnd.jupyter.widget-view+json": {
       "model_id": "02c6e6c6dba64bf680fe9061b05dd0dc",
       "version_major": 2,
       "version_minor": 0
      },
      "text/plain": [
       "files progressive:   0%|          | 0/25 [00:00<?, ?it/s]"
      ]
     },
     "metadata": {},
     "output_type": "display_data"
    },
    {
     "name": "stdout",
     "output_type": "stream",
     "text": [
      "SYMBOL : SPX | EXPIRE_DATE : 2016-12-15              \r"
     ]
    },
    {
     "data": {
      "application/vnd.jupyter.widget-view+json": {
       "model_id": "c5da58d0c0fc459d80554c620f32d205",
       "version_major": 2,
       "version_minor": 0
      },
      "text/plain": [
       "files progressive:   0%|          | 0/26 [00:00<?, ?it/s]"
      ]
     },
     "metadata": {},
     "output_type": "display_data"
    },
    {
     "name": "stdout",
     "output_type": "stream",
     "text": [
      "SYMBOL : SPX | EXPIRE_DATE : 2016-12-15              \r"
     ]
    },
    {
     "data": {
      "application/vnd.jupyter.widget-view+json": {
       "model_id": "d6be225621264c03a483d231632cd98c",
       "version_major": 2,
       "version_minor": 0
      },
      "text/plain": [
       "files progressive:   0%|          | 0/26 [00:00<?, ?it/s]"
      ]
     },
     "metadata": {},
     "output_type": "display_data"
    },
    {
     "name": "stdout",
     "output_type": "stream",
     "text": [
      "SYMBOL : SPX | EXPIRE_DATE : 2016-12-15              \r"
     ]
    },
    {
     "data": {
      "application/vnd.jupyter.widget-view+json": {
       "model_id": "f6a04344cc17412ba9c7f2886a4c12d0",
       "version_major": 2,
       "version_minor": 0
      },
      "text/plain": [
       "files progressive:   0%|          | 0/30 [00:00<?, ?it/s]"
      ]
     },
     "metadata": {},
     "output_type": "display_data"
    },
    {
     "name": "stdout",
     "output_type": "stream",
     "text": [
      "SYMBOL : SPX | EXPIRE_DATE : 2016-12-15              \r"
     ]
    },
    {
     "data": {
      "application/vnd.jupyter.widget-view+json": {
       "model_id": "6e7c46db1df045ceb5763c6d6c612ad1",
       "version_major": 2,
       "version_minor": 0
      },
      "text/plain": [
       "files progressive:   0%|          | 0/29 [00:00<?, ?it/s]"
      ]
     },
     "metadata": {},
     "output_type": "display_data"
    },
    {
     "name": "stdout",
     "output_type": "stream",
     "text": [
      "SYMBOL : SPX | EXPIRE_DATE : 2016-12-15              \r"
     ]
    },
    {
     "data": {
      "application/vnd.jupyter.widget-view+json": {
       "model_id": "1107ccbe64ef45bea7e24728b3c6eb44",
       "version_major": 2,
       "version_minor": 0
      },
      "text/plain": [
       "files progressive:   0%|          | 0/29 [00:00<?, ?it/s]"
      ]
     },
     "metadata": {},
     "output_type": "display_data"
    },
    {
     "name": "stdout",
     "output_type": "stream",
     "text": [
      "SYMBOL : SPX | EXPIRE_DATE : 2016-12-15              \r"
     ]
    },
    {
     "data": {
      "application/vnd.jupyter.widget-view+json": {
       "model_id": "ca2690a65c224670b93fea4543634346",
       "version_major": 2,
       "version_minor": 0
      },
      "text/plain": [
       "files progressive:   0%|          | 0/30 [00:00<?, ?it/s]"
      ]
     },
     "metadata": {},
     "output_type": "display_data"
    },
    {
     "name": "stdout",
     "output_type": "stream",
     "text": [
      "SYMBOL : SPX | EXPIRE_DATE : 2016-12-15              \r"
     ]
    },
    {
     "data": {
      "application/vnd.jupyter.widget-view+json": {
       "model_id": "41deaa9a855e4c0d92ae805ffe1a7b69",
       "version_major": 2,
       "version_minor": 0
      },
      "text/plain": [
       "files progressive:   0%|          | 0/29 [00:00<?, ?it/s]"
      ]
     },
     "metadata": {},
     "output_type": "display_data"
    },
    {
     "name": "stdout",
     "output_type": "stream",
     "text": [
      "SYMBOL : SPX | EXPIRE_DATE : 2016-12-15              \r"
     ]
    },
    {
     "data": {
      "application/vnd.jupyter.widget-view+json": {
       "model_id": "c3df5c9ad9fe4de5a25e4249eb3b1891",
       "version_major": 2,
       "version_minor": 0
      },
      "text/plain": [
       "files progressive:   0%|          | 0/32 [00:00<?, ?it/s]"
      ]
     },
     "metadata": {},
     "output_type": "display_data"
    },
    {
     "name": "stdout",
     "output_type": "stream",
     "text": [
      "SYMBOL : SPX | EXPIRE_DATE : 2017-12-14              \r"
     ]
    },
    {
     "data": {
      "application/vnd.jupyter.widget-view+json": {
       "model_id": "783d607b22ba4b2daac70520c737ad9b",
       "version_major": 2,
       "version_minor": 0
      },
      "text/plain": [
       "files progressive:   0%|          | 0/35 [00:00<?, ?it/s]"
      ]
     },
     "metadata": {},
     "output_type": "display_data"
    },
    {
     "name": "stdout",
     "output_type": "stream",
     "text": [
      "SYMBOL : SPX | EXPIRE_DATE : 2017-12-15              \r"
     ]
    },
    {
     "data": {
      "application/vnd.jupyter.widget-view+json": {
       "model_id": "691df81b29884cffa8cb02a88eff605b",
       "version_major": 2,
       "version_minor": 0
      },
      "text/plain": [
       "files progressive:   0%|          | 0/30 [00:00<?, ?it/s]"
      ]
     },
     "metadata": {},
     "output_type": "display_data"
    },
    {
     "name": "stdout",
     "output_type": "stream",
     "text": [
      "SYMBOL : SPX | EXPIRE_DATE : 2017-12-15              \r"
     ]
    },
    {
     "data": {
      "application/vnd.jupyter.widget-view+json": {
       "model_id": "7ca451f0fbb74f778a2261d0739d222c",
       "version_major": 2,
       "version_minor": 0
      },
      "text/plain": [
       "files progressive:   0%|          | 0/33 [00:00<?, ?it/s]"
      ]
     },
     "metadata": {},
     "output_type": "display_data"
    },
    {
     "name": "stdout",
     "output_type": "stream",
     "text": [
      "SYMBOL : SPX | EXPIRE_DATE : 2017-12-15              \r"
     ]
    },
    {
     "data": {
      "application/vnd.jupyter.widget-view+json": {
       "model_id": "a7d9ab6a20dc4233ad1cce110e41ccff",
       "version_major": 2,
       "version_minor": 0
      },
      "text/plain": [
       "files progressive:   0%|          | 0/33 [00:00<?, ?it/s]"
      ]
     },
     "metadata": {},
     "output_type": "display_data"
    },
    {
     "name": "stdout",
     "output_type": "stream",
     "text": [
      "SYMBOL : SPX | EXPIRE_DATE : 2017-12-15              \r"
     ]
    },
    {
     "data": {
      "application/vnd.jupyter.widget-view+json": {
       "model_id": "9533f9129392480eadf74a7e8ce1b5b1",
       "version_major": 2,
       "version_minor": 0
      },
      "text/plain": [
       "files progressive:   0%|          | 0/32 [00:00<?, ?it/s]"
      ]
     },
     "metadata": {},
     "output_type": "display_data"
    },
    {
     "name": "stdout",
     "output_type": "stream",
     "text": [
      "SYMBOL : SPX | EXPIRE_DATE : 2017-12-15              \r"
     ]
    },
    {
     "data": {
      "application/vnd.jupyter.widget-view+json": {
       "model_id": "4f332adaa8af454bbf010af244526591",
       "version_major": 2,
       "version_minor": 0
      },
      "text/plain": [
       "files progressive:   0%|          | 0/34 [00:00<?, ?it/s]"
      ]
     },
     "metadata": {},
     "output_type": "display_data"
    },
    {
     "name": "stdout",
     "output_type": "stream",
     "text": [
      "SYMBOL : SPX | EXPIRE_DATE : 2017-12-15              \r"
     ]
    },
    {
     "data": {
      "application/vnd.jupyter.widget-view+json": {
       "model_id": "66d9be4c0b184fae8e4b4dd03cbebb66",
       "version_major": 2,
       "version_minor": 0
      },
      "text/plain": [
       "files progressive:   0%|          | 0/34 [00:00<?, ?it/s]"
      ]
     },
     "metadata": {},
     "output_type": "display_data"
    },
    {
     "name": "stdout",
     "output_type": "stream",
     "text": [
      "SYMBOL : SPX | EXPIRE_DATE : 2017-12-15              \r"
     ]
    },
    {
     "data": {
      "application/vnd.jupyter.widget-view+json": {
       "model_id": "12b6ce1f1d6548f1a7b9761a2d37b8ef",
       "version_major": 2,
       "version_minor": 0
      },
      "text/plain": [
       "files progressive:   0%|          | 0/34 [00:00<?, ?it/s]"
      ]
     },
     "metadata": {},
     "output_type": "display_data"
    },
    {
     "name": "stdout",
     "output_type": "stream",
     "text": [
      "SYMBOL : SPX | EXPIRE_DATE : 2017-12-15              \r"
     ]
    },
    {
     "data": {
      "application/vnd.jupyter.widget-view+json": {
       "model_id": "258eb5162e014c759018b5974e413c9e",
       "version_major": 2,
       "version_minor": 0
      },
      "text/plain": [
       "files progressive:   0%|          | 0/34 [00:00<?, ?it/s]"
      ]
     },
     "metadata": {},
     "output_type": "display_data"
    },
    {
     "name": "stdout",
     "output_type": "stream",
     "text": [
      "SYMBOL : SPX | EXPIRE_DATE : 2017-12-15              \r"
     ]
    },
    {
     "data": {
      "application/vnd.jupyter.widget-view+json": {
       "model_id": "cfcecf4fec2a4141bfe30015efb7c528",
       "version_major": 2,
       "version_minor": 0
      },
      "text/plain": [
       "files progressive:   0%|          | 0/31 [00:00<?, ?it/s]"
      ]
     },
     "metadata": {},
     "output_type": "display_data"
    },
    {
     "name": "stdout",
     "output_type": "stream",
     "text": [
      "SYMBOL : SPX | EXPIRE_DATE : 2017-12-15              \r"
     ]
    },
    {
     "data": {
      "application/vnd.jupyter.widget-view+json": {
       "model_id": "67b3c6528cbe4396a1d65d48b48217dc",
       "version_major": 2,
       "version_minor": 0
      },
      "text/plain": [
       "files progressive:   0%|          | 0/30 [00:00<?, ?it/s]"
      ]
     },
     "metadata": {},
     "output_type": "display_data"
    },
    {
     "name": "stdout",
     "output_type": "stream",
     "text": [
      "SYMBOL : SPX | EXPIRE_DATE : 2017-12-15              \r"
     ]
    },
    {
     "data": {
      "application/vnd.jupyter.widget-view+json": {
       "model_id": "35ecb02fa495442cad75ba7737ec0700",
       "version_major": 2,
       "version_minor": 0
      },
      "text/plain": [
       "files progressive:   0%|          | 0/32 [00:00<?, ?it/s]"
      ]
     },
     "metadata": {},
     "output_type": "display_data"
    },
    {
     "name": "stdout",
     "output_type": "stream",
     "text": [
      "SYMBOL : SPX | EXPIRE_DATE : 2018-12-21              \r"
     ]
    },
    {
     "data": {
      "application/vnd.jupyter.widget-view+json": {
       "model_id": "964df156f16542eba2ba19dd426193e8",
       "version_major": 2,
       "version_minor": 0
      },
      "text/plain": [
       "files progressive:   0%|          | 0/47 [00:00<?, ?it/s]"
      ]
     },
     "metadata": {},
     "output_type": "display_data"
    },
    {
     "name": "stdout",
     "output_type": "stream",
     "text": [
      "SYMBOL : SPX | EXPIRE_DATE : 2019-12-20              \r"
     ]
    },
    {
     "data": {
      "application/vnd.jupyter.widget-view+json": {
       "model_id": "94deb12a1c2e43c7ba35b38b218b2103",
       "version_major": 2,
       "version_minor": 0
      },
      "text/plain": [
       "files progressive:   0%|          | 0/46 [00:00<?, ?it/s]"
      ]
     },
     "metadata": {},
     "output_type": "display_data"
    },
    {
     "name": "stdout",
     "output_type": "stream",
     "text": [
      "SYMBOL : SPX | EXPIRE_DATE : 2019-12-20              \r"
     ]
    },
    {
     "data": {
      "application/vnd.jupyter.widget-view+json": {
       "model_id": "0bf286f879b546ddae0f6178c685e64c",
       "version_major": 2,
       "version_minor": 0
      },
      "text/plain": [
       "files progressive:   0%|          | 0/48 [00:00<?, ?it/s]"
      ]
     },
     "metadata": {},
     "output_type": "display_data"
    },
    {
     "name": "stdout",
     "output_type": "stream",
     "text": [
      "SYMBOL : SPX | EXPIRE_DATE : 2019-12-20              \r"
     ]
    },
    {
     "data": {
      "application/vnd.jupyter.widget-view+json": {
       "model_id": "ff3c394b330a49c6b57561d3d8e235bf",
       "version_major": 2,
       "version_minor": 0
      },
      "text/plain": [
       "files progressive:   0%|          | 0/47 [00:00<?, ?it/s]"
      ]
     },
     "metadata": {},
     "output_type": "display_data"
    },
    {
     "name": "stdout",
     "output_type": "stream",
     "text": [
      "SYMBOL : SPX | EXPIRE_DATE : 2019-12-20              \r"
     ]
    },
    {
     "data": {
      "application/vnd.jupyter.widget-view+json": {
       "model_id": "785bdff04be3457e8140105676e63301",
       "version_major": 2,
       "version_minor": 0
      },
      "text/plain": [
       "files progressive:   0%|          | 0/48 [00:00<?, ?it/s]"
      ]
     },
     "metadata": {},
     "output_type": "display_data"
    },
    {
     "name": "stdout",
     "output_type": "stream",
     "text": [
      "SYMBOL : SPX | EXPIRE_DATE : 2019-12-20              \r"
     ]
    },
    {
     "data": {
      "application/vnd.jupyter.widget-view+json": {
       "model_id": "fe82e4e203ac45ce885c135208980390",
       "version_major": 2,
       "version_minor": 0
      },
      "text/plain": [
       "files progressive:   0%|          | 0/48 [00:00<?, ?it/s]"
      ]
     },
     "metadata": {},
     "output_type": "display_data"
    },
    {
     "name": "stdout",
     "output_type": "stream",
     "text": [
      "SYMBOL : SPX | EXPIRE_DATE : 2019-12-20              \r"
     ]
    },
    {
     "data": {
      "application/vnd.jupyter.widget-view+json": {
       "model_id": "24a54c742d8e4d1a8d1913ea457642f0",
       "version_major": 2,
       "version_minor": 0
      },
      "text/plain": [
       "files progressive:   0%|          | 0/47 [00:00<?, ?it/s]"
      ]
     },
     "metadata": {},
     "output_type": "display_data"
    },
    {
     "name": "stdout",
     "output_type": "stream",
     "text": [
      "SYMBOL : SPX | EXPIRE_DATE : 2019-12-20              \r"
     ]
    },
    {
     "data": {
      "application/vnd.jupyter.widget-view+json": {
       "model_id": "dad47280d407495ab2b5db2f804214a8",
       "version_major": 2,
       "version_minor": 0
      },
      "text/plain": [
       "files progressive:   0%|          | 0/48 [00:00<?, ?it/s]"
      ]
     },
     "metadata": {},
     "output_type": "display_data"
    },
    {
     "name": "stdout",
     "output_type": "stream",
     "text": [
      "SYMBOL : SPX | EXPIRE_DATE : 2019-12-20              \r"
     ]
    },
    {
     "data": {
      "application/vnd.jupyter.widget-view+json": {
       "model_id": "9e97ba0b519f43e586b5102c595cc1da",
       "version_major": 2,
       "version_minor": 0
      },
      "text/plain": [
       "files progressive:   0%|          | 0/50 [00:00<?, ?it/s]"
      ]
     },
     "metadata": {},
     "output_type": "display_data"
    },
    {
     "name": "stdout",
     "output_type": "stream",
     "text": [
      "SYMBOL : SPX | EXPIRE_DATE : 2019-12-20              \r"
     ]
    },
    {
     "data": {
      "application/vnd.jupyter.widget-view+json": {
       "model_id": "54dab3863bb94cb2bb13155f7abac1da",
       "version_major": 2,
       "version_minor": 0
      },
      "text/plain": [
       "files progressive:   0%|          | 0/49 [00:00<?, ?it/s]"
      ]
     },
     "metadata": {},
     "output_type": "display_data"
    },
    {
     "name": "stdout",
     "output_type": "stream",
     "text": [
      "SYMBOL : SPX | EXPIRE_DATE : 2019-12-20              \r"
     ]
    },
    {
     "data": {
      "application/vnd.jupyter.widget-view+json": {
       "model_id": "77d0e713d6df4f88a216b639b707b213",
       "version_major": 2,
       "version_minor": 0
      },
      "text/plain": [
       "files progressive:   0%|          | 0/48 [00:00<?, ?it/s]"
      ]
     },
     "metadata": {},
     "output_type": "display_data"
    },
    {
     "name": "stdout",
     "output_type": "stream",
     "text": [
      "SYMBOL : SPX | EXPIRE_DATE : 2019-12-20              \r"
     ]
    },
    {
     "data": {
      "application/vnd.jupyter.widget-view+json": {
       "model_id": "01b7dbcc696949cd92669b11079b2de9",
       "version_major": 2,
       "version_minor": 0
      },
      "text/plain": [
       "files progressive:   0%|          | 0/49 [00:00<?, ?it/s]"
      ]
     },
     "metadata": {},
     "output_type": "display_data"
    },
    {
     "name": "stdout",
     "output_type": "stream",
     "text": [
      "SYMBOL : SPX | EXPIRE_DATE : 2020-12-18              \r"
     ]
    },
    {
     "data": {
      "application/vnd.jupyter.widget-view+json": {
       "model_id": "be671d5320e44dd0819812035f310aef",
       "version_major": 2,
       "version_minor": 0
      },
      "text/plain": [
       "files progressive:   0%|          | 0/53 [00:00<?, ?it/s]"
      ]
     },
     "metadata": {},
     "output_type": "display_data"
    },
    {
     "name": "stdout",
     "output_type": "stream",
     "text": [
      "SYMBOL : SPX | EXPIRE_DATE : 2023-12-15              \r"
     ]
    },
    {
     "data": {
      "application/vnd.jupyter.widget-view+json": {
       "model_id": "4d3667b1b3e140aab5ded15569f04222",
       "version_major": 2,
       "version_minor": 0
      },
      "text/plain": [
       "files progressive:   0%|          | 0/51 [00:00<?, ?it/s]"
      ]
     },
     "metadata": {},
     "output_type": "display_data"
    },
    {
     "name": "stdout",
     "output_type": "stream",
     "text": [
      "SYMBOL : SPX | EXPIRE_DATE : 2023-12-15              \r"
     ]
    },
    {
     "data": {
      "application/vnd.jupyter.widget-view+json": {
       "model_id": "af073b74095f424b9c08dd9261bf1052",
       "version_major": 2,
       "version_minor": 0
      },
      "text/plain": [
       "files progressive:   0%|          | 0/52 [00:00<?, ?it/s]"
      ]
     },
     "metadata": {},
     "output_type": "display_data"
    },
    {
     "name": "stdout",
     "output_type": "stream",
     "text": [
      "SYMBOL : SPX | EXPIRE_DATE : 2023-12-15              \r"
     ]
    },
    {
     "data": {
      "application/vnd.jupyter.widget-view+json": {
       "model_id": "aa8777055b91491391a4fed1cc57ab48",
       "version_major": 2,
       "version_minor": 0
      },
      "text/plain": [
       "files progressive:   0%|          | 0/52 [00:00<?, ?it/s]"
      ]
     },
     "metadata": {},
     "output_type": "display_data"
    },
    {
     "name": "stdout",
     "output_type": "stream",
     "text": [
      "SYMBOL : SPX | EXPIRE_DATE : 2023-12-15              \r"
     ]
    },
    {
     "data": {
      "application/vnd.jupyter.widget-view+json": {
       "model_id": "25dc29d3beef4bada580ac59fe274627",
       "version_major": 2,
       "version_minor": 0
      },
      "text/plain": [
       "files progressive:   0%|          | 0/54 [00:00<?, ?it/s]"
      ]
     },
     "metadata": {},
     "output_type": "display_data"
    },
    {
     "name": "stdout",
     "output_type": "stream",
     "text": [
      "SYMBOL : SPX | EXPIRE_DATE : 2026-12-18              \r"
     ]
    },
    {
     "data": {
      "application/vnd.jupyter.widget-view+json": {
       "model_id": "02fb03874fa44511b32e9bfcb7c780fd",
       "version_major": 2,
       "version_minor": 0
      },
      "text/plain": [
       "files progressive:   0%|          | 0/54 [00:00<?, ?it/s]"
      ]
     },
     "metadata": {},
     "output_type": "display_data"
    },
    {
     "name": "stdout",
     "output_type": "stream",
     "text": [
      "SYMBOL : SPX | EXPIRE_DATE : 2026-12-18              \r"
     ]
    },
    {
     "data": {
      "application/vnd.jupyter.widget-view+json": {
       "model_id": "4c55dc4a9b0b4c54a21ea99dde618254",
       "version_major": 2,
       "version_minor": 0
      },
      "text/plain": [
       "files progressive:   0%|          | 0/51 [00:00<?, ?it/s]"
      ]
     },
     "metadata": {},
     "output_type": "display_data"
    },
    {
     "name": "stdout",
     "output_type": "stream",
     "text": [
      "SYMBOL : SPX | EXPIRE_DATE : 2026-12-18              \r"
     ]
    },
    {
     "data": {
      "application/vnd.jupyter.widget-view+json": {
       "model_id": "b451ece4d06e4f5d9e690325270e7430",
       "version_major": 2,
       "version_minor": 0
      },
      "text/plain": [
       "files progressive:   0%|          | 0/50 [00:00<?, ?it/s]"
      ]
     },
     "metadata": {},
     "output_type": "display_data"
    },
    {
     "name": "stdout",
     "output_type": "stream",
     "text": [
      "SYMBOL : SPX | EXPIRE_DATE : 2026-12-18              \r"
     ]
    },
    {
     "data": {
      "application/vnd.jupyter.widget-view+json": {
       "model_id": "9b1d70f7392e4f9ba7230693b924f319",
       "version_major": 2,
       "version_minor": 0
      },
      "text/plain": [
       "files progressive:   0%|          | 0/54 [00:00<?, ?it/s]"
      ]
     },
     "metadata": {},
     "output_type": "display_data"
    },
    {
     "name": "stdout",
     "output_type": "stream",
     "text": [
      "SYMBOL : SPX | EXPIRE_DATE : 2026-12-18              \r"
     ]
    },
    {
     "data": {
      "application/vnd.jupyter.widget-view+json": {
       "model_id": "8d106d78abbd4321a14ff814ad7d755b",
       "version_major": 2,
       "version_minor": 0
      },
      "text/plain": [
       "files progressive:   0%|          | 0/54 [00:00<?, ?it/s]"
      ]
     },
     "metadata": {},
     "output_type": "display_data"
    },
    {
     "name": "stdout",
     "output_type": "stream",
     "text": [
      "SYMBOL : SPX | EXPIRE_DATE : 2026-12-18              \r"
     ]
    },
    {
     "data": {
      "application/vnd.jupyter.widget-view+json": {
       "model_id": "34bae14b831f4e0f8e8591213a9b8285",
       "version_major": 2,
       "version_minor": 0
      },
      "text/plain": [
       "files progressive:   0%|          | 0/62 [00:00<?, ?it/s]"
      ]
     },
     "metadata": {},
     "output_type": "display_data"
    },
    {
     "name": "stdout",
     "output_type": "stream",
     "text": [
      "SYMBOL : SPX | EXPIRE_DATE : 2026-12-18              \r"
     ]
    },
    {
     "data": {
      "application/vnd.jupyter.widget-view+json": {
       "model_id": "b483a5d0ef7f4db3a7c2dfb717014173",
       "version_major": 2,
       "version_minor": 0
      },
      "text/plain": [
       "files progressive:   0%|          | 0/65 [00:00<?, ?it/s]"
      ]
     },
     "metadata": {},
     "output_type": "display_data"
    },
    {
     "name": "stdout",
     "output_type": "stream",
     "text": [
      "SYMBOL : SPX | EXPIRE_DATE : 2026-12-18              \r"
     ]
    },
    {
     "data": {
      "application/vnd.jupyter.widget-view+json": {
       "model_id": "5e6dfc0a312643a482e4b39de5dbf097",
       "version_major": 2,
       "version_minor": 0
      },
      "text/plain": [
       "files progressive:   0%|          | 0/65 [00:00<?, ?it/s]"
      ]
     },
     "metadata": {},
     "output_type": "display_data"
    },
    {
     "name": "stdout",
     "output_type": "stream",
     "text": [
      "SYMBOL : SPX | EXPIRE_DATE : 2027-12-17              \r"
     ]
    },
    {
     "data": {
      "application/vnd.jupyter.widget-view+json": {
       "model_id": "06cb4f6e93b44705a320ed9eb1f5d672",
       "version_major": 2,
       "version_minor": 0
      },
      "text/plain": [
       "files progressive:   0%|          | 0/65 [00:00<?, ?it/s]"
      ]
     },
     "metadata": {},
     "output_type": "display_data"
    },
    {
     "name": "stdout",
     "output_type": "stream",
     "text": [
      "SYMBOL : SPX | EXPIRE_DATE : 2026-12-18              \r"
     ]
    },
    {
     "data": {
      "application/vnd.jupyter.widget-view+json": {
       "model_id": "25ca2a7ad98d489fb1e3e3ec3304ced2",
       "version_major": 2,
       "version_minor": 0
      },
      "text/plain": [
       "files progressive:   0%|          | 0/71 [00:00<?, ?it/s]"
      ]
     },
     "metadata": {},
     "output_type": "display_data"
    },
    {
     "name": "stdout",
     "output_type": "stream",
     "text": [
      "SYMBOL : SPX | EXPIRE_DATE : 2027-12-17              \r"
     ]
    },
    {
     "data": {
      "application/vnd.jupyter.widget-view+json": {
       "model_id": "aaac4cf5f5204567828b07a95b1dad7d",
       "version_major": 2,
       "version_minor": 0
      },
      "text/plain": [
       "files progressive:   0%|          | 0/69 [00:00<?, ?it/s]"
      ]
     },
     "metadata": {},
     "output_type": "display_data"
    },
    {
     "name": "stdout",
     "output_type": "stream",
     "text": [
      "SYMBOL : SPX | EXPIRE_DATE : 2026-12-18              \r"
     ]
    },
    {
     "data": {
      "application/vnd.jupyter.widget-view+json": {
       "model_id": "51073aa4da3a4c12ba85fd248e38807f",
       "version_major": 2,
       "version_minor": 0
      },
      "text/plain": [
       "files progressive:   0%|          | 0/69 [00:00<?, ?it/s]"
      ]
     },
     "metadata": {},
     "output_type": "display_data"
    },
    {
     "name": "stdout",
     "output_type": "stream",
     "text": [
      "SYMBOL : SPX | EXPIRE_DATE : 2026-12-18              \r"
     ]
    },
    {
     "data": {
      "application/vnd.jupyter.widget-view+json": {
       "model_id": "c56b09904e3b4afbb5df095549ec2765",
       "version_major": 2,
       "version_minor": 0
      },
      "text/plain": [
       "files progressive:   0%|          | 0/71 [00:00<?, ?it/s]"
      ]
     },
     "metadata": {},
     "output_type": "display_data"
    },
    {
     "name": "stdout",
     "output_type": "stream",
     "text": [
      "SYMBOL : SPX | EXPIRE_DATE : 2027-12-17              \r"
     ]
    },
    {
     "data": {
      "application/vnd.jupyter.widget-view+json": {
       "model_id": "c838d734bd8c41c0b8695d7573efd63a",
       "version_major": 2,
       "version_minor": 0
      },
      "text/plain": [
       "files progressive:   0%|          | 0/67 [00:00<?, ?it/s]"
      ]
     },
     "metadata": {},
     "output_type": "display_data"
    },
    {
     "name": "stdout",
     "output_type": "stream",
     "text": [
      "SYMBOL : SPX | EXPIRE_DATE : 2027-12-17              \r"
     ]
    },
    {
     "data": {
      "application/vnd.jupyter.widget-view+json": {
       "model_id": "f4c7acedfaef437e8c9e57462ce8240e",
       "version_major": 2,
       "version_minor": 0
      },
      "text/plain": [
       "files progressive:   0%|          | 0/68 [00:00<?, ?it/s]"
      ]
     },
     "metadata": {},
     "output_type": "display_data"
    },
    {
     "name": "stdout",
     "output_type": "stream",
     "text": [
      "SYMBOL : SPX | EXPIRE_DATE : 2027-12-17              \r"
     ]
    },
    {
     "data": {
      "application/vnd.jupyter.widget-view+json": {
       "model_id": "fbfa1176223945aebfb448ecec6bb9d7",
       "version_major": 2,
       "version_minor": 0
      },
      "text/plain": [
       "files progressive:   0%|          | 0/73 [00:00<?, ?it/s]"
      ]
     },
     "metadata": {},
     "output_type": "display_data"
    },
    {
     "name": "stdout",
     "output_type": "stream",
     "text": [
      "SYMBOL : SPX | EXPIRE_DATE : 2027-12-17              \r"
     ]
    },
    {
     "data": {
      "application/vnd.jupyter.widget-view+json": {
       "model_id": "7ec6ffe3663d4b57b765b99f585a6d48",
       "version_major": 2,
       "version_minor": 0
      },
      "text/plain": [
       "files progressive:   0%|          | 0/67 [00:00<?, ?it/s]"
      ]
     },
     "metadata": {},
     "output_type": "display_data"
    },
    {
     "name": "stdout",
     "output_type": "stream",
     "text": [
      "SYMBOL : SPX | EXPIRE_DATE : 2027-12-17              \r"
     ]
    },
    {
     "data": {
      "application/vnd.jupyter.widget-view+json": {
       "model_id": "f1ef39588d4449a6b445dbbd2a18b25d",
       "version_major": 2,
       "version_minor": 0
      },
      "text/plain": [
       "files progressive:   0%|          | 0/69 [00:00<?, ?it/s]"
      ]
     },
     "metadata": {},
     "output_type": "display_data"
    },
    {
     "name": "stdout",
     "output_type": "stream",
     "text": [
      "SYMBOL : SPX | EXPIRE_DATE : 2027-12-17              \r"
     ]
    },
    {
     "data": {
      "application/vnd.jupyter.widget-view+json": {
       "model_id": "2ba34015da8748f8a63ee78621b4eb7b",
       "version_major": 2,
       "version_minor": 0
      },
      "text/plain": [
       "files progressive:   0%|          | 0/71 [00:00<?, ?it/s]"
      ]
     },
     "metadata": {},
     "output_type": "display_data"
    },
    {
     "name": "stdout",
     "output_type": "stream",
     "text": [
      "SYMBOL : SPX | EXPIRE_DATE : 2028-12-15              \r"
     ]
    },
    {
     "data": {
      "application/vnd.jupyter.widget-view+json": {
       "model_id": "766aedfa59984d14a8dbd63da8261e22",
       "version_major": 2,
       "version_minor": 0
      },
      "text/plain": [
       "files progressive:   0%|          | 0/70 [00:00<?, ?it/s]"
      ]
     },
     "metadata": {},
     "output_type": "display_data"
    },
    {
     "name": "stdout",
     "output_type": "stream",
     "text": [
      "SYMBOL : SPX | EXPIRE_DATE : 2028-12-15              \r"
     ]
    },
    {
     "data": {
      "application/vnd.jupyter.widget-view+json": {
       "model_id": "d02a0a055a6f4821b40c34dbcef6163f",
       "version_major": 2,
       "version_minor": 0
      },
      "text/plain": [
       "files progressive:   0%|          | 0/71 [00:00<?, ?it/s]"
      ]
     },
     "metadata": {},
     "output_type": "display_data"
    },
    {
     "name": "stdout",
     "output_type": "stream",
     "text": [
      "SYMBOL : SPX | EXPIRE_DATE : 2027-12-17              \r"
     ]
    },
    {
     "data": {
      "application/vnd.jupyter.widget-view+json": {
       "model_id": "117535d559064281ab22fe50f9516884",
       "version_major": 2,
       "version_minor": 0
      },
      "text/plain": [
       "files progressive:   0%|          | 0/74 [00:00<?, ?it/s]"
      ]
     },
     "metadata": {},
     "output_type": "display_data"
    },
    {
     "name": "stdout",
     "output_type": "stream",
     "text": [
      "SYMBOL : SPX | EXPIRE_DATE : 2028-12-15              \r"
     ]
    },
    {
     "data": {
      "application/vnd.jupyter.widget-view+json": {
       "model_id": "47df1eb001c8497a9e7d82a0aa59ec2b",
       "version_major": 2,
       "version_minor": 0
      },
      "text/plain": [
       "files progressive:   0%|          | 0/30 [00:00<?, ?it/s]"
      ]
     },
     "metadata": {},
     "output_type": "display_data"
    },
    {
     "name": "stdout",
     "output_type": "stream",
     "text": [
      "SYMBOL : SPX | EXPIRE_DATE : 2018-12-21              \r"
     ]
    },
    {
     "data": {
      "application/vnd.jupyter.widget-view+json": {
       "model_id": "2b820b341cfa4aaf85ba338b89c87445",
       "version_major": 2,
       "version_minor": 0
      },
      "text/plain": [
       "files progressive:   0%|          | 0/32 [00:00<?, ?it/s]"
      ]
     },
     "metadata": {},
     "output_type": "display_data"
    },
    {
     "name": "stdout",
     "output_type": "stream",
     "text": [
      "SYMBOL : SPX | EXPIRE_DATE : 2018-12-21              \r"
     ]
    },
    {
     "data": {
      "application/vnd.jupyter.widget-view+json": {
       "model_id": "dd659f32485d421db5ec888c81f3731c",
       "version_major": 2,
       "version_minor": 0
      },
      "text/plain": [
       "files progressive:   0%|          | 0/40 [00:00<?, ?it/s]"
      ]
     },
     "metadata": {},
     "output_type": "display_data"
    },
    {
     "name": "stdout",
     "output_type": "stream",
     "text": [
      "SYMBOL : SPX | EXPIRE_DATE : 2018-12-21              \r"
     ]
    },
    {
     "data": {
      "application/vnd.jupyter.widget-view+json": {
       "model_id": "97ccd6352e194c3694070042a524276d",
       "version_major": 2,
       "version_minor": 0
      },
      "text/plain": [
       "files progressive:   0%|          | 0/37 [00:00<?, ?it/s]"
      ]
     },
     "metadata": {},
     "output_type": "display_data"
    },
    {
     "name": "stdout",
     "output_type": "stream",
     "text": [
      "SYMBOL : SPX | EXPIRE_DATE : 2018-12-21              \r"
     ]
    },
    {
     "data": {
      "application/vnd.jupyter.widget-view+json": {
       "model_id": "b9c953d6bf894721963be42b5a2e51a4",
       "version_major": 2,
       "version_minor": 0
      },
      "text/plain": [
       "files progressive:   0%|          | 0/36 [00:00<?, ?it/s]"
      ]
     },
     "metadata": {},
     "output_type": "display_data"
    },
    {
     "name": "stdout",
     "output_type": "stream",
     "text": [
      "SYMBOL : SPX | EXPIRE_DATE : 2018-12-21              \r"
     ]
    },
    {
     "data": {
      "application/vnd.jupyter.widget-view+json": {
       "model_id": "2edabb9512ec49c389ac455b8fc8d66f",
       "version_major": 2,
       "version_minor": 0
      },
      "text/plain": [
       "files progressive:   0%|          | 0/40 [00:00<?, ?it/s]"
      ]
     },
     "metadata": {},
     "output_type": "display_data"
    },
    {
     "name": "stdout",
     "output_type": "stream",
     "text": [
      "SYMBOL : SPX | EXPIRE_DATE : 2018-12-21              \r"
     ]
    },
    {
     "data": {
      "application/vnd.jupyter.widget-view+json": {
       "model_id": "cdaf8ddef0dd4acc82c2799d1b0ca65f",
       "version_major": 2,
       "version_minor": 0
      },
      "text/plain": [
       "files progressive:   0%|          | 0/37 [00:00<?, ?it/s]"
      ]
     },
     "metadata": {},
     "output_type": "display_data"
    },
    {
     "name": "stdout",
     "output_type": "stream",
     "text": [
      "SYMBOL : SPX | EXPIRE_DATE : 2018-12-21              \r"
     ]
    },
    {
     "data": {
      "application/vnd.jupyter.widget-view+json": {
       "model_id": "be704eee752b411ca0628aedec8fe655",
       "version_major": 2,
       "version_minor": 0
      },
      "text/plain": [
       "files progressive:   0%|          | 0/40 [00:00<?, ?it/s]"
      ]
     },
     "metadata": {},
     "output_type": "display_data"
    },
    {
     "name": "stdout",
     "output_type": "stream",
     "text": [
      "SYMBOL : SPX | EXPIRE_DATE : 2018-12-21              \r"
     ]
    },
    {
     "data": {
      "application/vnd.jupyter.widget-view+json": {
       "model_id": "ad82fb4ad8c7486d9e58e903a913cf2f",
       "version_major": 2,
       "version_minor": 0
      },
      "text/plain": [
       "files progressive:   0%|          | 0/46 [00:00<?, ?it/s]"
      ]
     },
     "metadata": {},
     "output_type": "display_data"
    },
    {
     "name": "stdout",
     "output_type": "stream",
     "text": [
      "SYMBOL : SPX | EXPIRE_DATE : 2018-12-21              \r"
     ]
    },
    {
     "data": {
      "application/vnd.jupyter.widget-view+json": {
       "model_id": "1bbba5ec2259439f82acdf7aabb7b9b6",
       "version_major": 2,
       "version_minor": 0
      },
      "text/plain": [
       "files progressive:   0%|          | 0/45 [00:00<?, ?it/s]"
      ]
     },
     "metadata": {},
     "output_type": "display_data"
    },
    {
     "name": "stdout",
     "output_type": "stream",
     "text": [
      "SYMBOL : SPX | EXPIRE_DATE : 2018-12-21              \r"
     ]
    },
    {
     "data": {
      "application/vnd.jupyter.widget-view+json": {
       "model_id": "7326abd5cc0b4717aa1b3c40951496d5",
       "version_major": 2,
       "version_minor": 0
      },
      "text/plain": [
       "files progressive:   0%|          | 0/44 [00:00<?, ?it/s]"
      ]
     },
     "metadata": {},
     "output_type": "display_data"
    },
    {
     "name": "stdout",
     "output_type": "stream",
     "text": [
      "SYMBOL : SPX | EXPIRE_DATE : 2018-12-21              \r"
     ]
    },
    {
     "data": {
      "application/vnd.jupyter.widget-view+json": {
       "model_id": "531e87a898e1421985477290c72ed22f",
       "version_major": 2,
       "version_minor": 0
      },
      "text/plain": [
       "files progressive:   0%|          | 0/48 [00:00<?, ?it/s]"
      ]
     },
     "metadata": {},
     "output_type": "display_data"
    },
    {
     "name": "stdout",
     "output_type": "stream",
     "text": [
      "SYMBOL : SPX | EXPIRE_DATE : 2019-12-20              \r"
     ]
    },
    {
     "data": {
      "application/vnd.jupyter.widget-view+json": {
       "model_id": "30642d5cf11742efa5e65555d618895d",
       "version_major": 2,
       "version_minor": 0
      },
      "text/plain": [
       "files progressive:   0%|          | 0/49 [00:00<?, ?it/s]"
      ]
     },
     "metadata": {},
     "output_type": "display_data"
    },
    {
     "name": "stdout",
     "output_type": "stream",
     "text": [
      "SYMBOL : SPX | EXPIRE_DATE : 2020-12-18              \r"
     ]
    },
    {
     "data": {
      "application/vnd.jupyter.widget-view+json": {
       "model_id": "45ff7bd4b2b0454e943be6199bc85932",
       "version_major": 2,
       "version_minor": 0
      },
      "text/plain": [
       "files progressive:   0%|          | 0/47 [00:00<?, ?it/s]"
      ]
     },
     "metadata": {},
     "output_type": "display_data"
    },
    {
     "name": "stdout",
     "output_type": "stream",
     "text": [
      "SYMBOL : SPX | EXPIRE_DATE : 2020-12-18              \r"
     ]
    },
    {
     "data": {
      "application/vnd.jupyter.widget-view+json": {
       "model_id": "147834f9de4f4bb8b38d244a9ecd5dd3",
       "version_major": 2,
       "version_minor": 0
      },
      "text/plain": [
       "files progressive:   0%|          | 0/49 [00:00<?, ?it/s]"
      ]
     },
     "metadata": {},
     "output_type": "display_data"
    },
    {
     "name": "stdout",
     "output_type": "stream",
     "text": [
      "SYMBOL : SPX | EXPIRE_DATE : 2020-12-18              \r"
     ]
    },
    {
     "data": {
      "application/vnd.jupyter.widget-view+json": {
       "model_id": "5083c4bba7334c6682f1b195a795459e",
       "version_major": 2,
       "version_minor": 0
      },
      "text/plain": [
       "files progressive:   0%|          | 0/48 [00:00<?, ?it/s]"
      ]
     },
     "metadata": {},
     "output_type": "display_data"
    },
    {
     "name": "stdout",
     "output_type": "stream",
     "text": [
      "SYMBOL : SPX | EXPIRE_DATE : 2020-12-18              \r"
     ]
    },
    {
     "data": {
      "application/vnd.jupyter.widget-view+json": {
       "model_id": "67997edd643646d2a8a96cad9b345279",
       "version_major": 2,
       "version_minor": 0
      },
      "text/plain": [
       "files progressive:   0%|          | 0/49 [00:00<?, ?it/s]"
      ]
     },
     "metadata": {},
     "output_type": "display_data"
    },
    {
     "name": "stdout",
     "output_type": "stream",
     "text": [
      "SYMBOL : SPX | EXPIRE_DATE : 2020-12-18              \r"
     ]
    },
    {
     "data": {
      "application/vnd.jupyter.widget-view+json": {
       "model_id": "f689374c95cd40d1936edfb11c028996",
       "version_major": 2,
       "version_minor": 0
      },
      "text/plain": [
       "files progressive:   0%|          | 0/51 [00:00<?, ?it/s]"
      ]
     },
     "metadata": {},
     "output_type": "display_data"
    },
    {
     "name": "stdout",
     "output_type": "stream",
     "text": [
      "SYMBOL : SPX | EXPIRE_DATE : 2020-12-18              \r"
     ]
    },
    {
     "data": {
      "application/vnd.jupyter.widget-view+json": {
       "model_id": "64d4241460364c0b9af087caa904ec5b",
       "version_major": 2,
       "version_minor": 0
      },
      "text/plain": [
       "files progressive:   0%|          | 0/51 [00:00<?, ?it/s]"
      ]
     },
     "metadata": {},
     "output_type": "display_data"
    },
    {
     "name": "stdout",
     "output_type": "stream",
     "text": [
      "SYMBOL : SPX | EXPIRE_DATE : 2020-12-18              \r"
     ]
    },
    {
     "data": {
      "application/vnd.jupyter.widget-view+json": {
       "model_id": "06697d12f175417cafadec88210ec270",
       "version_major": 2,
       "version_minor": 0
      },
      "text/plain": [
       "files progressive:   0%|          | 0/50 [00:00<?, ?it/s]"
      ]
     },
     "metadata": {},
     "output_type": "display_data"
    },
    {
     "name": "stdout",
     "output_type": "stream",
     "text": [
      "SYMBOL : SPX | EXPIRE_DATE : 2020-12-18              \r"
     ]
    },
    {
     "data": {
      "application/vnd.jupyter.widget-view+json": {
       "model_id": "3b38097380cb4705b8b7c0c40c4c6bae",
       "version_major": 2,
       "version_minor": 0
      },
      "text/plain": [
       "files progressive:   0%|          | 0/47 [00:00<?, ?it/s]"
      ]
     },
     "metadata": {},
     "output_type": "display_data"
    },
    {
     "name": "stdout",
     "output_type": "stream",
     "text": [
      "SYMBOL : SPX | EXPIRE_DATE : 2020-12-18              \r"
     ]
    },
    {
     "data": {
      "application/vnd.jupyter.widget-view+json": {
       "model_id": "57b2aa7a7f194b3091023e83d026c57a",
       "version_major": 2,
       "version_minor": 0
      },
      "text/plain": [
       "files progressive:   0%|          | 0/49 [00:00<?, ?it/s]"
      ]
     },
     "metadata": {},
     "output_type": "display_data"
    },
    {
     "name": "stdout",
     "output_type": "stream",
     "text": [
      "SYMBOL : SPX | EXPIRE_DATE : 2020-12-18              \r"
     ]
    },
    {
     "data": {
      "application/vnd.jupyter.widget-view+json": {
       "model_id": "ac01f2a6c80c472786d95f18dd511fca",
       "version_major": 2,
       "version_minor": 0
      },
      "text/plain": [
       "files progressive:   0%|          | 0/47 [00:00<?, ?it/s]"
      ]
     },
     "metadata": {},
     "output_type": "display_data"
    },
    {
     "name": "stdout",
     "output_type": "stream",
     "text": [
      "SYMBOL : SPX | EXPIRE_DATE : 2020-12-18              \r"
     ]
    },
    {
     "data": {
      "application/vnd.jupyter.widget-view+json": {
       "model_id": "b5cdd71a58f4496e94d0c807cfdd3217",
       "version_major": 2,
       "version_minor": 0
      },
      "text/plain": [
       "files progressive:   0%|          | 0/51 [00:00<?, ?it/s]"
      ]
     },
     "metadata": {},
     "output_type": "display_data"
    },
    {
     "name": "stdout",
     "output_type": "stream",
     "text": [
      "SYMBOL : SPX | EXPIRE_DATE : 2021-12-17              \r"
     ]
    },
    {
     "data": {
      "application/vnd.jupyter.widget-view+json": {
       "model_id": "cf9dc61fe4c24d5b9fb8f98c55e8eeaf",
       "version_major": 2,
       "version_minor": 0
      },
      "text/plain": [
       "files progressive:   0%|          | 0/46 [00:00<?, ?it/s]"
      ]
     },
     "metadata": {},
     "output_type": "display_data"
    },
    {
     "name": "stdout",
     "output_type": "stream",
     "text": [
      "SYMBOL : SPX | EXPIRE_DATE : 2023-12-15              \r"
     ]
    },
    {
     "data": {
      "application/vnd.jupyter.widget-view+json": {
       "model_id": "d771b18f22314cd68c5413b133a02986",
       "version_major": 2,
       "version_minor": 0
      },
      "text/plain": [
       "files progressive:   0%|          | 0/45 [00:00<?, ?it/s]"
      ]
     },
     "metadata": {},
     "output_type": "display_data"
    },
    {
     "name": "stdout",
     "output_type": "stream",
     "text": [
      "SYMBOL : SPX | EXPIRE_DATE : 2023-12-15              \r"
     ]
    },
    {
     "data": {
      "application/vnd.jupyter.widget-view+json": {
       "model_id": "f999d6b9b6f646a3b01e7573d37393b4",
       "version_major": 2,
       "version_minor": 0
      },
      "text/plain": [
       "files progressive:   0%|          | 0/51 [00:00<?, ?it/s]"
      ]
     },
     "metadata": {},
     "output_type": "display_data"
    },
    {
     "name": "stdout",
     "output_type": "stream",
     "text": [
      "SYMBOL : SPX | EXPIRE_DATE : 2023-12-15              \r"
     ]
    },
    {
     "data": {
      "application/vnd.jupyter.widget-view+json": {
       "model_id": "64c14042c75249c09abc63a544a69686",
       "version_major": 2,
       "version_minor": 0
      },
      "text/plain": [
       "files progressive:   0%|          | 0/50 [00:00<?, ?it/s]"
      ]
     },
     "metadata": {},
     "output_type": "display_data"
    },
    {
     "name": "stdout",
     "output_type": "stream",
     "text": [
      "SYMBOL : SPX | EXPIRE_DATE : 2023-12-15              \r"
     ]
    },
    {
     "data": {
      "application/vnd.jupyter.widget-view+json": {
       "model_id": "4d106012b76945dd9d2dfeeed84c08da",
       "version_major": 2,
       "version_minor": 0
      },
      "text/plain": [
       "files progressive:   0%|          | 0/48 [00:00<?, ?it/s]"
      ]
     },
     "metadata": {},
     "output_type": "display_data"
    },
    {
     "name": "stdout",
     "output_type": "stream",
     "text": [
      "SYMBOL : SPX | EXPIRE_DATE : 2023-12-15              \r"
     ]
    },
    {
     "data": {
      "application/vnd.jupyter.widget-view+json": {
       "model_id": "793f12a0018a40ea8686f401dac2141e",
       "version_major": 2,
       "version_minor": 0
      },
      "text/plain": [
       "files progressive:   0%|          | 0/52 [00:00<?, ?it/s]"
      ]
     },
     "metadata": {},
     "output_type": "display_data"
    },
    {
     "name": "stdout",
     "output_type": "stream",
     "text": [
      "SYMBOL : SPX | EXPIRE_DATE : 2023-12-15              \r"
     ]
    },
    {
     "data": {
      "application/vnd.jupyter.widget-view+json": {
       "model_id": "8f4a608635e941eba3b96c5a08bf645b",
       "version_major": 2,
       "version_minor": 0
      },
      "text/plain": [
       "files progressive:   0%|          | 0/50 [00:00<?, ?it/s]"
      ]
     },
     "metadata": {},
     "output_type": "display_data"
    },
    {
     "name": "stdout",
     "output_type": "stream",
     "text": [
      "SYMBOL : SPX | EXPIRE_DATE : 2021-12-17              \r"
     ]
    },
    {
     "data": {
      "application/vnd.jupyter.widget-view+json": {
       "model_id": "f45257acfe6747d9b53c3b1aed5b20ec",
       "version_major": 2,
       "version_minor": 0
      },
      "text/plain": [
       "files progressive:   0%|          | 0/48 [00:00<?, ?it/s]"
      ]
     },
     "metadata": {},
     "output_type": "display_data"
    },
    {
     "name": "stdout",
     "output_type": "stream",
     "text": [
      "SYMBOL : SPX | EXPIRE_DATE : 2021-12-17              \r"
     ]
    },
    {
     "data": {
      "application/vnd.jupyter.widget-view+json": {
       "model_id": "13c427d6abb44c8f9f37c7f64a93ea5c",
       "version_major": 2,
       "version_minor": 0
      },
      "text/plain": [
       "files progressive:   0%|          | 0/47 [00:00<?, ?it/s]"
      ]
     },
     "metadata": {},
     "output_type": "display_data"
    },
    {
     "name": "stdout",
     "output_type": "stream",
     "text": [
      "SYMBOL : SPX | EXPIRE_DATE : 2021-12-17              \r"
     ]
    },
    {
     "data": {
      "application/vnd.jupyter.widget-view+json": {
       "model_id": "f886d504908c44d79b0a937e0b24448b",
       "version_major": 2,
       "version_minor": 0
      },
      "text/plain": [
       "files progressive:   0%|          | 0/77 [00:00<?, ?it/s]"
      ]
     },
     "metadata": {},
     "output_type": "display_data"
    },
    {
     "name": "stdout",
     "output_type": "stream",
     "text": [
      "SYMBOL : SPX | EXPIRE_DATE : 2021-12-17              \r"
     ]
    },
    {
     "data": {
      "application/vnd.jupyter.widget-view+json": {
       "model_id": "661c8728b4d34a7a8a00e5ab1dda1cbc",
       "version_major": 2,
       "version_minor": 0
      },
      "text/plain": [
       "files progressive:   0%|          | 0/50 [00:00<?, ?it/s]"
      ]
     },
     "metadata": {},
     "output_type": "display_data"
    },
    {
     "name": "stdout",
     "output_type": "stream",
     "text": [
      "SYMBOL : SPX | EXPIRE_DATE : 2021-12-17              \r"
     ]
    },
    {
     "data": {
      "application/vnd.jupyter.widget-view+json": {
       "model_id": "03357272853d467e8d36a42028eeb607",
       "version_major": 2,
       "version_minor": 0
      },
      "text/plain": [
       "files progressive:   0%|          | 0/49 [00:00<?, ?it/s]"
      ]
     },
     "metadata": {},
     "output_type": "display_data"
    },
    {
     "name": "stdout",
     "output_type": "stream",
     "text": [
      "SYMBOL : SPX | EXPIRE_DATE : 2021-12-17              \r"
     ]
    },
    {
     "data": {
      "application/vnd.jupyter.widget-view+json": {
       "model_id": "d634d1ba5ca5418d8a6ebb757939d8d8",
       "version_major": 2,
       "version_minor": 0
      },
      "text/plain": [
       "files progressive:   0%|          | 0/49 [00:00<?, ?it/s]"
      ]
     },
     "metadata": {},
     "output_type": "display_data"
    },
    {
     "name": "stdout",
     "output_type": "stream",
     "text": [
      "SYMBOL : SPX | EXPIRE_DATE : 2021-12-17              \r"
     ]
    },
    {
     "data": {
      "application/vnd.jupyter.widget-view+json": {
       "model_id": "41b53d2acf514f82a1d729e5b3338617",
       "version_major": 2,
       "version_minor": 0
      },
      "text/plain": [
       "files progressive:   0%|          | 0/48 [00:00<?, ?it/s]"
      ]
     },
     "metadata": {},
     "output_type": "display_data"
    },
    {
     "name": "stdout",
     "output_type": "stream",
     "text": [
      "SYMBOL : SPX | EXPIRE_DATE : 2021-12-17              \r"
     ]
    },
    {
     "data": {
      "application/vnd.jupyter.widget-view+json": {
       "model_id": "04c2563bef0245c19fd6080820c8ecb1",
       "version_major": 2,
       "version_minor": 0
      },
      "text/plain": [
       "files progressive:   0%|          | 0/50 [00:00<?, ?it/s]"
      ]
     },
     "metadata": {},
     "output_type": "display_data"
    },
    {
     "name": "stdout",
     "output_type": "stream",
     "text": [
      "SYMBOL : SPX | EXPIRE_DATE : 2021-12-17              \r"
     ]
    },
    {
     "data": {
      "application/vnd.jupyter.widget-view+json": {
       "model_id": "a2bc356b740744058b8f999bfd0dcde8",
       "version_major": 2,
       "version_minor": 0
      },
      "text/plain": [
       "files progressive:   0%|          | 0/52 [00:00<?, ?it/s]"
      ]
     },
     "metadata": {},
     "output_type": "display_data"
    },
    {
     "name": "stdout",
     "output_type": "stream",
     "text": [
      "SYMBOL : SPX | EXPIRE_DATE : 2021-12-17              \r"
     ]
    },
    {
     "data": {
      "application/vnd.jupyter.widget-view+json": {
       "model_id": "8af09f918a8846779bfd967a1c5ef84c",
       "version_major": 2,
       "version_minor": 0
      },
      "text/plain": [
       "files progressive:   0%|          | 0/51 [00:00<?, ?it/s]"
      ]
     },
     "metadata": {},
     "output_type": "display_data"
    },
    {
     "name": "stdout",
     "output_type": "stream",
     "text": [
      "SYMBOL : SPX | EXPIRE_DATE : 2021-12-17              \r"
     ]
    },
    {
     "data": {
      "application/vnd.jupyter.widget-view+json": {
       "model_id": "042cdcca11fc4c9e85f55a2b062edcb9",
       "version_major": 2,
       "version_minor": 0
      },
      "text/plain": [
       "files progressive:   0%|          | 0/53 [00:00<?, ?it/s]"
      ]
     },
     "metadata": {},
     "output_type": "display_data"
    },
    {
     "name": "stdout",
     "output_type": "stream",
     "text": [
      "SYMBOL : SPX | EXPIRE_DATE : 2022-12-16              \r"
     ]
    },
    {
     "data": {
      "application/vnd.jupyter.widget-view+json": {
       "model_id": "4137e45ebffd422dad8fc5f114de60b7",
       "version_major": 2,
       "version_minor": 0
      },
      "text/plain": [
       "files progressive:   0%|          | 0/52 [00:00<?, ?it/s]"
      ]
     },
     "metadata": {},
     "output_type": "display_data"
    },
    {
     "name": "stdout",
     "output_type": "stream",
     "text": [
      "SYMBOL : SPX | EXPIRE_DATE : 2022-12-16              \r"
     ]
    },
    {
     "data": {
      "application/vnd.jupyter.widget-view+json": {
       "model_id": "103200d7a46d4e3a9a96d0c23299cd11",
       "version_major": 2,
       "version_minor": 0
      },
      "text/plain": [
       "files progressive:   0%|          | 0/51 [00:00<?, ?it/s]"
      ]
     },
     "metadata": {},
     "output_type": "display_data"
    },
    {
     "name": "stdout",
     "output_type": "stream",
     "text": [
      "SYMBOL : SPX | EXPIRE_DATE : 2022-12-16              \r"
     ]
    },
    {
     "data": {
      "application/vnd.jupyter.widget-view+json": {
       "model_id": "c5ea2eab207d4d419f6b2ec47bff2fa4",
       "version_major": 2,
       "version_minor": 0
      },
      "text/plain": [
       "files progressive:   0%|          | 0/50 [00:00<?, ?it/s]"
      ]
     },
     "metadata": {},
     "output_type": "display_data"
    },
    {
     "name": "stdout",
     "output_type": "stream",
     "text": [
      "SYMBOL : SPX | EXPIRE_DATE : 2022-12-16              \r"
     ]
    },
    {
     "data": {
      "application/vnd.jupyter.widget-view+json": {
       "model_id": "3621949efbb34826b03de1b7cca7403e",
       "version_major": 2,
       "version_minor": 0
      },
      "text/plain": [
       "files progressive:   0%|          | 0/48 [00:00<?, ?it/s]"
      ]
     },
     "metadata": {},
     "output_type": "display_data"
    },
    {
     "name": "stdout",
     "output_type": "stream",
     "text": [
      "SYMBOL : SPX | EXPIRE_DATE : 2022-12-16              \r"
     ]
    },
    {
     "data": {
      "application/vnd.jupyter.widget-view+json": {
       "model_id": "dbcb9a92e6304e59819a08b935394cc2",
       "version_major": 2,
       "version_minor": 0
      },
      "text/plain": [
       "files progressive:   0%|          | 0/46 [00:00<?, ?it/s]"
      ]
     },
     "metadata": {},
     "output_type": "display_data"
    },
    {
     "name": "stdout",
     "output_type": "stream",
     "text": [
      "SYMBOL : SPX | EXPIRE_DATE : 2022-12-16              \r"
     ]
    },
    {
     "data": {
      "application/vnd.jupyter.widget-view+json": {
       "model_id": "68cb970cf8dd498a87dcae455dd85e60",
       "version_major": 2,
       "version_minor": 0
      },
      "text/plain": [
       "files progressive:   0%|          | 0/49 [00:00<?, ?it/s]"
      ]
     },
     "metadata": {},
     "output_type": "display_data"
    },
    {
     "name": "stdout",
     "output_type": "stream",
     "text": [
      "SYMBOL : SPX | EXPIRE_DATE : 2022-12-16              \r"
     ]
    },
    {
     "data": {
      "application/vnd.jupyter.widget-view+json": {
       "model_id": "fac84318293d4a51a9290bfc88997c0f",
       "version_major": 2,
       "version_minor": 0
      },
      "text/plain": [
       "files progressive:   0%|          | 0/46 [00:00<?, ?it/s]"
      ]
     },
     "metadata": {},
     "output_type": "display_data"
    },
    {
     "name": "stdout",
     "output_type": "stream",
     "text": [
      "SYMBOL : SPX | EXPIRE_DATE : 2022-12-16              \r"
     ]
    },
    {
     "data": {
      "application/vnd.jupyter.widget-view+json": {
       "model_id": "f48718dea7e54c92813b34909ee9a88d",
       "version_major": 2,
       "version_minor": 0
      },
      "text/plain": [
       "files progressive:   0%|          | 0/47 [00:00<?, ?it/s]"
      ]
     },
     "metadata": {},
     "output_type": "display_data"
    },
    {
     "name": "stdout",
     "output_type": "stream",
     "text": [
      "SYMBOL : SPX | EXPIRE_DATE : 2022-12-16              \r"
     ]
    },
    {
     "data": {
      "application/vnd.jupyter.widget-view+json": {
       "model_id": "486477c68da649d29c686a18c822479f",
       "version_major": 2,
       "version_minor": 0
      },
      "text/plain": [
       "files progressive:   0%|          | 0/47 [00:00<?, ?it/s]"
      ]
     },
     "metadata": {},
     "output_type": "display_data"
    },
    {
     "name": "stdout",
     "output_type": "stream",
     "text": [
      "SYMBOL : SPX | EXPIRE_DATE : 2022-12-16              \r"
     ]
    },
    {
     "data": {
      "application/vnd.jupyter.widget-view+json": {
       "model_id": "e06a73c250f3439eb6ba7d343fb1a829",
       "version_major": 2,
       "version_minor": 0
      },
      "text/plain": [
       "files progressive:   0%|          | 0/44 [00:00<?, ?it/s]"
      ]
     },
     "metadata": {},
     "output_type": "display_data"
    },
    {
     "name": "stdout",
     "output_type": "stream",
     "text": [
      "SYMBOL : SPX | EXPIRE_DATE : 2022-12-16              \r"
     ]
    },
    {
     "data": {
      "application/vnd.jupyter.widget-view+json": {
       "model_id": "534e8c286b6e44169c8eea98524826e2",
       "version_major": 2,
       "version_minor": 0
      },
      "text/plain": [
       "files progressive:   0%|          | 0/44 [00:00<?, ?it/s]"
      ]
     },
     "metadata": {},
     "output_type": "display_data"
    },
    {
     "name": "stdout",
     "output_type": "stream",
     "text": [
      "SYMBOL : SPX | EXPIRE_DATE : 2022-12-16              \r"
     ]
    },
    {
     "data": {
      "application/vnd.jupyter.widget-view+json": {
       "model_id": "345578de15a441549453198970329774",
       "version_major": 2,
       "version_minor": 0
      },
      "text/plain": [
       "files progressive:   0%|          | 0/49 [00:00<?, ?it/s]"
      ]
     },
     "metadata": {},
     "output_type": "display_data"
    },
    {
     "name": "stdout",
     "output_type": "stream",
     "text": [
      "SYMBOL : SPX | EXPIRE_DATE : 2023-12-15              \r"
     ]
    }
   ],
   "source": [
    "\n",
    "    for d_i,d in enumerate( os.listdir(CSV_PATH) ):\n",
    "        print(f\"[{d_i}/{len(os.listdir(CSV_PATH))}] : {d}                           \" ,end='\\r')\n",
    "        print()\n",
    "        ### tqdm_notebook\n",
    "        for f_i,f in enumerate( tqdm(os.listdir(CSV_PATH+f\"{d}/\"),position = 0  ) ):\n",
    "        #for f_i,f in enumerate( os.listdir(CSV_PATH+f\"{d}/\")[:20] ):\n",
    "            \n",
    "            DATA = pd.DataFrame([],columns=OTHER_COL+SCALER_COL)\n",
    "            if f.endswith(\".txt\") :#or f.endswith(\".csv\"):\n",
    "                ## load\n",
    "                #print( f\"[LOAD] : {CSV_PATH}{d}/{f}        \",end='\\r')\n",
    "                EOD_CSV = pd.read_csv(CSV_PATH+f\"{d}/\"+f, low_memory=False)\n",
    "                    \n",
    "                ## rename col.\n",
    "                for c in EOD_CSV.columns:\n",
    "                    EOD_CSV = EOD_CSV.rename( columns={ c:c.strip().replace(']','').replace('[','') } )\n",
    "\n",
    "                ## add INTRINSIC_VALUE\n",
    "                EOD_CSV['INTRINSIC_VALUE'] = EOD_CSV['UNDERLYING_LAST'] - EOD_CSV['STRIKE']\n",
    "                \n",
    "                ## add symbol \n",
    "                EOD_CSV['SYMBOL'] = d.upper()                \n",
    "                ## fillnafillna\n",
    "                EOD_CSV['P_VOLUME'] = EOD_CSV['P_VOLUME'].fillna(0)\n",
    "                EOD_CSV['C_VOLUME'] = EOD_CSV['C_VOLUME'].fillna(0)\n",
    "                EOD_CSV = EOD_CSV.dropna(subset=SCALER_COL)\n",
    "            \n",
    "                \n",
    "                # date columns convert to datetime\n",
    "                for c in [\"QUOTE_READTIME\",\"QUOTE_DATE\",\"EXPIRE_DATE\"]:\n",
    "                    EOD_CSV[c] = pd.to_datetime(EOD_CSV[c])\n",
    "                \n",
    "                \n",
    "                #clean float data\n",
    "                for c in ['INTRINSIC_VALUE','C_DELTA','C_GAMMA','C_VEGA','C_THETA','C_RHO','C_IV','C_VOLUME','C_LAST','C_BID','C_ASK','STRIKE','P_BID','P_ASK','P_LAST','P_DELTA','P_GAMMA','P_VEGA','P_THETA','P_RHO','P_IV','P_VOLUME','STRIKE_DISTANCE','STRIKE_DISTANCE_PCT']:\n",
    "                    if EOD_CSV[c].dtype not in ( 'float32','float64'):\n",
    "                        EOD_CSV[c] = EOD_CSV[c].apply(str)\n",
    "                        EOD_CSV[c] = EOD_CSV[c].apply(lambda x: x.strip())\n",
    "                        EOD_CSV[c] = EOD_CSV[c].replace('', np.nan).fillna(np.nan)\n",
    "                        EOD_CSV[c] = EOD_CSV[c].astype('float64')\n",
    "                    if EOD_CSV[c].dtype == 'float32':\n",
    "                        EOD_CSV[c] = EOD_CSV[c].astype('float64')\n",
    "                        \n",
    "                # REMAIN_DAYS(int) =>  use DTE col.\n",
    "                EOD_CSV.sort_values(['QUOTE_DATE','EXPIRE_DATE','SYMBOL','STRIKE'],ascending =False ) \n",
    "\n",
    "                #==== for each EXPIRE_DATE , SYMBOL\n",
    "                keys_item = EOD_CSV[UNIQUE_KEYS].sort_values(by=UNIQUE_KEYS).drop_duplicates()\n",
    "                #for j,v in tqdm(keys_item.iterrows(),desc = 'files progressive',position = 1,total=len(keys_item)  ):\n",
    "                for j,v in keys_item.iterrows():\n",
    "                    print(f\"SYMBOL : {v['SYMBOL']} | EXPIRE_DATE : {str(v['EXPIRE_DATE'])[:10]}              \" ,end='\\r')\n",
    "\n",
    "                    debug = {}\n",
    "                    debug['symbo'] = v['SYMBOL']\n",
    "                    debug['exdate'] = v['EXPIRE_DATE']\n",
    "                \n",
    "                    df_Item=EOD_CSV[(EOD_CSV['SYMBOL'] == v['SYMBOL']) & (EOD_CSV['EXPIRE_DATE'] == v['EXPIRE_DATE']) ]\n",
    "                    keys_quote = df_Item[['QUOTE_DATE']].sort_values(by=['QUOTE_DATE']).drop_duplicates()[:]\n",
    "                #====/===== for each QUOTE_DATE\n",
    "                    for k,q_v in keys_quote.iterrows():\n",
    "                        #print(f\"\"\"[{f_i}/{len(os.listdir(CSV_PATH+f\"{d}/\"))}] :{v['SYMBOL']} | {v['EXPIRE_DATE']} | {k}                      \"\"\" ,end='\\r')\n",
    "                        \n",
    "                        if q_v['QUOTE_DATE'] < (v['EXPIRE_DATE'] - pd.DateOffset(months=3)):\n",
    "                            #get path only 3 month\n",
    "                            break\n",
    "                        df_filter =df_Item[(df_Item['QUOTE_DATE'] == q_v['QUOTE_DATE']) ]\n",
    "                        debug['size'] = len(df_filter) \n",
    "                        options_id = (str(v['SYMBOL'])+str(v['EXPIRE_DATE'])[:10]+str(q_v['QUOTE_DATE'])[:10]).replace(\"-\",'')\n",
    "                        if len(options_id) < 15:\n",
    "                            print(f\"\"\"ERROR : {CSV_PATH+{d}/{f}} {v['SYMBOL']}-{v['EXPIRE_DATE']}-{q_v['QUOTE_DATE']}\"\"\",end='\\r')\n",
    "                            print()\n",
    "                      \n",
    "                        #break loops : less rows             \n",
    "                        if len(df_filter) < 5 : \n",
    "                            break \n",
    "                        #add memory\n",
    "                        if options_id not in [*options_qoute.keys()]:\n",
    "                            options_qoute[options_id] = {}\n",
    "                            options_qoute[options_id]['start_price'] = df_filter['UNDERLYING_LAST'].values[0]\n",
    "                            options_qoute[options_id]['strike'] = df_filter[ df_filter['INTRINSIC_VALUE'].abs().isin(df_filter['INTRINSIC_VALUE'].abs().sort_values()[:MAX_OPTIONS_LEN]) ]['STRIKE'].values\n",
    "                            options_qoute[options_id]['exp'] = df_filter['EXPIRE_DATE'].values[0]\n",
    "                        \n",
    "                        #rm index max : MAX_OPTIONS_LEN\n",
    "                        #may be initstrike out of scope\n",
    "                        rm_strike_index = df_filter[ ~df_filter['STRIKE'].isin(options_qoute[options_id]['strike']) ].index\n",
    "                        df_filter = df_filter.drop(rm_strike_index)\n",
    "\n",
    "                        #break loops : after rm strike index           \n",
    "                        if len(df_filter) < 5 : \n",
    "                            break\n",
    "\n",
    "                        fix_values=df_filter[['QUOTE_UNIXTIME','QUOTE_READTIME','QUOTE_DATE','QUOTE_TIME_HOURS','UNDERLYING_LAST','EXPIRE_DATE','EXPIRE_UNIX','DTE','SYMBOL']].values[0]\n",
    "                        #set zero \n",
    "              \n",
    "                        strikeZero(df_filter,v,q_v,RM_STRIKE_ )\n",
    "                        #====filed rows to MAX_OPTIONS_LEN\n",
    "                        z = 0\n",
    "                        while len(df_filter) != MAX_OPTIONS_LEN :\n",
    "                            z += 1\n",
    "                            if z > 50: raise \"error\"\n",
    "                            Even= -1\n",
    "                            if (len(df_filter) % 2) == 0:\n",
    "                                Even = 0\n",
    "                            if len(df_filter) < MAX_OPTIONS_LEN :\n",
    "                                zero_row = pd.DataFrame([[0]*len(df_filter.columns)], columns=df_filter.columns)\n",
    "                                if Even==0 :\n",
    "                                    df_filter = pd.concat([df_filter, zero_row], ignore_index=True)\n",
    "                                else:\n",
    "                                    df_filter = pd.concat([zero_row, df_filter], ignore_index=True)\n",
    "                            elif len(df_filter) > MAX_OPTIONS_LEN :\n",
    "                                 df_filter = df_filter.drop(df_filter.index[Even])\n",
    "            \n",
    "                        #filled  0 values with values\n",
    "                        df_filter[['QUOTE_UNIXTIME','QUOTE_READTIME','QUOTE_DATE','QUOTE_TIME_HOURS','UNDERLYING_LAST','EXPIRE_DATE','EXPIRE_UNIX','DTE','SYMBOL']] = fix_values\n",
    "                        \n",
    "                        # append\n",
    "                        if len(df_filter) == MAX_OPTIONS_LEN and np.sum( df_filter[OTHER_COL+SCALER_COL].isna().values ) == 0 :\n",
    "                            #DATA = np.vstack((DATA ,[df_filter[OTHER_COL+SCALER_COL]]))   \n",
    "                            df_filter_reindexed = df_filter.reindex(columns=OTHER_COL+SCALER_COL)\n",
    "                            df_filter_reindexed['QUOTE_INDEX'] = range(1, len(df_filter_reindexed) + 1)\n",
    "                            df_filter_reindexed['OPTIONS_ID'] = options_id\n",
    "                            df_filter_reindexed = df_filter_reindexed.astype(export_dtype)\n",
    "                           \n",
    "                            if len(DATA) :\n",
    "                                DATA = pd.concat([DATA, df_filter_reindexed], ignore_index=True)\n",
    "                            else:\n",
    "                                DATA = df_filter_reindexed\n",
    "\n",
    "                    # #=== clear expire options_qoute\n",
    "                    for qi in list(options_qoute.keys()):\n",
    "                        if options_qoute[qi]['exp'] < q_v['QUOTE_DATE']:\n",
    "                            options_qoute.pop(qi)\n",
    "\n",
    "                    #================= save ===================\n",
    "                    # #==== dicrct save\n",
    "                    # if os.path.exists(PARQUET_PATH):\n",
    "                    #   EOD_CSV.to_parquet(PARQUET_PATH, engine='fastparquet', append=True, partition_cols=['PartitionDate'], index=False )\n",
    "                    # else:\n",
    "                    #   EOD_CSV.to_parquet(PARQUET_PATH, engine='fastparquet' , partition_cols=['PartitionDate'], index=False  )\n",
    "                    # #=== save parquet minio\n",
    "                    con.register('df_table', DATA)\n",
    "                    #parquet_file_path = f\"s3://tensorflow/renforcement/rawdata/{v['SYMBOL']}/\"\n",
    "                    parquet_file_path = f\"data/rawdata/{v['SYMBOL']}/\"\n",
    "                    os.makedirs(parquet_file_path, exist_ok=True)\n",
    "                    with io.capture_output() as captured:\n",
    "                        con.execute(f\"COPY df_table TO '{parquet_file_path}' (FORMAT PARQUET, PARTITION_BY (EXPIRE_UNIX,QUOTE_UNIXTIME), OVERWRITE_OR_IGNORE  TRUE);\")"
   ]
  },
  {
   "cell_type": "code",
   "execution_count": null,
   "metadata": {},
   "outputs": [],
   "source": []
  },
  {
   "cell_type": "code",
   "execution_count": null,
   "metadata": {},
   "outputs": [],
   "source": [
    "================= duckdb loaddata ================"
   ]
  },
  {
   "cell_type": "code",
   "execution_count": null,
   "metadata": {},
   "outputs": [],
   "source": [
    "from minio import Minio\n",
    "# Initialize MinIO client\n",
    "minio_client = Minio(\n",
    "    os.getenv('MINIO_HOST'),  # Change to your MinIO server address\n",
    "    access_key=os.getenv('MINIO_USER'),\n",
    "    secret_key=os.getenv('MINIO_SECRET'),\n",
    "    secure=False  # Use False if not using HTTPS\n",
    ")"
   ]
  },
  {
   "cell_type": "code",
   "execution_count": null,
   "metadata": {},
   "outputs": [],
   "source": [
    "object_list = []\n",
    "for _dir in minio_client.list_objects(BUCKET, prefix='renforcement/rawdata/'):\n",
    "    for file in minio_client.list_objects(BUCKET, prefix=_dir.object_name):\n",
    "        object_list.append(file.object_name)"
   ]
  },
  {
   "cell_type": "code",
   "execution_count": null,
   "metadata": {},
   "outputs": [],
   "source": [
    "rawdata=con.execute(f\"\"\"\n",
    "SELECT * FROM read_parquet('s3://tensorflow/{object_list[0]}');\n",
    "\"\"\").fetchdf()"
   ]
  },
  {
   "cell_type": "code",
   "execution_count": null,
   "metadata": {},
   "outputs": [],
   "source": []
  }
 ],
 "metadata": {
  "kernelspec": {
   "display_name": "Python 3 (ipykernel)",
   "language": "python",
   "name": "python3"
  },
  "language_info": {
   "codemirror_mode": {
    "name": "ipython",
    "version": 3
   },
   "file_extension": ".py",
   "mimetype": "text/x-python",
   "name": "python",
   "nbconvert_exporter": "python",
   "pygments_lexer": "ipython3",
   "version": "3.10.12"
  },
  "vscode": {
   "interpreter": {
    "hash": "4f77a7efb8cf15d18a0cd6bbc71a8985efbc57e2467f435a53ada42728ce0a69"
   }
  }
 },
 "nbformat": 4,
 "nbformat_minor": 4
}
